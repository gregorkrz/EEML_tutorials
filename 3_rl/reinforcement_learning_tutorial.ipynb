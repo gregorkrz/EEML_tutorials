{
  "cells": [
    {
      "cell_type": "markdown",
      "metadata": {
        "id": "dEw2rH-Okh0E"
      },
      "source": [
        "# EEML'25: **Reinforcement Learning** Tutorial\n",
        "---\n",
        "**Authors**:\n",
        "* Miruna Pîslar (mirunapislar@google.com)\n",
        "* Daniele Calandriello (dcalandriello@google.com)\n",
        "\n",
        "Welcome! In this tutorial, we will guide you through the fundamentals of Reinforcement Learning (RL).\n",
        "\n",
        "## Tutorial outline\n",
        "\n",
        "*   **Setup & Installation**\n",
        "    *   Note: Please run this section first to allow time for downloads to complete while you read the theory sections.\n",
        "*   **Intro to Reinforcement Learning**: an overview of the main RL concepts.\n",
        "*   **Practical 1**: build and train an agent from scratch using the **REINFORCE** algorithm.\n",
        "*   **Practical 2 (Advanced)**: explore more powerful algorithms (A2C and PPO) by introducing concepts like value functions, advantage estimation, and entropy. This is an **optional** section for those who finish Practical 1 early or are already familiar with REINFORCE.\n",
        "*   **Practical 3**: learn about **RL*F** (Reinforcement Learning from Feedback) and use it to fine-tune GPT-2 to generate more positive text.\n"
      ]
    },
    {
      "cell_type": "markdown",
      "metadata": {
        "id": "4OocS0YnOyW6"
      },
      "source": [
        "## Setup and library installations\n",
        "---\n",
        "\n",
        "First, let's install the necessary libraries and import them. We will use [gymnasium](https://github.com/Farama-Foundation/Gymnasium) for our environment.\n",
        "\n",
        "For the last part of the tutorial, we will make use of HuggingFace pre-trained models, through [trl](https://github.com/huggingface/trl) and [transformers](https://github.com/huggingface/transformers).\n",
        "\n",
        "❗ Note: While a GPU is not mandatory for this tutorial, we recommend using it for Part 3 to speed up the training. You can do this by clicking `Runtime -> Change runtime type`, and set the hardware accelerator to GPU."
      ]
    },
    {
      "cell_type": "code",
      "execution_count": 1,
      "metadata": {
        "cellView": "form",
        "collapsed": true,
        "id": "JhQA-p-4-QOQ"
      },
      "outputs": [],
      "source": [
        "#@title Downloads.\n",
        "%%capture\n",
        "!pip install trl==0.11.0 fsspec==2023.9.2 gymnasium\n"
      ]
    },
    {
      "cell_type": "code",
      "execution_count": 2,
      "metadata": {
        "id": "S5BLJ_q3-ZEI"
      },
      "outputs": [],
      "source": [
        "#@title Imports & utils.\n",
        "import glob\n",
        "import io\n",
        "import os\n",
        "import base64\n",
        "import time\n",
        "from itertools import count\n",
        "\n",
        "from tqdm.notebook import tqdm\n",
        "import numpy as np\n",
        "import pandas as pd\n",
        "import matplotlib.pyplot as plt\n",
        "tqdm.pandas()\n",
        "\n",
        "# Gymnasium environment and Torch.\n",
        "import gymnasium as gym\n",
        "from gymnasium.wrappers import RecordVideo\n",
        "import torch\n",
        "import torch.nn as nn\n",
        "import torch.nn.functional as F\n",
        "import torch.optim as optim\n",
        "from torch.distributions import Categorical\n",
        "\n",
        "# For HuggingFace pre-trained models.\n",
        "from datasets import load_dataset\n",
        "from transformers import AutoTokenizer, pipeline, GenerationConfig, AutoModelForSequenceClassification\n",
        "from trl import PPOTrainer, PPOConfig, AutoModelForCausalLMWithValueHead, create_reference_model\n",
        "\n",
        "# For visualization\n",
        "import io\n",
        "import glob\n",
        "import base64\n",
        "from IPython.display import HTML\n",
        "from IPython import display as ipythondisplay\n",
        "\n",
        "\n",
        "# A reusable visualization function.\n",
        "def visualise_policy(\n",
        "    policy: nn.Module,\n",
        "    env_id: str = \"CliffWalking-v1\",\n",
        "    max_episode_steps: int = 200,\n",
        "    folder: str = \"./videos\",\n",
        "):\n",
        "    \"\"\"\n",
        "    Renders a video of a policy acting in an environment.\n",
        "\n",
        "    Args:\n",
        "        env_id (str): The ID of the gymnasium environment.\n",
        "        policy (nn.Module): The policy to be visualized.\n",
        "        max_episode_steps (int): The maximum number of steps per episode.\n",
        "        folder (str): The directory to save the video in.\n",
        "    \"\"\"\n",
        "    # Create a new environment for recording.\n",
        "    video_env = gym.make(env_id, render_mode=\"rgb_array\")\n",
        "    recorder_env = RecordVideo(video_env, folder, name_prefix=f\"vis-{env_id}\")\n",
        "\n",
        "    state, _ = recorder_env.reset()\n",
        "    policy.eval() # Set the policy to evaluation mode.\n",
        "\n",
        "    for _ in range(max_episode_steps):\n",
        "        with torch.no_grad(): # No need to track gradients for visualization.\n",
        "            # Handle different state types (int for discrete, numpy for continuous).\n",
        "            if isinstance(state, np.ndarray):\n",
        "                state_tensor = torch.tensor(state, dtype=torch.float32)\n",
        "            else: # Assumes int for discrete environments like CliffWalking.\n",
        "                state_tensor = torch.tensor(state)\n",
        "\n",
        "            # Get action probabilities from the policy.\n",
        "            action_logits = policy(state_tensor)\n",
        "            if isinstance(action_logits, tuple):\n",
        "              action_logits, _ = policy(state_tensor)\n",
        "\n",
        "            action_probs = F.softmax(action_logits, dim=-1)\n",
        "            action = Categorical(action_probs).sample().item()\n",
        "\n",
        "        state, _, terminated, truncated, _ = recorder_env.step(action)\n",
        "        done = terminated or truncated\n",
        "        if done:\n",
        "            break\n",
        "\n",
        "    recorder_env.close()\n",
        "\n",
        "    # Display the video.\n",
        "    mp4list = glob.glob(f'{folder}/*.mp4')\n",
        "    if len(mp4list) > 0:\n",
        "        mp4 = sorted(mp4list, key=os.path.getmtime)[-1]\n",
        "        video = io.open(mp4, 'r+b').read()\n",
        "        encoded = base64.b64encode(video)\n",
        "        ipythondisplay.display(HTML(data=f'''<video alt=\"test\" autoplay\n",
        "                    loop controls style=\"height: 200px;\">\n",
        "                    <source src=\"data:video/mp4;base64,{encoded.decode('ascii')}\" type=\"video/mp4\" />\n",
        "                </video>'''))\n",
        "    else:\n",
        "        print(f\"Could not find video in folder: {folder}\")\n",
        "\n",
        "\n",
        "# Utils for reward shaping.\n",
        "def get_shaped_reward(\n",
        "    env: gym.Env,\n",
        "    original_reward: float,\n",
        "    state: int,\n",
        "    next_state: int,\n",
        "    gamma: float = 0.99,\n",
        "    still_penalty: float = -2.0,\n",
        "    potential_multiplier: float = 5.0,\n",
        ") -> float:\n",
        "    \"\"\"\n",
        "    Calculates a shaped reward to better guide the agent.\n",
        "\n",
        "    Args:\n",
        "        env: Environment instance.\n",
        "        original_reward: Reward received from env.step().\n",
        "        state: Current state (before the action).\n",
        "        next_state: Next state (after the action).\n",
        "        gamma: Discount factor.\n",
        "        still_penalty: Penalty for not changing the state (i.e., inactivity).\n",
        "        potential_multiplier: Factor to amplify the potential-based pull.\n",
        "\n",
        "    Returns:\n",
        "        The newly calculated shaped reward.\n",
        "    \"\"\"\n",
        "    shaped_reward = original_reward\n",
        "    if state == next_state:  # penalty for staying in place.\n",
        "        shaped_reward += still_penalty\n",
        "\n",
        "    unwrapped_env = env.unwrapped\n",
        "    goal_state = unwrapped_env.observation_space.n - 1\n",
        "    goal_pos = np.unravel_index(goal_state, unwrapped_env.shape)\n",
        "\n",
        "    current_pos = np.unravel_index(state, unwrapped_env.shape)\n",
        "    next_pos = np.unravel_index(next_state, unwrapped_env.shape)\n",
        "\n",
        "    dist_to_goal_current = np.linalg.norm(np.array(current_pos) - np.array(goal_pos))\n",
        "    dist_to_goal_next = np.linalg.norm(np.array(next_pos) - np.array(goal_pos))\n",
        "\n",
        "    potential_current = -potential_multiplier * dist_to_goal_current\n",
        "    potential_next = -potential_multiplier * dist_to_goal_next\n",
        "\n",
        "    shaped_reward += (gamma * potential_next - potential_current)\n",
        "\n",
        "    return shaped_reward"
      ]
    },
    {
      "cell_type": "markdown",
      "metadata": {
        "id": "UgUqKQTwqrpl"
      },
      "source": [
        "## Intro to Reinforcement Learning\n",
        "---"
      ]
    },
    {
      "cell_type": "markdown",
      "metadata": {
        "id": "i3X36mQJ5sUL"
      },
      "source": [
        "Reinforcement Learning (RL) is about learning to make good decisions through trial and error. An **agent** (our learner) interacts with an **environment** (the world or game it's in) by taking **actions**. After each action, the environment provides a **reward** (a score) and a new **state** (the new observation of the world).\n",
        "\n",
        "This interaction follows a basic loop:\n",
        "\n",
        "1. The agent observes the current **state** $s_t$.\n",
        "2. It selects an **action** $a_t$ using its **policy** $\\pi$.\n",
        "3. The environment transitions to a **new state** $s_{t+1}$ and provides a **reward** $r_t$.\n",
        "4. The cycle repeats.\n"
      ]
    },
    {
      "cell_type": "markdown",
      "metadata": {
        "id": "ia9fKftNifw2"
      },
      "source": [
        "<img src=\"https://wizzdev.com/wp-content/uploads/2024/07/2_ML_concept.png\" alt=\"agent-environment\" width=\"500\"/>\n"
      ]
    },
    {
      "cell_type": "markdown",
      "metadata": {
        "id": "2yn8m0yEkoJy"
      },
      "source": [
        "### 🔁 Key Concepts\n",
        "\n",
        "* **Timestep** $t$: A single step in the environment, where the agent receives state $s_t$, takes action $a_t$, and gets reward $r_t$ and the next state $s_{t+1}$.\n",
        "\n",
        "* **Episode**: A full run from a starting state to a terminal state. For example, a full game from start to crash. This is also called a **trial** or a **trajectory**:\n",
        "\n",
        "  $$\n",
        "  \\tau = (s_0, a_0, r_0, s_1, a_1, r_1, \\dots, s_T)\n",
        "  $$"
      ]
    },
    {
      "cell_type": "markdown",
      "metadata": {
        "id": "Lsfp3oCDx4zp"
      },
      "source": [
        "### The environment we'll work with\n",
        "---\n",
        "\n",
        "[Gymnasium](https://gymnasium.farama.org/index.html) is a standard suite for loading reinforcement learning environments.\n",
        "\n",
        "For this tutorial, we will use the [CliffWalking](https://gymnasium.farama.org/environments/toy_text/cliff_walking/) environment. This is a `4x12` grid world environment. The agent starts at the bottom-left corner (at location $[3,0]$) and must reach the goal at the bottom-right (location $[3,11]$). The agent should follow the \"safe path\" (grass) and avoid the cliff area (in brown), which results in a large penalty if stepped on."
      ]
    },
    {
      "cell_type": "markdown",
      "metadata": {
        "id": "f-xKGfurP4ff"
      },
      "source": [
        "![CliffWalking environment](https://gymnasium.farama.org/_images/cliff_walking.gif)"
      ]
    },
    {
      "cell_type": "code",
      "execution_count": 3,
      "metadata": {
        "id": "vY6PnAJ-zT0f",
        "colab": {
          "base_uri": "https://localhost:8080/"
        },
        "outputId": "e389b7c8-0983-4349-dfd7-dbb6aa4661ce"
      },
      "outputs": [
        {
          "output_type": "stream",
          "name": "stdout",
          "text": [
            "Observation space (4x12): Discrete(48)\n",
            "Action space (up, right, down, left): Discrete(4)\n"
          ]
        }
      ],
      "source": [
        "#@title Load the \"CliffWalking\" environment.\n",
        "\n",
        "env = gym.make(\"CliffWalking-v1\")\n",
        "num_states = env.observation_space.n\n",
        "num_actions = env.action_space.n\n",
        "\n",
        "print(f\"Observation space (4x12): {env.observation_space}\")\n",
        "print(f\"Action space (up, right, down, left): {env.action_space}\")"
      ]
    },
    {
      "cell_type": "markdown",
      "metadata": {
        "id": "wYuE2ih9lTqm"
      },
      "source": [
        "\n",
        "The agent's **goal** is to learn the shortest path from the starting position 🪑 to the cookie 🍪.\n",
        "\n",
        "The agent's **state** is an integer representing the player’s current position, calculated as `current_row * 12 + current_col`. For example, the starting position can be calculated as follows: 3 * 12 + 0 = 36.\n",
        "\n",
        "The agent's **actions** are simply 4 basic moves, which are represented by 4 integers: UP (coded by 0), RIGHT (1), DOWN (2), and LEFT (3).\n",
        "\n",
        "The **reward** given by the environment after each step is:\n",
        "\n",
        "  * `-1` for every step on the safe path (grass).\n",
        "  * `-100` for falling off the cliff, which also ends the episode.\n",
        "  * Reaching the goal gives no additional reward, and ends the episode.\n",
        "\n",
        "**Question:** What is the **maximum** total reward the agent can receive if it achieves its goal?"
      ]
    },
    {
      "cell_type": "markdown",
      "metadata": {
        "id": "a35JU-As4wrw"
      },
      "source": [
        "### 🎯 Goal: maximize expected reward\n",
        "---\n",
        "\n",
        "In reinforcement learning, the agent’s goal is to collect as much reward as possible over time. We define this using the **return**, denoted $G_t$, which is the **discounted sum of future rewards starting at time step $t$**:\n",
        "\n",
        "$$\n",
        "G_t = \\sum_{k=0}^{∞} \\gamma^{k} r_{t+k+1}\n",
        "$$\n",
        "\n",
        "where $r_{t+k+1}$ is the reward received $k+1$ steps into the future.\n",
        "\n",
        "Here, $\\gamma \\in [0,1]$ is the **discount factor**. It determines how much the agent prioritizes long-term rewards over short-term ones. A discount factor close to 1 (e.g., 0.99) means the agent considers future rewards nearly as important as immediate rewards, whereas a value closer to 0 makes it focus more heavily on short-term outcomes.\n",
        "\n",
        "> 💡 Although often treated as a hyperparameter, $\\gamma$ is better viewed as part of the **problem definition**, not just something to tune for performance (like the learning rate)."
      ]
    },
    {
      "cell_type": "markdown",
      "metadata": {
        "id": "CIfAgVkZzo6T"
      },
      "source": [
        "\n",
        "#### ✏️ **Exercise: Calculate the discounted returns $G_t$**\n",
        "\n",
        "Let's calculate the **discounted return** $G_t$ for every step $t$ in an episode. This value represents the total future reward from that step onwards.\n",
        "\n",
        "For an episode that ends at a final timestep $T$ (e.g., reaching the goal or falling off the cliff), the discounted return is the finite sum:\n",
        "\n",
        "$$\n",
        "G_t = r_t + \\gamma r_{t+1} + \\gamma^2 r_{t+2} + \\dots + \\gamma^{T-t} r_{T} = \\sum_{k=0}^{T-t-1} \\gamma^k r_{t+k+1}\n",
        "$$\n",
        "\n",
        "Now, let's implement this logic in code.\n",
        "\n",
        "> Hint: Can you define this recursively?"
      ]
    },
    {
      "cell_type": "markdown",
      "metadata": {
        "id": "oIyKh6WlQJXI"
      },
      "source": [
        "<details>\n",
        "<summary>💡 Hints</summary>\n",
        "\n",
        "* Use the recursive form: $G_t = r_t + \\gamma G_{t+1}$.\n",
        "\n",
        "*   The easiest way is to work backward from the last reward to the first.\n",
        "\n",
        "*   Keep a running total for the return, starting at 0.\n",
        "\n",
        "*   In each backward step, update the total using the formula: `return = reward + gamma * return`.\n",
        "\n",
        "*   Add each new return you calculate to the front of your results list.\n",
        "\n",
        "*   Python's `reversed()` function is perfect for looping backward\n",
        "</details>"
      ]
    },
    {
      "cell_type": "code",
      "execution_count": 4,
      "metadata": {
        "id": "GC4kwiPBQTUU"
      },
      "outputs": [],
      "source": [
        "# Implement discount return for each step t \\in [0,T].\n",
        "\n",
        "def get_returns(gamma: float, rewards: list[float], standardize: bool = True) -> torch.Tensor:\n",
        "    \"\"\"\n",
        "    Calculates the discounted returns for the entire rewards history.\n",
        "    \"\"\"\n",
        "    returns = []\n",
        "    discounted_return = 0\n",
        "\n",
        "    ################################################################\n",
        "    # Compute the returns for each step.\n",
        "    # Your solution:\n",
        "    ################################################################\n",
        "    for reward in reversed(rewards):\n",
        "      discounted_return = reward + gamma * discounted_return\n",
        "      returns.insert(0, discounted_return)\n",
        "\n",
        "    # Cast to float.\n",
        "    returns = torch.tensor(returns, dtype=torch.float32)\n",
        "\n",
        "    # Standardize returns for stability (optional, but good practice).\n",
        "    if standardize:\n",
        "      eps = 1e-9  # Small constant for numerical stability.\n",
        "      returns = (returns - returns.mean()) / (returns.std() + eps)\n",
        "\n",
        "    return returns"
      ]
    },
    {
      "cell_type": "code",
      "execution_count": 5,
      "metadata": {
        "cellView": "form",
        "id": "sQBXdBwNqq9B",
        "colab": {
          "base_uri": "https://localhost:8080/"
        },
        "outputId": "f830d4ff-02ae-4f67-abf7-5dad7c4e5993"
      },
      "outputs": [
        {
          "output_type": "stream",
          "name": "stdout",
          "text": [
            "✅ Test passed: discounted returns are correct!\n"
          ]
        }
      ],
      "source": [
        "#@title Test your implementation!\n",
        "\n",
        "def test_get_returns():\n",
        "    rewards = [1, 1, 1]  # Simple reward sequence.\n",
        "    gamma = 0.9\n",
        "\n",
        "    # Expected discounted returns (no standardization):\n",
        "    # G_0 = 1 + 0.9*1 + 0.9^2*1 = 1 + 0.9 + 0.81 = 2.71\n",
        "    # G_1 = 1 + 0.9*1 = 1 + 0.9 = 1.9\n",
        "    # G_2 = 1\n",
        "    expected_returns = torch.tensor([2.71, 1.9, 1.0], dtype=torch.float32)\n",
        "\n",
        "    returns_unstandardized = get_returns(gamma, rewards, standardize=False)\n",
        "\n",
        "    assert torch.allclose(returns_unstandardized, expected_returns, atol=1e-2), \\\n",
        "        f\"Expected {expected_returns}, but got {returns_unstandardized}\"\n",
        "\n",
        "    print(\"✅ Test passed: discounted returns are correct!\")\n",
        "\n",
        "test_get_returns()"
      ]
    },
    {
      "cell_type": "markdown",
      "metadata": {
        "id": "XRJf3d-uUIya"
      },
      "source": [
        "### Agent Policy\n",
        "---\n",
        "\n",
        "The agent's \"brain\" is its **Policy ($\\pi$)**, which is a function that decides which action to take in a given state.\n",
        "\n",
        "Formally, a policy is a mapping from states to a probability distribution over actions.\n",
        "\n",
        "$$\n",
        "\\pi(a | s) = \\text{probability of taking action } a \\text{ in state } s\n",
        "$$\n",
        "\n",
        "This means that in a state $s$, the policy doesn't just output a single best action. Instead, it gives a probability for *every* possible action. This allows the agent to explore by sometimes trying actions that don't have the highest probability, which is crucial for discovering new, better strategies.\n",
        "\n",
        "### From Policy Output to Action\n",
        "\n",
        "So, how do we get from a state to a concrete action? It's a simple three-step process:\n",
        "\n",
        "1.  **Get Action Scores (Logits)**: The policy takes the current state and outputs a raw score for each possible action; these scores are called **logits**.\n",
        "\n",
        "2.  **Convert to Probabilities (Softmax)**: Logits are just numbers; they can be positive or negative and don't sum to 1. To turn them into a valid probability distribution, we use the **softmax function**.\n",
        "\n",
        "    `Logits [2.0, 1.0, 0.1]  →  Softmax  →  Probabilities [0.66, 0.24, 0.09]`\n",
        "\n",
        "3.  **Sample an Action**: The agent then samples an action from this probability distribution. This means an action with a higher probability is more likely to be chosen, but it's not guaranteed.\n",
        "\n",
        "This entire process ensures that the agent's actions are guided by its learned preferences (the logits) while still allowing for **exploration**.\n",
        "\n",
        "### Implementing a Policy\n",
        "\n",
        "We can implement a policy in different ways. The two we will cover are:\n",
        "\n",
        "*   **Tabular Policy**: A simple lookup table. For each state, we store a list of action logits. This works perfectly for small environments like CliffWalking where we can list every possible state.\n",
        "*   **Neural Network Policy**: A more powerful function approximator that can handle environments with big or continuous state spaces (e.g., controlling a robot from camera images).\n",
        "\n",
        "We will start with a tabular policy, as it's the easiest to understand and implement."
      ]
    },
    {
      "cell_type": "markdown",
      "metadata": {
        "id": "JvkEu2OIvDSO"
      },
      "source": [
        "#### ✏️ **Exercise: Implement a tabular policy**\n",
        "\n",
        "Let's build a tabular policy called `GridPolicy`. The `forward` method has already been completed: it takes an observation (the agent's current location) and returns action logits.\n",
        "\n",
        "Your task is to instantiate the policy: create a learnable table of size `[number of states, number of actions]`. This table will hold the policy's logits."
      ]
    },
    {
      "cell_type": "markdown",
      "metadata": {
        "id": "P3e-3y1mSEQF"
      },
      "source": [
        "<details>\n",
        "<summary>💡 Hints</summary>\n",
        "\n",
        "*   First, create a tensor of random values using `torch.randn()`.\n",
        "\n",
        "* Think about the shape of this tabular policy: what is the shape of the table? Does it depend on the environment?\n",
        "\n",
        "*   To make this tensor a learnable parameter of the module, wrap the tensor you created inside `nn.Parameter()`.\n",
        "\n",
        "</details>"
      ]
    },
    {
      "cell_type": "code",
      "execution_count": 7,
      "metadata": {
        "id": "yzkG0PavzoPw"
      },
      "outputs": [],
      "source": [
        "class GridPolicy(nn.Module):\n",
        "    \"\"\"\n",
        "    A policy for environments with a discrete state space (like a grid).\n",
        "    It's a simple table mapping each state to action logits.\n",
        "    \"\"\"\n",
        "    def __init__(self, num_states: int, num_actions: int):\n",
        "        super().__init__()\n",
        "        ################################################################\n",
        "        # Create a learnable parameter of size [num_states, num_actions].\n",
        "        # Your solution:\n",
        "        # self.policy = ...\n",
        "        ################################################################\n",
        "        rt = torch.randn(num_states, num_actions)\n",
        "        self.policy = torch.nn.Parameter(rt)\n",
        "\n",
        "    def forward(self, obs: int) -> torch.Tensor:\n",
        "        \"\"\"\n",
        "        Given an observation (state), return action logits.\n",
        "        \"\"\"\n",
        "        action_logits = self.policy[obs]\n",
        "        return action_logits"
      ]
    },
    {
      "cell_type": "code",
      "execution_count": 12,
      "metadata": {
        "id": "4yEY_1LWQEi4",
        "colab": {
          "base_uri": "https://localhost:8080/"
        },
        "outputId": "cd404f51-a36f-4546-83ce-5acfdefa9d16"
      },
      "outputs": [
        {
          "output_type": "stream",
          "name": "stdout",
          "text": [
            "Action logits for state 15: [-0.59630936  1.3074056   1.8193185  -1.7145869 ]\n",
            "Probabilities: [0.05199013 0.34889424 0.58212304 0.01699258]\n",
            "Sampled Action: 1\n"
          ]
        }
      ],
      "source": [
        "# Let's instantiate the Grid policy and print the action logits for a custom state.\n",
        "\n",
        "untrained_policy = GridPolicy(num_states=num_states, num_actions=num_actions)\n",
        "test_obs = 15  #@param\n",
        "logits = untrained_policy(test_obs)\n",
        "print(f\"Action logits for state {test_obs}: {logits.detach().numpy()}\")\n",
        "\n",
        "# We can also use PyTorch's Categorical distribution to see the probabilities\n",
        "# and sample an action.\n",
        "action_distribution = Categorical(logits=logits)\n",
        "probabilities = action_distribution.probs\n",
        "sampled_action = action_distribution.sample()\n",
        "\n",
        "print(f\"Probabilities: {probabilities.detach().numpy()}\")\n",
        "print(f\"Sampled Action: {sampled_action.item()}\")"
      ]
    },
    {
      "cell_type": "code",
      "execution_count": 13,
      "metadata": {
        "id": "_8h5v3Wc6G1i",
        "colab": {
          "base_uri": "https://localhost:8080/",
          "height": 239
        },
        "outputId": "30bc51ff-cb66-4fff-808f-52851b32996e"
      },
      "outputs": [
        {
          "output_type": "stream",
          "name": "stdout",
          "text": [
            "Visualizing an untrained GridPolicy with random weights...\n"
          ]
        },
        {
          "output_type": "display_data",
          "data": {
            "text/plain": [
              "<IPython.core.display.HTML object>"
            ],
            "text/html": [
              "<video alt=\"test\" autoplay\n",
              "                    loop controls style=\"height: 200px;\">\n",
              "                    <source src=\"data:video/mp4;base64,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\" type=\"video/mp4\" />\n",
              "                </video>"
            ]
          },
          "metadata": {}
        }
      ],
      "source": [
        "#@title Watch your untrained GridPolicy *random* agent!\n",
        "\n",
        "print(\"Visualizing an untrained GridPolicy with random weights...\")\n",
        "visualise_policy(\n",
        "    policy=untrained_policy,\n",
        "    max_episode_steps=50,\n",
        ")"
      ]
    },
    {
      "cell_type": "markdown",
      "metadata": {
        "id": "8dTXDq_CvNRR"
      },
      "source": [
        "# 🛠️ Practical 1: REINFORCE"
      ]
    },
    {
      "cell_type": "markdown",
      "metadata": {
        "id": "T2WjNCCAuFPY"
      },
      "source": [
        "### The REINFORCE algorithm\n",
        "---\n",
        "\n",
        "We have a policy, but how does it actually learn which actions to take?\n",
        "\n",
        "We'll use a famous policy gradient algorithm called **REINFORCE**. The core idea is intuitive:\n",
        "\n",
        "> If a trajectory had a high return, increase the probability of the actions taken in that trajectory. If it had a low return, decrease their probability.\n",
        "\n",
        "This is a form of trial-and-error learning. We're \"reinforcing\" good behaviors.\n",
        "\n",
        "### Agent's goal: maximizing expected return\n",
        "---\n",
        "\n",
        "Mathematically, our goal is to find the policy parameters, $\\theta$, that maximize the expected total discounted return, which is our objective function $J(\\theta)$.\n",
        "\n",
        "$$\n",
        "\\max_{\\theta} J(\\theta) \\quad \\text{where} \\quad J(\\theta) = \\mathbb{E}_{\\tau \\sim \\pi_\\theta}[G(\\tau)]\n",
        "$$\n",
        "\n",
        "This means we want to find the parameters $\\theta$ that, on average, produce trajectories ($\\tau$) with the highest possible total return $G(\\tau)$. The standard way to maximize a function is **gradient ascent**: we calculate the gradient of the objective with respect to the parameters, $\\nabla_\\theta J(\\theta)$, and take a small step in that direction.\n",
        "\n",
        "$$\n",
        "\\theta \\leftarrow \\theta + \\eta \\nabla_\\theta J(\\theta)\n",
        "$$\n",
        "\n",
        "where $\\eta$ is the learning rate.\n"
      ]
    },
    {
      "cell_type": "markdown",
      "metadata": {
        "id": "E4PFKC1M56eJ"
      },
      "source": [
        "<details>\n",
        "\n",
        "<summary> Challenge: finding the Policy Gradient</summary>\n",
        "\n",
        "The tricky part is calculating the gradient $\\nabla_\\theta J(\\theta)$. Let's write out the expectation to see why:\n",
        "\n",
        "$$\n",
        "\\nabla_\\theta J(\\theta) = \\nabla_\\theta \\mathbb{E}_{\\tau \\sim \\pi_\\theta}[G(\\tau)] = \\nabla_\\theta \\sum_{\\tau} P(\\tau|\\theta) G(\\tau)\n",
        "$$\n",
        "\n",
        "Here, $P(\\tau|\\theta)$ is the probability of a specific trajectory $\\tau$ occurring under our policy $\\pi_\\theta$. We run into two major problems:\n",
        "\n",
        "1.  **The gradient is outside an expectation that depends on $\\theta$**. The distribution of trajectories we sample from, $P(\\tau|\\theta)$, changes as we change our policy parameters $\\theta$. We can't just move the gradient inside the expectation, because the thing we are averaging over depends on the variable we're differentiating with respect to.\n",
        "\n",
        "2.  **The trajectory probability depends on the unknown environment dynamics**. The probability of a trajectory is a product of the policy's action probabilities and the environment's transition probabilities:\n",
        "\n",
        "$$\n",
        "P(\\tau|\\theta) = p(s_0) \\prod_{t=0}^{T-1} \\underbrace{\\pi_\\theta(a_t|s_t)}_{\\text{Our policy}} \\cdot \\underbrace{p(s_{t+1}|s_t, a_t)}_{\\text{Environment}}\n",
        "$$\n",
        "\n",
        "To compute the gradient $\\nabla_\\theta P(\\tau|\\theta)$, we would need to know the environment dynamics, $p(s_{t+1}|s_t, a_t)$, which in most interesting problems is unknown and complex. We can't differentiate a function we don't know!\n",
        "\n",
        "We seem to be stuck. How can we get a gradient that depends only on our policy and is easy to estimate from experience? This is where the **Policy Gradient Theorem** comes to the rescue.\n",
        "\n",
        "The theorem provides a clever way to rewrite the gradient, turning an intractable problem into a solvable one. It accomplishes two things: it moves the gradient operator *inside* the expectation, and it eliminates the need for the environment model.\n",
        "\n",
        "</details>\n",
        "\n",
        "<details>\n",
        "<summary> The Log Trick </summary>\n",
        "\n",
        "The key mathematical insight is a simple identity from calculus called the \"log-derivative trick\" or \"log-prob trick\": for any positive, differentiable function $f(x)$, its derivative can be written as:\n",
        "\n",
        "$$\n",
        "\\nabla f(x) = f(x) \\frac{\\nabla f(x)}{f(x)} = f(x) \\nabla \\log f(x)\n",
        "$$\n",
        "\n",
        "We can apply this to our trajectory probability, $P(\\tau|\\theta)$:\n",
        "\n",
        "$$\n",
        "\\nabla_\\theta P(\\tau|\\theta) = P(\\tau|\\theta) \\nabla_\\theta \\log P(\\tau|\\theta)\n",
        "$$\n",
        "\n",
        "Now we can substitute this back into our gradient calculation:\n",
        "\n",
        "$$\n",
        "\\begin{aligned}\n",
        "\\nabla_\\theta J(\\theta) &= \\nabla_\\theta \\sum_{\\tau} P(\\tau|\\theta) G(\\tau) \\\\\n",
        "&= \\sum_{\\tau} \\nabla_\\theta P(\\tau|\\theta) G(\\tau) \\\\\n",
        "&= \\sum_{\\tau} P(\\tau|\\theta) \\nabla_\\theta \\log P(\\tau|\\theta) G(\\tau) \\\\\n",
        "&= \\mathbb{E}_{\\tau \\sim \\pi_\\theta} \\left[ G(\\tau) \\cdot \\nabla_\\theta \\log P(\\tau|\\theta) \\right]\n",
        "\\end{aligned}\n",
        "$$\n",
        "\n",
        "This is a beautiful result! We've successfully moved the gradient operator inside the expectation. Now, we can estimate this gradient by simply running our policy and averaging the results—a **Monte Carlo** approach.\n",
        "\n",
        "</details>\n",
        "\n",
        "\n",
        "<details>\n",
        "<summary> Getting rid of the environment model </summary>\n",
        "\n",
        "But what about the second problem? Doesn't $\\nabla_\\theta \\log P(\\tau|\\theta)$ still depend on the environment dynamics? Let's expand it.\n",
        "\n",
        "Remember, the log of a product is the sum of logs:\n",
        "\n",
        "$$\n",
        "\\log P(\\tau|\\theta) = \\log p(s_0) + \\sum_{t=0}^{T-1} \\left( \\log \\pi_\\theta(a_t|s_t) + \\log p(s_{t+1}|s_t, a_t) \\right)\n",
        "$$\n",
        "\n",
        "Now, let's take the gradient with respect to our policy parameters, $\\theta$:\n",
        "\n",
        "$$\n",
        "\\nabla_\\theta \\log P(\\tau|\\theta) = \\nabla_\\theta \\left[ \\log p(s_0) + \\sum_{t=0}^{T-1} \\log \\pi_\\theta(a_t|s_t) + \\sum_{t=0}^{T-1} \\log p(s_{t+1}|s_t, a_t) \\right]\n",
        "$$\n",
        "\n",
        "The parameters $\\theta$ are only in our policy, $\\pi_\\theta$. The environment dynamics $p(s_{t+1}|s_t, a_t)$ and the initial state distribution $p(s_0)$ **do not depend on $\\theta$**. Therefore, their gradients are zero!\n",
        "\n",
        "$$\n",
        "\\nabla_\\theta \\log P(\\tau|\\theta) = \\sum_{t=0}^{T-1} \\nabla_\\theta \\log \\pi_\\theta(a_t|s_t)\n",
        "$$\n",
        "\n",
        "This is the final piece of the puzzle. The gradient of the log-probability of a trajectory is just the sum of the gradients of the log-probabilities of the actions taken.\n",
        "\n",
        "</details>\n",
        "\n",
        "<details>\n",
        "<summary>Further reading</summary>\n",
        "\n",
        "Check out [Lil'Log blogpost](https://lilianweng.github.io/posts/2018-04-08-policy-gradient/) about policy gradient algorithms.\n",
        "\n",
        "</details>"
      ]
    },
    {
      "cell_type": "markdown",
      "metadata": {
        "id": "MmzQ3iSJ5vl6"
      },
      "source": [
        "### From theory to practice: the REINFORCE update rule\n",
        "---\n",
        "\n",
        "Combining our results, we get the final expression for the policy gradient:\n",
        "\n",
        "$$\n",
        "\\nabla_\\theta J(\\theta) = \\mathbb{E}_{\\tau \\sim \\pi_\\theta} \\left[ G(\\tau) \\sum_{t=0}^{T-1} \\nabla_\\theta \\log \\pi_\\theta(a_t|s_t) \\right]\n",
        "$$\n",
        "\n",
        "This is an expectation, which we can approximate by running our policy to collect a batch of $N$ episodes (trajectories) and then averaging the results.\n",
        "\n",
        "One final, crucial optimization is based on **causality**. The action taken at timestep $t$ can only affect rewards from timestep $t$ onwards. It cannot affect past rewards. Therefore, to credit an action $a_t$, we should only use the return starting from that step, $G_t$.\n",
        "\n",
        "Replacing the full trajectory return $G(\\tau)$ with $G_t$ for each action's gradient term reduces variance and leads to more stable and faster learning.\n",
        "\n",
        "This gives us our final, practical formula for the gradient, which is the core of the **REINFORCE** algorithm. We estimate it by averaging over all the steps in our batch of episodes:\n",
        "\n",
        "$$\n",
        "\\nabla_\\theta J(\\theta) \\approx \\frac{1}{N} \\sum_{i=1}^{N} \\sum_{t=0}^{T_i-1} G_{i,t} \\cdot \\nabla_\\theta \\log \\pi_\\theta(a_{i,t} | s_{i,t})\n",
        "$$\n",
        "\n",
        "👨‍💻 Let's break this down one last time:\n",
        "*   We collect a batch of $N$ trajectories using our current policy $\\pi_\\theta$.\n",
        "*   For each step $t$ in each trajectory $i$:\n",
        "    *   We calculate the return, $G_{i,t}$.\n",
        "    *   We calculate the gradient of the log-probability of the action we took, $\\nabla_\\theta \\log \\pi_\\theta(a_{i,t} | s_{i,t})$. This term tells us which direction in parameter space would make that action more likely.\n",
        "    *   We scale this direction vector by the return $G_{i,t}$. If the future return was high, we push the parameters in that direction. If it was low (or negative), we push them in the opposite direction.\n",
        "*   We average all these scaled vectors together to get our final estimate of the policy gradient, and then update our parameters $\\theta$.\n",
        "\n",
        "✨ In the next exercise, you will implement the REINFORCE loss function."
      ]
    },
    {
      "cell_type": "markdown",
      "metadata": {
        "id": "LFgrdMgNnAXt"
      },
      "source": [
        "### Building a learning agent: implementation considerations\n",
        "---\n",
        "\n",
        "To keep our code clean and easy to understand, we'll separate our learning system into 3 components: the **Policy**, the **Agent**, and the **Algorithm**.\n",
        "\n",
        "1.  **Policy**: the \"brain\" of our operation.\n",
        "    *   **Role**: To decide which action to take in a given state. It maps a state to action logits. It contains the learnable parameters (the weights).\n",
        "    *   **Implementation**: The `GridPolicy` class. Later we'll implement  it as a neural network (`NNPolicy`).\n",
        "\n",
        "2.  **Agent**: the \"body\" or the complete entity that interacts with the world.\n",
        "    *   **Role**: It holds a policy and uses it to act in the environment. It's also responsible for collecting experience (the sequences of states, actions, and rewards). Crucially, it orchestrates the entire learning process.\n",
        "    *   **Implementation**: We will soon create a class called `ReinforceAgent`.\n",
        "\n",
        "3.  **Learning Algorithm**: the \"training rule\" that enables learning.\n",
        "    *   **Role**: It takes the experience collected by the Agent and uses it to update the Policy's parameters, making the policy better over time.\n",
        "    *   **Implementation**: The algorithm is the logic *inside* our Agent's `.update()` method. In this tutorial, the algorithm we will implement is called **REINFORCE**.\n",
        "\n",
        "This modular design is very convenient. Our `ReinforceAgent` will be able to train *any* kind of policy (`Grid_Policy`, `NN_Policy`, etc.) because the learning algorithm is separate from the policy's internal structure.\n",
        "\n",
        "```\n",
        "┌────────────────────────────────┐\n",
        "│   ReinforceAgent               │\n",
        "│  (The complete learner)        │\n",
        "│                                │\n",
        "│   ┌────────────────────────┐   │  <── The Agent HOLDS a Policy\n",
        "│   │         Policy         │   │\n",
        "│   │ (e.g., Grid_Policy or  │   │\n",
        "│   │      NN_Policy)        │   │\n",
        "│   └────────────────────────┘   │\n",
        "│                                │\n",
        "│   → select_action() uses Policy│  <── The Agent USES the Policy to act\n",
        "│   → update() implements        │  <── The Agent USES the Algorithm to learn\n",
        "│     REINFORCE Algorithm        │\n",
        "└────────────────────────────────┘\n",
        "```"
      ]
    },
    {
      "cell_type": "markdown",
      "metadata": {
        "id": "vbBexHMgQT7l"
      },
      "source": [
        "#### ✏️ **Exercise: Implement the REINFORCE Loss**\n",
        "\n",
        "Now we'll create the `ReinforceAgent`. The Agent takes as input a policy to choose actions (we will re-use the `GridPolicy` you implemented above) and implements the logic for updating the policy's parameters using the REINFORCE algorithm.\n",
        "\n",
        "Your task is to implement the REINFORCE loss using the `get_returns` function you already implemented above.\n",
        "\n",
        "> Note: Optimizers in PyTorch perform gradient *descent* (minimization). As we saw, the objective is to *maximize* $\\log \\pi_\\theta(a_t|s_t) * G_t$, so we'll implement our loss as the *negative* of this objective:\n",
        "\n",
        "$$ \\text{REINFORCE loss} = - \\sum_{t=0}^{T} \\log \\pi_\\theta(a_t | s_t) \\cdot G_t $$"
      ]
    },
    {
      "cell_type": "markdown",
      "metadata": {
        "id": "99AZMs1tTKPf"
      },
      "source": [
        "<details>\n",
        "<summary>💡 Hints</summary>\n",
        "\n",
        "*   Your goal is to translate the REINFORCE loss formula into code.\n",
        "\n",
        "*   Start by multiplying the `log_probs` tensor with the `returns` tensor. This operation is element-wise.\n",
        "\n",
        "*   Sum up all the elements of the resulting tensor to get a single scalar value. The `torch.sum()` function is what you need.\n",
        "\n",
        "*   Remember to put a negative sign in front of the final sum. This is because optimizers minimize a loss, but we want to maximize our objective.\n",
        "\n",
        "</details>"
      ]
    },
    {
      "cell_type": "code",
      "execution_count": 18,
      "metadata": {
        "id": "MOkY5hQn0EKo"
      },
      "outputs": [],
      "source": [
        "class ReinforceAgent(nn.Module):\n",
        "    \"\"\"Implements the REINFORCE algorithm.\"\"\"\n",
        "\n",
        "    def __init__(self, policy: nn.Module, gamma: float = 0.99):\n",
        "        super().__init__()\n",
        "        self.policy = policy\n",
        "        self.gamma = gamma\n",
        "\n",
        "    def forward(self, obs: int) -> tuple[int, torch.Tensor]:\n",
        "        \"\"\"\n",
        "        Selects an action and returns it along with its log-probability.\n",
        "\n",
        "        Args:\n",
        "            obs: The current observation (state) from the environment.\n",
        "\n",
        "        Returns:\n",
        "            A tuple containing:\n",
        "            - int: The action selected by the policy.\n",
        "            - torch.Tensor: The log-probability of the selected action.\n",
        "        \"\"\"\n",
        "        # Get action logits from the policy network.\n",
        "        logits = self.policy(obs)\n",
        "\n",
        "        # Create a probability distribution directly from logits.\n",
        "        distribution = Categorical(logits=logits)\n",
        "\n",
        "        # Sample an action from the distribution and get log-prob.\n",
        "        action = distribution.sample()\n",
        "        log_prob_action = distribution.log_prob(action)\n",
        "\n",
        "        return action.item(), log_prob_action\n",
        "\n",
        "    def calculate_reinforce_loss(\n",
        "        self, returns: torch.Tensor, log_probs: torch.Tensor\n",
        "    ) -> torch.Tensor:\n",
        "        \"\"\"\n",
        "        Calculates the REINFORCE loss for a single episode.\n",
        "\n",
        "        Args:\n",
        "            returns: A tensor of discounted returns for one episode.\n",
        "            log_probs: A tensor of the log_probs for the actions in that episode.\n",
        "\n",
        "        Returns:\n",
        "            A tensor representing the calculated loss for the episode.\n",
        "        \"\"\"\n",
        "        ################################################################\n",
        "        # Calculate the REINFORCE loss.\n",
        "        # Your solution:\n",
        "        # loss = ...\n",
        "        ################################################################\n",
        "        loss = -1 * returns * log_probs\n",
        "        loss = loss.sum()\n",
        "        return loss\n",
        "\n",
        "    def update(\n",
        "        self,\n",
        "        batch_log_probs: list[list[torch.Tensor]],\n",
        "        batch_rewards: list[list[float]],\n",
        "        optimizer: optim.Optimizer,\n",
        "    ):\n",
        "        \"\"\"\n",
        "        Performs the learning step for a batch of episodes.\n",
        "\n",
        "        For each episode in the batch:\n",
        "            * Calculates discounted returns from the stored rewards.\n",
        "            * Stacks the log_probs into a tensor.\n",
        "            * Computes the REINFORCE loss for the episode.\n",
        "            * Appends the episode loss to the list of losses.\n",
        "        Then, it averages the losses across the batch and performs a gradient\n",
        "        ascent step to update the policy.\n",
        "        \"\"\"\n",
        "        batch_loss = []\n",
        "        # Iterate over each episode in the batch.\n",
        "        for episode_rewards, episode_log_probs in zip(batch_rewards, batch_log_probs):\n",
        "            returns = get_returns(gamma=self.gamma, rewards=episode_rewards)\n",
        "            log_probs = torch.stack(episode_log_probs)\n",
        "            episode_loss = self.calculate_reinforce_loss(returns, log_probs)\n",
        "            batch_loss.append(episode_loss)\n",
        "        average_batch_loss = torch.stack(batch_loss).mean()\n",
        "\n",
        "        # Perform the gradient ascent step\n",
        "        optimizer.zero_grad()\n",
        "        average_batch_loss.backward()\n",
        "        optimizer.step()"
      ]
    },
    {
      "cell_type": "code",
      "execution_count": 17,
      "metadata": {
        "cellView": "form",
        "id": "sPH5SxXVvMfj",
        "colab": {
          "base_uri": "https://localhost:8080/"
        },
        "outputId": "38504bcd-0687-4aca-9929-8df168bc7a43"
      },
      "outputs": [
        {
          "output_type": "stream",
          "name": "stdout",
          "text": [
            "✅ TEST PASSED!\n",
            "Your loss: 0.3, Expected loss: 0.3\n"
          ]
        }
      ],
      "source": [
        "#@title Test your implementation of the `calculate_reinforce_loss` method.\n",
        "\n",
        "def test_agent_loss_method():\n",
        "    agent = ReinforceAgent(policy=untrained_policy)\n",
        "    returns = torch.tensor([2.0, -0.5, -1.0])\n",
        "    log_probs = torch.tensor([-0.5, -1.0, -0.2])\n",
        "    calculated_loss = agent.calculate_reinforce_loss(returns, log_probs)\n",
        "\n",
        "    # Expected: -sum([-0.5*2.0, -1.0*-0.5, -0.2*-1.0]) = -sum([-1.0, 0.5, 0.2]).\n",
        "    expected_loss = torch.tensor(0.3)\n",
        "\n",
        "    if torch.isclose(calculated_loss, expected_loss):\n",
        "        print(\"✅ TEST PASSED!\")\n",
        "        print(f\"Your loss: {calculated_loss.item():.1f}, \"\n",
        "              f\"Expected loss: {expected_loss.item():.1f}\")\n",
        "    else:\n",
        "        print(\"❌ TEST FAILED!\")\n",
        "        print(f\"Your loss: {calculated_loss.item():.1f}, \"\n",
        "              f\"Expected loss: {expected_loss.item():.1f}\")\n",
        "\n",
        "# Run the test\n",
        "test_agent_loss_method()"
      ]
    },
    {
      "cell_type": "markdown",
      "metadata": {
        "id": "pMNVZp2OQ37U"
      },
      "source": [
        "### Training loop for the REINFORCE Agent\n",
        "\n",
        "We now have all the components. The final step is to orchestrate the agent-environment interaction. The loop will look like this:\n",
        "\n",
        "1.  Play a number of episodes (`episodes_per_batch`).\n",
        "2.  In each episode:\n",
        "    -   Reset the environment.\n",
        "    -   Loop until the episode is `done` (terminated or truncated):\n",
        "        -   The agent chooses an action.\n",
        "        -   The environment gives a new state and reward.\n",
        "        -   Store the reward in the agent's history.\n",
        "3.  After collecting data from the batch, call `agent.update()` to learn.\n",
        "4.  Repeat for a number of updates.\n",
        "\n",
        "Read through the training loop implementation below."
      ]
    },
    {
      "cell_type": "code",
      "execution_count": 19,
      "metadata": {
        "id": "blQxw3jN6YyY"
      },
      "outputs": [],
      "source": [
        "def train_agent(\n",
        "    env: gym.Env,\n",
        "    agent: ReinforceAgent,\n",
        "    optimizer: optim.Optimizer,\n",
        "    num_updates: int,\n",
        "    episodes_per_batch: int,\n",
        "    max_episode_steps: int,\n",
        "    convergence_threshold: float,\n",
        "    log_frequency: int,\n",
        "):\n",
        "    \"\"\"\n",
        "    A generic function to train a REINFORCE agent.\n",
        "\n",
        "    Args:\n",
        "        env: The gymnasium environment to train in.\n",
        "        agent: The ReinforceAgent to train.\n",
        "        optimizer: The optimizer for the agent's policy.\n",
        "        num_updates: The total number of policy updates to perform.\n",
        "        episodes_per_batch: The number of episodes to run per policy update.\n",
        "        max_episode_steps: The maximum steps allowed per episode.\n",
        "        convergence_threshold: The average reward to aim for to \"solve\" the env.\n",
        "        log_frequency: How often (in updates) to print progress.\n",
        "\n",
        "    Returns:\n",
        "        A tuple of avg_rewards for plotting.\n",
        "    \"\"\"\n",
        "    avg_rewards = []\n",
        "\n",
        "    print(f\"Starting training for {agent.policy.__class__.__name__}...\")\n",
        "    pbar = tqdm(range(num_updates), mininterval=2)\n",
        "    for i in pbar:\n",
        "        # These lists will store the experience for the entire batch.\n",
        "        batch_rewards = []\n",
        "        batch_log_probs = []\n",
        "        batch_episode_rewards = []\n",
        "\n",
        "        for _ in range(episodes_per_batch+1):\n",
        "            episode_rewards = []\n",
        "            episode_log_probs = []\n",
        "            total_episode_reward = 0\n",
        "            state, _ = env.reset()\n",
        "\n",
        "            for step in range(max_episode_steps):\n",
        "                # This is to handle state differences between environments:\n",
        "                # e.g., int for CliffWalking, numpy array for CartPole.\n",
        "                if isinstance(state, np.ndarray):\n",
        "                    state_tensor = torch.tensor(state, dtype=torch.float32)\n",
        "                else:\n",
        "                    state_tensor = state\n",
        "\n",
        "                # Get action & log_prob from the agent.\n",
        "                action, log_prob = agent(state_tensor)\n",
        "                next_state, reward, terminated, truncated, _ = env.step(action)\n",
        "                done = terminated or truncated\n",
        "\n",
        "                # *** Apply reward shaping for faster convergence ***\n",
        "                shaped_reward = get_shaped_reward(env, reward, state, next_state)\n",
        "\n",
        "                # Store experience for the current episode.\n",
        "                episode_rewards.append(shaped_reward)\n",
        "                episode_log_probs.append(log_prob)\n",
        "                total_episode_reward += reward\n",
        "                state = next_state\n",
        "\n",
        "                if done:\n",
        "                    break\n",
        "\n",
        "            # After the episode is done, add its history to the batch history.\n",
        "            batch_rewards.append(episode_rewards)\n",
        "            batch_log_probs.append(episode_log_probs)\n",
        "            batch_episode_rewards.append(total_episode_reward)\n",
        "\n",
        "        # 2. Update the agent's policy using the collected batch of experience.\n",
        "        agent.update(batch_log_probs, batch_rewards, optimizer)\n",
        "\n",
        "        # 3. Logging.\n",
        "        avg_reward_for_batch = np.mean(batch_episode_rewards)\n",
        "        avg_rewards.append(avg_reward_for_batch)\n",
        "\n",
        "        if i % log_frequency == 0:\n",
        "            print()\n",
        "        pbar.set_postfix(avg_reward=f\"{avg_reward_for_batch:.2f}\")\n",
        "\n",
        "        # 4. Check for convergence.\n",
        "        if avg_reward_for_batch > convergence_threshold:\n",
        "            print(f\"\\nSolved at update {i}!\")\n",
        "            break\n",
        "\n",
        "    return avg_rewards"
      ]
    },
    {
      "cell_type": "markdown",
      "metadata": {
        "id": "2AJmQBetLfqc"
      },
      "source": [
        "Let's run the training loop for the ReinforceAgent training a GridPolicy.\n",
        "\n",
        "There's nothing for you to code, but feel free to experiment with the hyperparameters! 🚀"
      ]
    },
    {
      "cell_type": "code",
      "execution_count": 20,
      "metadata": {
        "id": "pttE4Ep4LbVh",
        "colab": {
          "base_uri": "https://localhost:8080/",
          "height": 309,
          "referenced_widgets": [
            "44c5ab2d407a49c194fe109ff7e99345",
            "b8d14e488f984c4497b2181da5af1ba7",
            "0084af057303446ab15d7c10baa3797f",
            "15aba7f25fef4430b4f0faa6dde815fc",
            "503fce5b5e944d5d92373c0a75247d40",
            "e4d6796af51c4724813c6560549ddf8e",
            "3bfee5ee95b147ff837a04e2d743a3f2",
            "a78bcbeb4f914be7829e871c2bcfe6e3",
            "220235d2cb014b1393ce30bfa859bdc7",
            "f2e64a6cdf3f4fe5b9c30acd72f7d6f8",
            "4ce13cc9e4b84c69981979a7b134a867"
          ]
        },
        "outputId": "710bf7cd-2b78-4d2a-ab26-0ad4501c15bd"
      },
      "outputs": [
        {
          "output_type": "stream",
          "name": "stdout",
          "text": [
            "Starting training for GridPolicy...\n"
          ]
        },
        {
          "output_type": "display_data",
          "data": {
            "text/plain": [
              "  0%|          | 0/700 [00:00<?, ?it/s]"
            ],
            "application/vnd.jupyter.widget-view+json": {
              "version_major": 2,
              "version_minor": 0,
              "model_id": "44c5ab2d407a49c194fe109ff7e99345"
            }
          },
          "metadata": {}
        },
        {
          "output_type": "stream",
          "name": "stdout",
          "text": [
            "\n",
            "\n",
            "\n",
            "\n",
            "\n",
            "\n",
            "\n",
            "\n",
            "\n",
            "\n",
            "\n",
            "\n",
            "\n",
            "\n"
          ]
        }
      ],
      "source": [
        "# --- Hyperparameters ---\n",
        "TABULAR_LEARNING_RATE = 0.1  # @param\n",
        "TABULAR_GAMMA = 0.99  # @param\n",
        "TABULAR_NUM_UPDATES = 700  # @param\n",
        "TABULAR_EPISODES_PER_BATCH = 10  # @param\n",
        "TABULAR_MAX_EPISODE_STEPS = 100  # @param\n",
        "\n",
        "\n",
        "# --- Initialization ---\n",
        "grid_policy = GridPolicy(num_states, num_actions)\n",
        "grid_agent = ReinforceAgent(grid_policy, gamma=TABULAR_GAMMA)\n",
        "grid_optimizer = optim.Adam(grid_policy.parameters(), lr=TABULAR_LEARNING_RATE)\n",
        "\n",
        "\n",
        "# --- Run Training ---\n",
        "grid_avg_rewards = train_agent(\n",
        "    env=env,\n",
        "    agent=grid_agent,\n",
        "    optimizer=grid_optimizer,\n",
        "    num_updates=TABULAR_NUM_UPDATES,\n",
        "    episodes_per_batch=TABULAR_EPISODES_PER_BATCH,\n",
        "    max_episode_steps=TABULAR_MAX_EPISODE_STEPS,\n",
        "    convergence_threshold=-15,\n",
        "    log_frequency=50,\n",
        ")"
      ]
    },
    {
      "cell_type": "markdown",
      "metadata": {
        "id": "KWG8wGGfREG8"
      },
      "source": [
        "Let's plot the learning progress. You should see the average reward increase 📈."
      ]
    },
    {
      "cell_type": "code",
      "execution_count": 21,
      "metadata": {
        "cellView": "form",
        "id": "tBNJGQ7fQ3eZ",
        "colab": {
          "base_uri": "https://localhost:8080/",
          "height": 410
        },
        "outputId": "356ddc07-f2ff-4c90-f320-4f226b165c12"
      },
      "outputs": [
        {
          "output_type": "display_data",
          "data": {
            "text/plain": [
              "<Figure size 800x400 with 1 Axes>"
            ],
            "image/png": "[encoded data removed]"
          },
          "metadata": {}
        }
      ],
      "source": [
        "#@title Plotting learning progress for the Reinforce Agent with GridPolicy.\n",
        "plt.figure(figsize=(8, 4))\n",
        "plt.plot(grid_avg_rewards)\n",
        "plt.title(\"Average Episodic Reward (GridPolicy)\")\n",
        "plt.xlabel(\"Update Batch\")\n",
        "plt.ylabel(\"Average Reward\")\n",
        "plt.grid(True)\n",
        "plt.show()"
      ]
    },
    {
      "cell_type": "code",
      "execution_count": 22,
      "metadata": {
        "cellView": "form",
        "id": "bbdbDzb7ROyf",
        "colab": {
          "base_uri": "https://localhost:8080/",
          "height": 276
        },
        "outputId": "bc4dc5b6-f96d-48c5-a8bf-30cfb8299862"
      },
      "outputs": [
        {
          "output_type": "stream",
          "name": "stderr",
          "text": [
            "/usr/local/lib/python3.11/dist-packages/gymnasium/wrappers/rendering.py:296: UserWarning: \u001b[33mWARN: Overwriting existing videos at /content/videos folder (try specifying a different `video_folder` for the `RecordVideo` wrapper if this is not desired)\u001b[0m\n",
            "  logger.warn(\n"
          ]
        },
        {
          "output_type": "display_data",
          "data": {
            "text/plain": [
              "<IPython.core.display.HTML object>"
            ],
            "text/html": [
              "<video alt=\"test\" autoplay\n",
              "                    loop controls style=\"height: 200px;\">\n",
              "                    <source src=\"data:video/mp4;base64,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\" type=\"video/mp4\" />\n",
              "                </video>"
            ]
          },
          "metadata": {}
        }
      ],
      "source": [
        "#@title Watch your trained GridPolicy REINFORCE agent!\n",
        "\n",
        "visualise_policy(\n",
        "    policy=grid_agent.policy,\n",
        "    max_episode_steps=TABULAR_MAX_EPISODE_STEPS\n",
        ")"
      ]
    },
    {
      "cell_type": "markdown",
      "metadata": {
        "id": "ZrPCPACBsVOH"
      },
      "source": [
        "### A More General Approach: The Neural Network Policy\n",
        "\n",
        "Our `Grid_Policy` (a lookup table) worked, but for larger or continuous state spaces, tables quickly become impractical.\n",
        "\n",
        "We can replace our specialized table with a general-purpose **function approximator**: a neural network (NN) 🕸️. While it may seem like overkill here, it's a good exercise to show how we can apply these more powerful models.\n",
        "\n",
        "Neural networks require inputs to be vectors, not single integers. So we need to convert a state like `27` into a vector format.\n",
        "\n",
        "The standard method is **one-hot encoding**: we create a vector with one entry for each possible state (e.g., 48 total), all set to `0`, and set the element at index `27` to `1`.\n",
        "\n",
        "For example:\n",
        "\n",
        "```\n",
        "state = 27  \n",
        "=>  \n",
        "one_hot_vector = [0, 0, ..., 1, 0, ...]  # 1 at index 27\n",
        "```\n",
        "\n",
        "Now, let’s build a policy that performs this encoding and feeds the result into a simple MLP."
      ]
    },
    {
      "cell_type": "markdown",
      "metadata": {
        "id": "OIWjbRU_wB4k"
      },
      "source": [
        "#### ✏️ **Exercise: Define the NN Architecture**\n",
        "\n",
        "First, complete the `__init__` method by defining a simple 2-3 layer MLP using `nn.Sequential`. Make sure that your input dimension will be the total number of states. Then, complete the `forward` method. This is where you'll convert the integer observation into a one-hot vector before passing it to your network."
      ]
    },
    {
      "cell_type": "markdown",
      "metadata": {
        "id": "frG9Yw-WTblM"
      },
      "source": [
        "<details>\n",
        "<summary>💡 Hints</summary>\n",
        "\n",
        "For the `__init__` method:\n",
        "\n",
        "*   Use `nn.Sequential` to define the network architecture.\n",
        "*   Your **first** layer should be an `nn.Linear` that maps `num_states` to a hidden size (e.g., 32).\n",
        "*   Follow this with an `nn.ReLU()` activation function.\n",
        "*   Your **last** layer should be an `nn.Linear` that maps the hidden size to `num_actions`.\n",
        "*   Feel free to add extra layers and play with the number of hidden sizes.\n",
        "\n",
        "For the `forward` method:\n",
        "\n",
        "*   Use the `F.one_hot()` function to convert the integer observation into a one-hot vector.\n",
        "*   Make sure to set the `num_classes` argument in `F.one_hot()` to `self.num_states`.\n",
        "\n",
        "</details>"
      ]
    },
    {
      "cell_type": "code",
      "execution_count": 33,
      "metadata": {
        "id": "4qHMx9xYpcoi"
      },
      "outputs": [],
      "source": [
        "class NNPolicy(nn.Module):\n",
        "    \"\"\"\n",
        "    A policy parameterized by a neural network. It uses one-hot encoding\n",
        "    to handle discrete state spaces.\n",
        "    \"\"\"\n",
        "    def __init__(self, num_states: int, num_actions: int):\n",
        "        super().__init__()\n",
        "        self.num_states = num_states\n",
        "        hidden_dim = 64\n",
        "        self.policy_net = torch.nn.Sequential(\n",
        "            nn.Linear(num_states, hidden_dim),\n",
        "            nn.ReLU(),\n",
        "            nn.Linear(hidden_dim, hidden_dim),\n",
        "            nn.ReLU(),\n",
        "            nn.Linear(hidden_dim, num_actions)\n",
        "        )\n",
        "\n",
        "\n",
        "    def forward(self, obs: int) -> torch.Tensor:\n",
        "        \"\"\"\n",
        "        Performs a forward pass. It takes an integer observation,\n",
        "        converts it to a one-hot vector, and passes it through the network.\n",
        "        \"\"\"\n",
        "        # First, convert the integer observation to a tensor\n",
        "        obs_tensor = torch.tensor(obs, dtype=torch.long)\n",
        "        one_hot_obs = F.one_hot(obs_tensor, num_classes=self.num_states)\n",
        "        ################################################################\n",
        "        # Convert the observation tensor to a one-hot vector.\n",
        "        # Your solution:\n",
        "        # one_hot_obs = ...\n",
        "        ################################################################\n",
        "\n",
        "        # Cast the result to a float tensor.\n",
        "        one_hot_obs = one_hot_obs.float()\n",
        "\n",
        "        # Pass the one-hot vector through the network to get logits.\n",
        "        action_logits = self.policy_net(one_hot_obs)\n",
        "        return action_logits"
      ]
    },
    {
      "cell_type": "markdown",
      "metadata": {
        "id": "vSijgWWp1V2C"
      },
      "source": [
        "### Training loop for the `NNPolicy` REINFORCE Agent\n",
        "\n",
        "Just like before, our modular `ReinforceAgent` can use this new policy without any changes to its own code. We simply instantiate the `NNPolicy` and run the same training loop.\n",
        "\n",
        "In the code block below, we initialize the `NNPolicy`, the `ReinforceAgent`, and the optimizer. Then, run the training loop to solve `CliffWalking` with your new neural network policy."
      ]
    },
    {
      "cell_type": "code",
      "execution_count": null,
      "metadata": {
        "id": "fSQ4tD3U12G1",
        "colab": {
          "base_uri": "https://localhost:8080/",
          "height": 101,
          "referenced_widgets": [
            "9117df466f4f4b29ba356daa167fb166",
            "0f2d04c0ec87415eaf3cf1e3f710de09",
            "375be578424c41bc85398b76422a89d9",
            "e3121f2e3b864183adfc9e9085b7db85",
            "d1dd99dd837444898d9280b01d4565ff",
            "9be217377c6a430da3c7f0e1ef2e916c",
            "e2662fba2b7243a1804154d6b89eca4b",
            "4fa0764287354fc9b2dc9efd1d11aca3",
            "fb94860c9586455b9151944c296d095b",
            "8b40ecb8fdb549e4af5fbd3c49035943",
            "ecc8f9474c9e4be9a1d5416ee3f4653c"
          ]
        },
        "outputId": "e0aed2d4-2a81-48ed-bcd7-aca4a9a220cf"
      },
      "outputs": [
        {
          "output_type": "stream",
          "name": "stdout",
          "text": [
            "Starting training for NNPolicy...\n"
          ]
        },
        {
          "output_type": "display_data",
          "data": {
            "text/plain": [
              "  0%|          | 0/700 [00:00<?, ?it/s]"
            ],
            "application/vnd.jupyter.widget-view+json": {
              "version_major": 2,
              "version_minor": 0,
              "model_id": "9117df466f4f4b29ba356daa167fb166"
            }
          },
          "metadata": {}
        },
        {
          "output_type": "stream",
          "name": "stdout",
          "text": [
            "\n",
            "\n"
          ]
        }
      ],
      "source": [
        "# --- Hyperparameters for NN on CliffWalking ---\n",
        "NN_LEARNING_RATE = 0.001  # @param\n",
        "NN_GAMMA = 0.99  # @param\n",
        "NN_NUM_UPDATES = 700  # @param\n",
        "NN_EPISODES_PER_BATCH = 10  # @param\n",
        "NN_MAX_EPISODE_STEPS = 100  # @param\n",
        "\n",
        "\n",
        "# --- Initialization ---\n",
        "nn_policy = NNPolicy(num_states, num_actions)\n",
        "nn_agent = ReinforceAgent(nn_policy, gamma=NN_GAMMA)\n",
        "nn_optimizer = optim.Adam(nn_policy.parameters(), lr=NN_LEARNING_RATE)\n",
        "\n",
        "\n",
        "# --- Run Training ---\n",
        "nn_avg_rewards = train_agent(\n",
        "    env=env,\n",
        "    agent=nn_agent,\n",
        "    optimizer=nn_optimizer,\n",
        "    num_updates=NN_NUM_UPDATES,\n",
        "    episodes_per_batch=NN_EPISODES_PER_BATCH,\n",
        "    max_episode_steps=NN_MAX_EPISODE_STEPS,\n",
        "    convergence_threshold=-14,\n",
        "    log_frequency=50,\n",
        ")"
      ]
    },
    {
      "cell_type": "code",
      "execution_count": null,
      "metadata": {
        "cellView": "form",
        "id": "uNb7ZkuOtrYl"
      },
      "outputs": [],
      "source": [
        "#@title Plotting learning progress for the Reinforce Agent with NNPolicy.\n",
        "plt.figure(figsize=(8, 4))\n",
        "plt.plot(nn_avg_rewards)\n",
        "plt.title(\"Average Episodic Reward (NN Policy)\")\n",
        "plt.xlabel(\"Update Batch\")\n",
        "plt.ylabel(\"Average Reward\")\n",
        "plt.grid(True)\n",
        "plt.show()"
      ]
    },
    {
      "cell_type": "code",
      "execution_count": null,
      "metadata": {
        "cellView": "form",
        "id": "06ekFpwPt6lj"
      },
      "outputs": [],
      "source": [
        "#@title Watch your NN-based agent!\n",
        "\n",
        "visualise_policy(\n",
        "    policy=nn_agent.policy,\n",
        "    max_episode_steps=500,\n",
        "    folder=\"./videos_nn\"\n",
        ")"
      ]
    },
    {
      "cell_type": "markdown",
      "metadata": {
        "id": "JhVYbFxcuVtP"
      },
      "source": [
        "### **Conclusion**\n",
        "\n",
        "Congratulations! 🥳\n",
        "\n",
        "You now have a solid foundation in policy gradient methods. From here, you can explore more advanced algorithms like **Actor-Critic (A2C)** and **Proximal Policy Optimization (PPO)**, which build upon the core ideas you've learned today to offer even better stability and performance. Happy learning!"
      ]
    },
    {
      "cell_type": "markdown",
      "metadata": {
        "id": "V454B476owZN"
      },
      "source": [
        "# 🛠️ Practical 2 (Advanced): A2C and PPO"
      ]
    },
    {
      "cell_type": "markdown",
      "metadata": {
        "id": "2vILvAAmWZi0"
      },
      "source": [
        "In this practical, we will learn about [Advantage Actor-Critic(A2C)](https://arxiv.org/abs/1602.01783) and [Proximal Policy Optimization (PPO)](https://arxiv.org/abs/1707.06347).\n",
        "\n",
        "For this part, we will use the [CartPole](https://gymnasium.farama.org/environments/classic_control/cart_pole/) environment.\n",
        "\n",
        "**[CartPole](https://gymnasium.farama.org/environments/classic_control/cart_pole/)** is a classic control task where the goal is to balance a pole upright on a moving cart. The agent observes a 4-dimensional continuous state (cart position, cart velocity, pole angle, and pole angular velocity) and chooses between 2 discrete actions: move the cart left or right. The episode ends when the pole falls past a certain angle, the cart moves out of bounds, or 500 time steps elapse. The agent receives a reward of +1 for each time step the pole remains balanced, with a maximum possible score of 500 per episode.\n",
        "\n",
        "\n",
        "![cart-pole](https://gymnasium.farama.org/_images/cart_pole.gif)"
      ]
    },
    {
      "cell_type": "code",
      "execution_count": null,
      "metadata": {
        "cellView": "form",
        "id": "mnjZHohosBtc"
      },
      "outputs": [],
      "source": [
        "#@title Load the \"CartPole\" environment.\n",
        "\n",
        "env = gym.make(\"CartPole-v1\")\n",
        "num_actions = env.action_space.n\n",
        "input_dim = env.observation_space.shape[0]\n",
        "\n",
        "print(f\"Observation space (continuous): {env.observation_space.shape}\")\n",
        "print(f\"Action space: {env.action_space}\")"
      ]
    },
    {
      "cell_type": "markdown",
      "metadata": {
        "id": "38Sk9vGhNQEV"
      },
      "source": [
        "### Problems with REINFORCE\n",
        "---\n",
        "\n",
        "The REINFORCE algorithm has one major drawback: **high variance** in its gradient estimates.\n",
        "\n",
        "Let's look at the update rule again. The policy gradient is scaled by the return $G_{i,t}$:\n",
        "$$\n",
        "\\nabla_\\theta J(\\theta) \\approx \\frac{1}{N} \\sum_{i=1}^{N} \\sum_{t=0}^{T_i-1} \\color{red}{G_{i,t}} \\color{black}{\\cdot \\nabla_\\theta \\log \\pi_\\theta(a_{i,t} | s_{i,t})}\n",
        "$$\n",
        "\n",
        "This single scalar value, $G_{i,t}$, is used to credit every action from step $t$ onwards. This creates two problems related to what is known as **credit assignment**:\n",
        "\n",
        "1.  **Good actions in a bad trajectory get penalized.** Imagine an agent takes one great action but then makes a series of blunders, leading to a low total return. The great action will still be discouraged because the overall outcome was poor.\n",
        "2.  **Bad actions in a good trajectory get rewarded.** Conversely, a single lucky action at the end of an episode can result in a high return, causing all preceding actions (even poor ones) to be reinforced.\n",
        "\n",
        "Because the Monte Carlo return $G_{i,t}$ is the sum of many potentially random events, it can fluctuate wildly from one episode to the next. This makes the learning signal very noisy. To overcome this noise, REINFORCE often requires a large number of samples (episodes), making it **sample inefficient**.\n",
        "\n",
        "So, how can we create a more stable and reliable learning signal?"
      ]
    },
    {
      "cell_type": "markdown",
      "metadata": {
        "id": "3lZQd-27AG4o"
      },
      "source": [
        "### Actor-Critic methods\n",
        "---\n",
        "\n",
        "The key idea is to change our perspective. Instead of judging an action by its raw return $G_t$, we ask a better question:\n",
        "\n",
        "> How much better or worse was this return than what we *expected* to get from this state?\n",
        "\n",
        "To answer this, we need to formalize the idea of \"what we expected to get\". This is precisely the job of the **state-value function**, denoted as $V(s)$. The value function $V^\\pi(s)$ answers the question: \"Starting from state $s$, what is the average total return I can expect to get if I follow my current policy $\\pi$ from this point forward?\"\n",
        "\n",
        "Mathematically, it's defined as the **expected return, given the starting state**:\n",
        "$$\n",
        "V^\\pi(s) = \\mathbb{E}_{\\pi}[G_t | S_t = s]\n",
        "$$\n",
        "In short, $V(s)$ is a measure of how \"good\" a state is. A state with a high value is promising because we expect to accumulate a lot of future reward from there.\n",
        "\n",
        "With this concept, we have the perfect **baseline** for our calculation. We can compare the *actual* return $G_t$ we got with the *expected* return $V(s_t)$. This difference is called the **Advantage**.\n",
        "\n",
        "$$\n",
        "A(s_t, a_t) \\approx G_t - V(s_t)\n",
        "$$\n",
        "\n",
        "The Advantage $A(s_t, a_t)$ tells us how much better taking action $a_t$ was compared to the average action from state $s_t$.\n",
        "*   If $A(s_t, a_t) > 0$, the action led to a better-than-expected outcome.\n",
        "*   If $A(s_t, a_t) < 0$, the action led to a worse-than-expected outcome.\n",
        "\n",
        "\n",
        "This signal is much less noisy. A return of `+10` might be fantastic in a state where you expect `0` (Advantage = +10), but poor in a state where you expect `+20` (Advantage = -10). The Advantage centers the learning signal around zero, dramatically reducing variance and stabilizing training.\n",
        "\n",
        "This leads us to **Actor-Critic** methods:\n",
        "-   The **Actor** is the policy ($\\pi_\\theta$), which decides which action to take. It learns using the Advantage.\n",
        "-   The **Critic** is the value function ($V_\\phi$), which estimates the value of each state. Its job is to provide the baseline for the Actor's Advantage calculation.\n",
        "\n",
        "Both the Actor and the Critic are neural networks with parameters $\\theta$ and $\\phi$, respectively, that we train simultaneously.\n",
        "\n",
        "To train them, we combine their objectives into a single loss function:\n",
        "\n",
        "1.  **Actor Loss ($L_{actor}$)**: This is the policy gradient loss, but using the Advantage instead of $G_t$. We want to maximize the log-probability of actions, scaled by their advantage. (Note: the negative sign is for gradient descent).\n",
        "\n",
        "    $$L_{actor} = - \\mathbb{E}[A(s_t, a_t) \\cdot \\log \\pi_\\theta(a_t|s_t)]$$\n",
        "\n",
        "2.  **Critic Loss ($L_{critic}$)**: The Critic's job is to make its value estimate $V_\\phi(s_t)$ as close as possible to the observed return $G_t$. This is a standard regression problem, so we use the Mean Squared Error.\n",
        "\n",
        "    $$L_{critic} = \\mathbb{E}[(G_t - V_\\phi(s_t))^2]$$\n",
        "\n",
        "The total loss we minimize is a weighted sum of the two."
      ]
    },
    {
      "cell_type": "markdown",
      "metadata": {
        "id": "pSZ99dRbAuKi"
      },
      "source": [
        "### The Actor-Critic Policy\n",
        "---\n",
        "\n",
        "Our policy network now needs to produce 2 outputs from a single state:\n",
        "1.  A probability distribution over actions (for the Actor).\n",
        "2.  A single value estimating the quality of the state (for the Critic).\n",
        "\n",
        "A common and effective architecture is to use a shared \"body\" network that processes the observation, followed by two separate \"heads\" for the policy and value outputs. This allows the network to learn a common representation of the state that is useful for both tasks."
      ]
    },
    {
      "cell_type": "markdown",
      "metadata": {
        "id": "COeQLfaANZ0N"
      },
      "source": [
        "#### ✏️ **Exercise: Implement an Actor-Critic NN Policy**\n",
        "\n",
        "Complete the architecture of the `NN_Policy_Value` class below. Since we are using `CartPole-v1`, the observation is a 4-dimensional vector representing (cart position, cart velocity, pole angle, and pole angular velocity)."
      ]
    },
    {
      "cell_type": "markdown",
      "metadata": {
        "id": "_y7-4KKMPnaT"
      },
      "source": [
        "<details>\n",
        "<summary>💡 Hints</summary>\n",
        "\n",
        "*   The shared body can be an `nn.Sequential` that contains an `nn.Linear(input_dim, hidden_size)` layer followed by an `nn.ReLU()`.\n",
        "\n",
        "*   The policy head (the actor) is a separate `nn.Linear` layer that maps the `hidden_size` features to `num_actions`.\n",
        "\n",
        "*   The value head (the critic) is another `nn.Linear` layer that maps the `hidden_size` features to a single output of size 1.\n",
        "\n",
        "</details>"
      ]
    },
    {
      "cell_type": "code",
      "execution_count": null,
      "metadata": {
        "id": "gClFVeypAxfO"
      },
      "outputs": [],
      "source": [
        "class NN_Policy_Value(nn.Module):\n",
        "    \"\"\"\n",
        "    An actor-critic policy network with a shared body and separate heads.\n",
        "    \"\"\"\n",
        "    def __init__(\n",
        "        self,\n",
        "        input_dim: int,  # this will be `env.observation_space.shape`\n",
        "        num_actions: int,\n",
        "    ):\n",
        "        super().__init__()\n",
        "\n",
        "        ################################################################\n",
        "        # Your solution:\n",
        "        # 1. Define the shared network body.\n",
        "        # self.hidden_body = ...\n",
        "\n",
        "        # 2. Define the policy head for the Actor.\n",
        "        # self.policy_head = ...\n",
        "\n",
        "        # 3. Define the value head for the Critic.\n",
        "        # self.value_head = ...\n",
        "        ################################################################\n",
        "\n",
        "    def forward(self, obs: torch.Tensor) -> tuple[torch.Tensor, torch.Tensor]:\n",
        "        \"\"\"\n",
        "        Performs the forward pass.\n",
        "\n",
        "        Args:\n",
        "            obs: A tensor of state indices.\n",
        "\n",
        "        Returns:\n",
        "            A tuple containing:\n",
        "            - torch.Tensor: Action logits from the policy head.\n",
        "            - torch.Tensor: The state value from the value head.\n",
        "        \"\"\"\n",
        "        # First, one-hot encode the discrete state observation.\n",
        "        if obs.dim() == 0:  # Handle single integer observation.\n",
        "            obs = obs.unsqueeze(0)\n",
        "\n",
        "        # Pass through the shared body.\n",
        "        hidden_features = self.hidden_body(obs)\n",
        "\n",
        "        # Get action logits and state value from the heads.\n",
        "        action_logits = self.policy_head(hidden_features)  # [B, num_actions].\n",
        "        state_value = self.value_head(hidden_features)  # [B, 1].\n",
        "\n",
        "        return action_logits, state_value"
      ]
    },
    {
      "cell_type": "markdown",
      "metadata": {
        "id": "4UMcyG7DAw9N"
      },
      "source": [
        "### The A2C (Advantage Actor-Critic) Agent\n",
        "---\n",
        "\n",
        "Let's build the `A2CAgent` agent.\n",
        "\n",
        "For the policy gradient loss, use the Advantage instead of $G_t$. For learning the state-value function $V_\\phi(s_t)$, we apply a Mean Squared Error to bring it closer to the observed return $G_t$. The total loss we minimize is their (weighted) sum.\n",
        "\n",
        "$$Loss_{A2C} = -\\mathbb{E}[A(s_t, a_t) \\cdot \\log \\pi_\\theta(a_t|s_t)] + \\alpha * \\mathbb{E}[(G_t - V_\\phi(s_t))^2]$$\n",
        "\n",
        "where $\\alpha$ is the weight of the value loss.\n",
        "\n"
      ]
    },
    {
      "cell_type": "markdown",
      "metadata": {
        "id": "txH8SIE8A65d"
      },
      "source": [
        "#### ✏️ **Exercise: Implement the A2C Loss**\n",
        "\n",
        "Complete the `update` method in the `A2CAgent` below.\n"
      ]
    },
    {
      "cell_type": "markdown",
      "metadata": {
        "id": "ZwwZ90gsT30-"
      },
      "source": [
        "<details>\n",
        "<summary>💡 Hints</summary>\n",
        "\n",
        "*   The advantage is the difference between the actual `returns` and the critic's predicted `values`.\n",
        "\n",
        "*   The policy loss is the negative mean of `log_probs` multiplied by the `advantage`. Use `advantage.detach()` to stop gradients from flowing back into the value network from this loss.\n",
        "\n",
        "*  The value loss measures the critic's prediction error. Use `F.mse_loss()` to calculate the mean squared error between the `values` and `returns`.\n",
        "\n",
        "*   The final loss is the `policy_loss` plus the `value_loss` scaled by `self._value_loss_weight`.\n",
        "\n",
        "</details>"
      ]
    },
    {
      "cell_type": "code",
      "execution_count": null,
      "metadata": {
        "id": "rgOY4r2xA7Fq"
      },
      "outputs": [],
      "source": [
        "class A2CAgent(ReinforceAgent):\n",
        "    \"\"\"Implements the Advantage Actor-Critic (A2C) algorithm.\"\"\"\n",
        "\n",
        "    def __init__(self, policy: NN_Policy_Value, gamma: float = 0.99, value_loss_weight: float = 0.5):\n",
        "        super().__init__(policy=policy, gamma=gamma)\n",
        "        self._value_loss_weight = value_loss_weight\n",
        "\n",
        "    def forward(self, obs: torch.Tensor) -> tuple[int, torch.Tensor, torch.Tensor]:\n",
        "        \"\"\"Selects an action, its log-probability, and the state value.\"\"\"\n",
        "        action_logits, value = self.policy(obs)\n",
        "        distribution = Categorical(logits=action_logits)\n",
        "        action = distribution.sample()\n",
        "        log_prob = distribution.log_prob(action)\n",
        "        return action.item(), log_prob, value.squeeze(-1)\n",
        "\n",
        "    def update(self, batch_data: dict, optimizer: torch.optim.Optimizer):\n",
        "        \"\"\"Performs the learning step for a batch of episodes.\"\"\"\n",
        "        # Unpack data for the whole batch, collected by the training loop\n",
        "        log_probs = torch.cat(batch_data['log_probs'])\n",
        "        values = torch.cat(batch_data['values'])\n",
        "        returns = torch.cat(batch_data['returns'])\n",
        "\n",
        "        ################################################################\n",
        "        # Your solution:\n",
        "        # 1. Calculate the advantage.\n",
        "        # advantage = ...\n",
        "\n",
        "        # 2. Calculate the policy loss (actor loss).\n",
        "        # We use .mean() for stability across batch sizes.\n",
        "        # policy_loss = ...\n",
        "\n",
        "        # 3. Calculate the value loss (critic loss).\n",
        "        # value_loss = ...\n",
        "\n",
        "        # 4. Combine the losses.\n",
        "        # loss = ...\n",
        "        ################################################################\n",
        "\n",
        "        optimizer.zero_grad()\n",
        "        loss.backward()\n",
        "        optimizer.step()"
      ]
    },
    {
      "cell_type": "markdown",
      "metadata": {
        "id": "hjm__LqRBC0h"
      },
      "source": [
        "### Improving A2C with Entropy Regularization\n",
        "\n",
        "A common problem in RL is an agent that becomes too confident in a sub-optimal policy too early, failing to explore other, potentially better options. To encourage exploration, we can add an **entropy bonus** to our loss function.\n",
        "\n",
        "**Entropy** is a measure of randomness or uncertainty in a probability distribution. A high-entropy policy is more random (exploratory), while a low-entropy policy is more deterministic (exploitative).\n",
        "\n",
        "By adding the policy's entropy to the objective (or subtracting it from the loss), we encourage the agent to maintain a degree of randomness, preventing it from collapsing into a single, greedy action too soon.\n",
        "\n",
        "$$ \\text{Loss}_{final} = \\text{Loss}_{A2C} - \\beta \\cdot H(\\pi_\\theta(s_t)) $$\n",
        "\n",
        "where `H` is the entropy and `β` is a small coefficient to weigh the entropy bonus."
      ]
    },
    {
      "cell_type": "markdown",
      "metadata": {
        "id": "CxBbr48nBC5h"
      },
      "source": [
        "#### ✏️ **Exercise: Implement the Entropy Bonus**\n",
        "\n",
        "We can implement this by creating a new agent that inherits from `A2CAgent` and overrides the `update` method.\n"
      ]
    },
    {
      "cell_type": "markdown",
      "metadata": {
        "id": "81MJlTTOUWxK"
      },
      "source": [
        "<details>\n",
        "<summary>💡 Hints</summary>\n",
        "\n",
        "*   To calculate entropy for the batch, you first need to get the action distributions for all `states` that were visited. Pass the `states` tensor through `self.policy` to get the logits.\n",
        "\n",
        "*   Create a `Categorical` distribution from the logits. This distribution object has a built-in `.entropy()` method.\n",
        "\n",
        "*   Call `.entropy().mean()` on your distribution to get the average entropy for the batch.\n",
        "\n",
        "*   The final loss is `policy_loss + value_loss - (entropy_weight * entropy)`. We subtract the entropy term because maximizing entropy is equivalent to minimizing negative entropy.\n",
        "\n",
        "</details>"
      ]
    },
    {
      "cell_type": "code",
      "execution_count": null,
      "metadata": {
        "id": "SDF-xXNMBHfH"
      },
      "outputs": [],
      "source": [
        "class A2CEntropyAgent(A2CAgent):\n",
        "    \"\"\"Implements A2C with an entropy bonus for exploration.\"\"\"\n",
        "\n",
        "    def __init__(\n",
        "        self,\n",
        "        policy: NN_Policy_Value,\n",
        "        value_loss_weight: float = 0.5,\n",
        "        entropy_weight: float = 0.01,\n",
        "    ):\n",
        "        super().__init__(policy, value_loss_weight=value_loss_weight)\n",
        "        self._entropy_weight = entropy_weight\n",
        "\n",
        "    def update(self, batch_data: dict, optimizer: torch.optim.Optimizer):\n",
        "        \"\"\"Performs the learning step, adding an entropy bonus.\"\"\"\n",
        "        log_probs = torch.cat(batch_data['log_probs'])\n",
        "        values = torch.cat(batch_data['values'])\n",
        "        returns = torch.cat(batch_data['returns'])\n",
        "        states = torch.cat(batch_data['states'])\n",
        "\n",
        "        advantage = returns - values\n",
        "        policy_loss = -(log_probs * advantage.detach()).mean()\n",
        "        value_loss = F.mse_loss(values, returns)\n",
        "\n",
        "        ################################################################\n",
        "        # Your solution:\n",
        "        # 1. Get the action logits for all visited states to compute entropy.\n",
        "        # logits, _ = ...\n",
        "\n",
        "        # 2. Calculate the entropy bonus.\n",
        "        # entropy_bonus = ...\n",
        "\n",
        "        # 3. Combine the losses, including the entropy bonus.\n",
        "        # loss = ...\n",
        "        ################################################################\n",
        "\n",
        "        optimizer.zero_grad()\n",
        "        loss.backward()\n",
        "        optimizer.step()"
      ]
    },
    {
      "cell_type": "markdown",
      "metadata": {
        "id": "X4YPohpMBDOZ"
      },
      "source": [
        "### Stabilizing with PPO (Proximal Policy Optimization)\n",
        "\n",
        "Even with advantage estimation and entropy bonus, policy gradient methods can be unstable. A single bad update step can drastically change the policy, leading to a performance collapse that is difficult to recover from.\n",
        "\n",
        "**PPO** introduces a simple idea to prevent this: it constrains how much the new policy can differ from the old one at each update. It achieves this by \"clipping\" the objective function.\n",
        "\n",
        "The core idea is to use a ratio:\n",
        "\n",
        "$$w_t(\\theta) = \\pi_\\theta(a_t|s_t) / \\pi_{\\theta_{old}}(a_t|s_t)$$\n",
        "\n",
        "that measures how much the probability of an action has changed.\n",
        "\n",
        "The PPO loss then takes the minimum of the normal objective and a \"clipped\" version:\n",
        "\n",
        "$$ L^{CLIP}(\\theta) = \\mathbb{E}_t \\left[ \\min(w_t(\\theta) \\hat{A}_t, \\text{clip}(w_t(\\theta), 1-\\epsilon, 1+\\epsilon) \\hat{A}_t) \\right] $$\n",
        "\n",
        "This clipping prevents the policy from changing too aggressively, especially when the advantage is large, leading to more stable training.\n",
        "\n",
        "> PPO is still a state-of-the-art algorithm used widely today.\n"
      ]
    },
    {
      "cell_type": "markdown",
      "metadata": {
        "id": "8Zionrh_BQYH"
      },
      "source": [
        "#### ✏️ **Exercise 4: Implement the PPO Loss**\n",
        "\n",
        "We will provide the boilerplate for the PPO update loop, which often involves multiple optimization steps on the same batch of data.\n",
        "\n",
        "Your task is to implement the policy loss."
      ]
    },
    {
      "cell_type": "markdown",
      "metadata": {
        "id": "spzXcZrJUoaJ"
      },
      "source": [
        "<details>\n",
        "<summary>💡 Hints</summary>\n",
        "\n",
        "*   1. The probability ratio `w_t` is calculated in log space for numerical stability. Use `torch.exp(new_log_probs - old_log_probs)`.\n",
        "\n",
        "*   2. For the first surrogate objective (`surr1`), simply multiply the ratio `w_t` by the `advantages`.\n",
        "\n",
        "*   2. For the second surrogate objective (`surr2`), first clip the ratio `w_t` using `torch.clamp()`. The min and max values for the clamp are `1 - self._clip_epsilon` and `1 + self._clip_epsilon`. Then multiply the result by the `advantages`.\n",
        "\n",
        "*   3. The PPO policy loss takes the element-wise minimum of `surr1` and `surr2`. Use `torch.min()` for this, then take the `.mean()`, and remember to negate the final result.\n",
        "\n",
        "*   4. Add the value loss (mean squared error with returns) as before.\n",
        "\n",
        "</details>"
      ]
    },
    {
      "cell_type": "code",
      "execution_count": null,
      "metadata": {
        "id": "ZUjFFVs_BO59"
      },
      "outputs": [],
      "source": [
        "class PPOAgent(A2CEntropyAgent):\n",
        "    \"\"\"Implements the Proximal Policy Optimization (PPO) algorithm.\"\"\"\n",
        "\n",
        "    def __init__(\n",
        "        self,\n",
        "        policy: NN_Policy_Value,\n",
        "        value_loss_weight: float = 0.5,\n",
        "        entropy_weight: float = 0.01,\n",
        "        clip_epsilon: float = 0.2,\n",
        "        n_epochs: int = 4,\n",
        "    ):\n",
        "        super().__init__(\n",
        "            policy=policy,\n",
        "            value_loss_weight=value_loss_weight,\n",
        "            entropy_weight=entropy_weight,\n",
        "        )\n",
        "        self._clip_epsilon = clip_epsilon\n",
        "        self._n_epochs = n_epochs\n",
        "\n",
        "    def update(self, batch_data: dict, optimizer: torch.optim.Optimizer):\n",
        "        \"\"\"Performs the PPO update over multiple epochs.\"\"\"\n",
        "        # PPO uses the collected data multiple times, so we detach it.\n",
        "        old_log_probs = torch.cat(batch_data['log_probs']).detach()\n",
        "        old_values = torch.cat(batch_data['values']).detach()\n",
        "        returns = torch.cat(batch_data['returns']).detach()\n",
        "        states = torch.cat(batch_data['states']).detach()\n",
        "        actions = torch.tensor(sum(batch_data['actions'], [])).detach()\n",
        "\n",
        "        # Calculate advantages once using old values and normalize them.\n",
        "        advantages = returns - old_values\n",
        "        advantages = (advantages - advantages.mean()) / (advantages.std() + 1e-8)\n",
        "\n",
        "        # --- PPO Inner Loop ---\n",
        "        for _ in range(self._n_epochs):\n",
        "            # Get new predictions from the current (updated) policy.\n",
        "            new_logits, new_values = self.policy(states)\n",
        "            new_values = new_values.squeeze(-1)\n",
        "            distribution = Categorical(logits=new_logits)\n",
        "            new_log_probs = distribution.log_prob(actions)\n",
        "\n",
        "            ################################################################\n",
        "            # Your solution:\n",
        "            # 1. Calculate the importance sampling weights.\n",
        "            # w_t = ...\n",
        "\n",
        "            # 2. Calculate the two surrogate objectives.\n",
        "            # surr1 = ...\n",
        "            # surr2 = ...\n",
        "\n",
        "            # 3. Put together the PPO policy loss based on the two surrogates.\n",
        "            # policy_loss = ...\n",
        "\n",
        "            # 4. Value loss.\n",
        "            # value_loss = ...\n",
        "            ################################################################\n",
        "\n",
        "            # Entropy bonus.\n",
        "            entropy_bonus = distribution.entropy().mean()\n",
        "\n",
        "            loss = (\n",
        "                policy_loss\n",
        "                + self._value_loss_weight * value_loss\n",
        "                - self._entropy_weight * entropy_bonus\n",
        "            )\n",
        "\n",
        "            optimizer.zero_grad()\n",
        "            loss.backward()\n",
        "            optimizer.step()"
      ]
    },
    {
      "cell_type": "markdown",
      "metadata": {
        "id": "ZfZz6dUABoeN"
      },
      "source": [
        "Finally, let's adapt our `train_agent` function from Practical 1 to handle the Actor-Critic agents. The main change is handling the \"bootstrapped\" value from the final state if an episode is truncated."
      ]
    },
    {
      "cell_type": "code",
      "execution_count": null,
      "metadata": {
        "id": "3HcfGcNmC-NG"
      },
      "outputs": [],
      "source": [
        "# @title Training loop for Actor-Critic agents.\n",
        "\n",
        "def train_actor_critic_agent(\n",
        "    env: gym.Env,\n",
        "    agent: A2CAgent,\n",
        "    optimizer: torch.optim.Optimizer,\n",
        "    num_updates: int,\n",
        "    episodes_per_batch: int,\n",
        "    max_episode_steps: int,\n",
        "    convergence_threshold: float,\n",
        "    log_frequency: int = 20\n",
        "):\n",
        "    \"\"\"A generic function to train Actor-Critic style agents.\"\"\"\n",
        "    avg_rewards_history = []\n",
        "    print(f\"Starting training for {agent.__class__.__name__}...\")\n",
        "\n",
        "    pbar = tqdm(range(num_updates), mininterval=2)\n",
        "    for i in pbar:\n",
        "        batch_data = {  # this is to hold all data for the batch.\n",
        "            'states': [], 'actions': [], 'rewards': [],\n",
        "            'log_probs': [], 'values': [], 'returns': []\n",
        "        }\n",
        "        batch_total_rewards = []\n",
        "\n",
        "        # --- Data Collection Phase ---\n",
        "        for _ in range(episodes_per_batch):\n",
        "            # Per-episode storage\n",
        "            episode_states, episode_actions, episode_rewards = [], [], []\n",
        "            episode_log_probs, episode_values = [], []\n",
        "            episode_total_reward = 0\n",
        "            state, _ = env.reset()\n",
        "\n",
        "            for step in range(max_episode_steps):\n",
        "                state_tensor = torch.tensor(state)\n",
        "                # Get action, log_prob, and value from the agent.\n",
        "                action, log_prob, value = agent(state_tensor)\n",
        "                next_state, reward, terminated, truncated, _ = env.step(action)\n",
        "                done = terminated or truncated\n",
        "\n",
        "                # Store experience.\n",
        "                episode_states.append(state_tensor)\n",
        "                episode_actions.append(action)\n",
        "                episode_rewards.append(reward)\n",
        "                episode_log_probs.append(log_prob)\n",
        "                episode_values.append(value)\n",
        "                episode_total_reward += reward\n",
        "                state = next_state\n",
        "\n",
        "                if done:\n",
        "                    break\n",
        "\n",
        "            # --- Episode Finish: Calculate Returns and Bootstrap ---\n",
        "            last_value = 0.0\n",
        "            if truncated: # bootstrap if episode was cut short.\n",
        "                with torch.no_grad():\n",
        "                    _, last_value_tensor = agent.policy(torch.tensor(state))\n",
        "                    last_value = last_value_tensor.item()\n",
        "\n",
        "            # Calculate discounted returns for the episode.\n",
        "            returns = []\n",
        "            R = last_value\n",
        "            for r in reversed(episode_rewards):\n",
        "                R = r + agent.gamma * R\n",
        "                returns.insert(0, R)\n",
        "\n",
        "            # Add this episode's data to the batch.\n",
        "            batch_data['states'].append(torch.stack(episode_states))\n",
        "            batch_data['actions'].append(episode_actions)\n",
        "            batch_data['rewards'].append(episode_rewards)\n",
        "            batch_data['log_probs'].append(torch.stack(episode_log_probs))\n",
        "            batch_data['values'].append(torch.stack(episode_values))\n",
        "            batch_data['returns'].append(torch.tensor(returns, dtype=torch.float32))\n",
        "            batch_total_rewards.append(episode_total_reward)\n",
        "\n",
        "        # --- Learning Phase ---\n",
        "        agent.update(batch_data, optimizer)\n",
        "\n",
        "        # --- Logging ---\n",
        "        avg_reward_for_batch = np.mean(batch_total_rewards)\n",
        "        avg_rewards_history.append(avg_reward_for_batch)\n",
        "        pbar.set_postfix(avg_reward=f\"{avg_reward_for_batch:.2f}\")\n",
        "\n",
        "        # Check for convergence.\n",
        "        if avg_reward_for_batch > convergence_threshold:\n",
        "            print(f\"\\nSolved at update {i}!\")\n",
        "            break\n",
        "\n",
        "    return avg_rewards_history"
      ]
    },
    {
      "cell_type": "code",
      "execution_count": null,
      "metadata": {
        "id": "vVqwm2GCBo16"
      },
      "outputs": [],
      "source": [
        "# --- Hyperparameters ---\n",
        "LEARNING_RATE = 0.01\n",
        "NUM_UPDATES = 1000\n",
        "EPISODES_PER_BATCH = 10\n",
        "MAX_EPISODE_STEPS = 500\n",
        "\n",
        "VALUE_WEIGHT_LOSS = 0.5  # for A2C\n",
        "ENTROPY_WEIGHT = 0.01  # for A2C with regularization\n",
        "CLIP_EPSILON = 0.2  # for PPO only\n",
        "N_EPOCHS = 4  # for PPO only\n",
        "\n",
        "# --- Agent Selection ---\n",
        "agent_to_train = \"A2CEntropy\" # @param [\"A2C\", \"A2CEntropy\", \"PPO\"]\n",
        "\n",
        "# --- Initialization ---\n",
        "# We use the same policy network for all agents\n",
        "policy = NN_Policy_Value(input_dim=input_dim, num_actions=num_actions)\n",
        "\n",
        "if agent_to_train == \"A2C\":\n",
        "    agent = A2CAgent(\n",
        "        policy=policy,\n",
        "        value_loss_weight=VALUE_WEIGHT_LOSS,\n",
        "    )\n",
        "elif agent_to_train == \"A2CEntropy\":\n",
        "    agent = A2CEntropyAgent(\n",
        "        policy=policy,\n",
        "        value_loss_weight=VALUE_WEIGHT_LOSS,\n",
        "        entropy_weight=ENTROPY_WEIGHT,\n",
        "    )\n",
        "elif agent_to_train == \"PPO\":\n",
        "    agent = PPOAgent(\n",
        "        policy=policy,\n",
        "        value_loss_weight=VALUE_WEIGHT_LOSS,\n",
        "        entropy_weight=ENTROPY_WEIGHT,\n",
        "        clip_epsilon=CLIP_EPSILON,\n",
        "        n_epochs=N_EPOCHS,\n",
        "    )\n",
        "else:\n",
        "    raise ValueError(f'Unknown agent {agent_to_train}.')\n",
        "\n",
        "optimizer = optim.Adam(policy.parameters(), lr=LEARNING_RATE)\n",
        "\n",
        "# --- Run Training ---\n",
        "\n",
        "avg_rewards = train_actor_critic_agent(\n",
        "    env=env,\n",
        "    agent=agent,\n",
        "    optimizer=optimizer,\n",
        "    num_updates=NUM_UPDATES,\n",
        "    episodes_per_batch=EPISODES_PER_BATCH,\n",
        "    max_episode_steps=MAX_EPISODE_STEPS,\n",
        "    convergence_threshold=500,\n",
        "    log_frequency=50\n",
        ")"
      ]
    },
    {
      "cell_type": "code",
      "execution_count": null,
      "metadata": {
        "cellView": "form",
        "id": "xZ50eqBpDPFE"
      },
      "outputs": [],
      "source": [
        "#@title Plotting Episodic Rewards\n",
        "\n",
        "plt.figure(figsize=(8, 4))\n",
        "plt.plot(avg_rewards)\n",
        "plt.title(f\"Learning curve for {agent.__class__.__name__}\")\n",
        "plt.xlabel(\"Update Batch\")\n",
        "plt.ylabel(\"Average Reward per Batch\")\n",
        "plt.grid(True)\n",
        "# Add a line for the optimal score.\n",
        "plt.axhline(y=-13, color='r', linestyle='--', label='Optimal Score (-13)')\n",
        "plt.legend()\n",
        "plt.show()"
      ]
    },
    {
      "cell_type": "code",
      "execution_count": null,
      "metadata": {
        "cellView": "form",
        "id": "wzuVCfvSByb-"
      },
      "outputs": [],
      "source": [
        "#@title Visualize the trained Agent.\n",
        "\n",
        "# We re-use the visualise_policy function from Practical 1.\n",
        "visualise_policy(\n",
        "    env_id='CartPole-v1',\n",
        "    policy=agent.policy,\n",
        "    max_episode_steps=500,\n",
        ")"
      ]
    },
    {
      "cell_type": "markdown",
      "metadata": {
        "id": "p1Ib-p99o7uw"
      },
      "source": [
        "# 🛠️ Practical 3: Fine-tuning a language model"
      ]
    },
    {
      "cell_type": "markdown",
      "metadata": {
        "id": "z9dOWDuI8PFu"
      },
      "source": [
        "We have journeyed from simple tabular policies to neural networks solving classic control problems. Now, we'll scale up dramatically to one of the most exciting applications of RL today: fine-tuning Large Language Models (LLMs).\n",
        "\n",
        "You've likely heard of models like ChatGPT, Claude, Gemini and Llama. A key reason for their success is a process called **Reinforcement Learning from Human Feedback (RLHF)**."
      ]
    },
    {
      "cell_type": "markdown",
      "metadata": {
        "id": "GPRnYMARDyID"
      },
      "source": [
        "#### Mapping RL Concepts to LLMs\n",
        "\n",
        "Let's connect this back to what we've learned. How do our RL concepts apply here?\n",
        "\n",
        "-   🧠 **Policy**: The LLM (GPT-2) is our policy. Its parameters are the weights of the neural network.\n",
        "-   ✍️ **Action**: The \"action\" is the generation of the next token from the entire vocabulary. A full response is a sequence of actions.\n",
        "-   📄 **State**: The \"state\" is the sequence of tokens generated so far. It starts with the input prompt and grows with each token the policy generates.\n",
        "-   👍 **Reward**: The score given to the final, complete response by our reward model (the sentiment classifier).\n"
      ]
    },
    {
      "cell_type": "markdown",
      "metadata": {
        "id": "X5L4fQ0E8Rx5"
      },
      "source": [
        "#### Why do we need RL for LLMs?\n",
        "\n",
        "Standard LLMs are trained to predict the next word in a massive dataset of text from the internet. This makes them excellent at mimicking human language, but it doesn't guarantee they are helpful, harmless, or follow instructions well. This is known as the **alignment problem**.\n",
        "\n",
        "RLHF is a technique to \"steer\" an already pre-trained LLM towards desired behaviors (like being more helpful, positive, or concise).\n",
        "\n",
        "The full RLHF process has three main steps:\n",
        "1.  **Pre-training an LLM**: This is the standard language modeling step (already done for us).\n",
        "2.  **Training a Reward Model (RM)**: A separate model is trained to predict which of two responses a human would prefer. This RM learns to score text based on human values.\n",
        "3.  **Fine-tuning with RL**: The pre-trained LLM (the policy) is then fine-tuned using RL. It generates text, the Reward Model scores it, and an RL algorithm (like PPO) updates the LLM's weights to maximize the reward.\n",
        "\n",
        "For this tutorial, we will implement a simplified version of this pipeline called **Reinforcement Learning from Classifier Feedback**. Instead of training our own reward model on human preferences, we will use a pre-trained sentiment **classifier** as our reward model. Our goal: to tune GPT-2 to generate more positive movie reviews."
      ]
    },
    {
      "cell_type": "markdown",
      "metadata": {
        "id": "RZoUIhmTDyOF"
      },
      "source": [
        "#### From REINFORCE to PPO\n",
        "\n",
        "For a complex task like language generation, the high variance of the REINFORCE algorithm can make training unstable. We'll use a more advanced and robust algorithm from the same policy gradient family: **Proximal Policy Optimization (PPO)**.\n",
        "\n",
        "> **Intuition for PPO**: You can think of PPO as a smarter, more stable version of REINFORCE. It also updates the policy based on rewards, but it constrains how much the policy can change in each update step (compared to the previous policy), preventing it from straying too far from what it already knows. This leads to much smoother training.\n",
        "\n",
        "We will use the [trl](https://github.com/huggingface/trl) library from Hugging Face, which handles the complexity of PPO for us."
      ]
    },
    {
      "cell_type": "markdown",
      "metadata": {
        "id": "7eugoLm7ZrZQ"
      },
      "source": [
        "## GPT2 for positive reviews\n",
        "\n",
        "Let's fine-tune a pre-trained GPT-2 to generate positive continuations for movie review prompts. We'll use:\n",
        "*   **Policy**: A GPT-2 model fine-tuned on the IMDB dataset, called [lvwerra/gpt2-imdb](https://huggingface.co/lvwerra/gpt2-imdb) with 124M parameters.\n",
        "*   **Reward Model**: A DistilBERT model pre-trained on the sentiment analysis task: it has been trained to predict whether the text is positive or negative -- this has 66M parameters.\n",
        "\n",
        "**N.B.** This section is based on (now deprecated) [Tune GPT2 to generate positive reviews](https://huggingface.co/docs/trl/v0.1.1/en/sentiment_tuning)."
      ]
    },
    {
      "cell_type": "code",
      "execution_count": null,
      "metadata": {
        "id": "q9hGVFmwiJ-4"
      },
      "outputs": [],
      "source": [
        "# Set up the device and a separate device for the reward pipeline.\n",
        "device = torch.device(\"cuda\" if torch.cuda.is_available() else \"cpu\")\n",
        "pipe_device = 0 if torch.cuda.is_available() else -1"
      ]
    },
    {
      "cell_type": "markdown",
      "metadata": {
        "id": "extI12wSDJyC"
      },
      "source": [
        "#### Configuration\n",
        "\n",
        "First, let's set up our environment and all the hyperparameters for our experiment:\n",
        "-  `config` for fine-tuning the pretrained LLM model using PPO\n",
        "- `sent_kwargs` for the reward (sentiment analysis) model\n",
        "- `gen_kwargs` for generating data with the LLM, which can be considered as gathering the trajectories by sampling actions from the agent's policy."
      ]
    },
    {
      "cell_type": "code",
      "execution_count": null,
      "metadata": {
        "id": "ZXOK8KGmDqFT"
      },
      "outputs": [],
      "source": [
        "# PPO Configuration.\n",
        "config = {\n",
        "    \"model_name\": \"lvwerra/gpt2-imdb\",\n",
        "    \"steps\": 20000,\n",
        "    \"batch_size\": 256,\n",
        "    \"txt_in_min_len\": 2,\n",
        "    \"txt_in_max_len\": 8,\n",
        "    \"txt_out_min_len\": 4,\n",
        "    \"txt_out_max_len\": 16,\n",
        "    \"lr\": 1.41e-5,\n",
        "    \"init_kl_coef\": 0.2,\n",
        "    \"target\": 6,\n",
        "}\n",
        "\n",
        "# Generation settings for the LLM.\n",
        "gen_kwargs = {\n",
        "    \"min_length\":-1,\n",
        "    \"top_k\": 0.0,\n",
        "    \"top_p\": 1.0,\n",
        "    \"do_sample\": True,\n",
        "    \"pad_token_id\": None,\n",
        "}\n",
        "\n",
        "# Reward model settings.\n",
        "sent_kwargs = {\n",
        "    \"top_k\": None,\n",
        "    \"function_to_apply\": \"none\",\n",
        "    \"batch_size\": 16,\n",
        "}"
      ]
    },
    {
      "cell_type": "markdown",
      "metadata": {
        "id": "_0nXBSEpMLYh"
      },
      "source": [
        "#### Load data\n",
        "\n",
        "We'll load the IMDB dataset, which contains movie reviews. These reviews will serve as the initial \"state\" or \"prompt\" for our GPT-2 model."
      ]
    },
    {
      "cell_type": "code",
      "execution_count": null,
      "metadata": {
        "id": "0gSEOQsWDows"
      },
      "outputs": [],
      "source": [
        "ds = load_dataset('imdb', split='train')\n",
        "ds = ds.rename_columns({'text': 'review', 'label': 'sentiment'})\n",
        "# Filter out very short reviews.\n",
        "ds = ds.filter(lambda x: len(x[\"review\"]) > 200, batched=False)"
      ]
    },
    {
      "cell_type": "markdown",
      "metadata": {
        "id": "dAXiw9Dicwjj"
      },
      "source": [
        "#### Load the reward model.\n",
        "\n",
        "Next, we'll load our reward model (the sentiment classifier). This pipeline will take a piece of text and return a score for \"positive\" and \"negative\" sentiment. We'll use the \"positive\" score as our reward signal."
      ]
    },
    {
      "cell_type": "code",
      "execution_count": null,
      "metadata": {
        "id": "59J0FFe_c2Mz"
      },
      "outputs": [],
      "source": [
        "sentiment_pipe = pipeline(\"sentiment-analysis\",\"lvwerra/distilbert-imdb\", device=pipe_device)"
      ]
    },
    {
      "cell_type": "code",
      "execution_count": null,
      "metadata": {
        "id": "og3GtzJ0BuxX"
      },
      "outputs": [],
      "source": [
        "# Let's test the reward pipeline -- feel free to try out your own examples!\n",
        "\n",
        "example_texts = [\n",
        "    \"This movie was absolutely fantastic, a must-see!\",\n",
        "    \"I was so bored I fell asleep in the theater.\"\n",
        "]\n",
        "\n",
        "rewards = []\n",
        "outputs = sentiment_pipe(example_texts, top_k=None)\n",
        "\n",
        "for output in outputs:\n",
        "    positive_score = output[1]['score']\n",
        "    rewards.append(positive_score)\n",
        "\n",
        "for example_text, reward in zip(example_texts, rewards):\n",
        "  print(f\"Text: '{example_text}'\\nReward: {reward:.4f}\\n\")"
      ]
    },
    {
      "cell_type": "markdown",
      "metadata": {
        "id": "sLwAOPB_NxKi"
      },
      "source": [
        "#### Load policy model\n",
        "\n",
        "Now, we load our policy model (GPT-2). We need 2 copies:\n",
        "\n",
        "*  `gpt2_model`: This is the policy we will actively train and update.\n",
        "*  `gpt2_model_ref`: This is a frozen, non-trainable copy. PPO uses this reference to calculate the KL divergence penalty, ensuring our active policy doesn't stray too far from its original behavior.\n",
        "\n",
        "The `AutoModelForCausalLMWithValueHead` class from `trl` is a special wrapper that adds an extra \"value head\" to the standard GPT-2 model. This value head is trained to predict the expected reward from a given state, which is a key component of PPO's optimization process."
      ]
    },
    {
      "cell_type": "code",
      "execution_count": null,
      "metadata": {
        "id": "Qg7tPLJ9Dv0_"
      },
      "outputs": [],
      "source": [
        "gpt2_model = AutoModelForCausalLMWithValueHead.from_pretrained(config['model_name'])\n",
        "gpt2_model_ref = AutoModelForCausalLMWithValueHead.from_pretrained(config['model_name'])\n",
        "gpt2_tokenizer = AutoTokenizer.from_pretrained(config['model_name'])\n",
        "\n",
        "# Set the pad token to the end-of-sequence token.\n",
        "gpt2_tokenizer.pad_token = gpt2_tokenizer.eos_token\n",
        "gen_kwargs[\"pad_token_id\"] = gpt2_tokenizer.pad_token_id\n",
        "\n",
        "gpt2_model.to(device);\n",
        "gpt2_model_ref.to(device);"
      ]
    },
    {
      "cell_type": "markdown",
      "metadata": {
        "id": "EIQQb-WSOHmX"
      },
      "source": [
        "#### Pre-process Data and Initialize PPO\n",
        "\n",
        "We need to prepare the data for the `PPOTrainer`. We will tokenize the prompts from our dataset. To make training more robust, we'll use `LengthSampler` to generate prompts and responses of varying lengths."
      ]
    },
    {
      "cell_type": "code",
      "execution_count": null,
      "metadata": {
        "id": "6FVPKuEOD0rP"
      },
      "outputs": [],
      "source": [
        "class LengthSampler:\n",
        "    def __init__(self, min_value, max_value):\n",
        "        self.values = list(range(min_value, max_value))\n",
        "    def __call__(self):\n",
        "        return np.random.choice(self.values)\n",
        "\n",
        "# Sampler for dynamic query and response lengths\n",
        "input_size = LengthSampler(config['txt_in_min_len'], config['txt_in_max_len'])\n",
        "output_size = LengthSampler(config['txt_out_min_len'], config['txt_out_max_len'])"
      ]
    },
    {
      "cell_type": "code",
      "execution_count": null,
      "metadata": {
        "id": "QqNxOkghD1IW"
      },
      "outputs": [],
      "source": [
        "def tokenize(sample):\n",
        "    sample[\"tokens\"] = gpt2_tokenizer.encode(sample[\"review\"])[:input_size()]\n",
        "    sample[\"query\"] = gpt2_tokenizer.decode(sample[\"tokens\"])\n",
        "    return sample\n",
        "\n",
        "ds = ds.map(tokenize, batched=False)"
      ]
    },
    {
      "cell_type": "code",
      "execution_count": null,
      "metadata": {
        "id": "c3_xeS-5D4x2"
      },
      "outputs": [],
      "source": [
        "def collator(data):\n",
        "    return dict((key, [d[key] for d in data]) for key in data[0])\n",
        "\n",
        "dataloader = torch.utils.data.DataLoader(ds, batch_size=config['batch_size'], collate_fn=collator)"
      ]
    },
    {
      "cell_type": "markdown",
      "metadata": {
        "id": "wmQqBeRkeXjb"
      },
      "source": [
        "Finally, we initialize the `PPOTrainer`. This powerful class from `trl` orchestrates the entire fine-tuning process. We pass it our models, tokenizer, and the PPO configuration we defined earlier."
      ]
    },
    {
      "cell_type": "code",
      "execution_count": null,
      "metadata": {
        "id": "QOJ0OTSUiszn"
      },
      "outputs": [],
      "source": [
        "ppo_config = PPOConfig(batch_size=config['batch_size'], mini_batch_size=16)\n",
        "ppo_trainer = PPOTrainer(ppo_config, gpt2_model, gpt2_model_ref, gpt2_tokenizer)"
      ]
    },
    {
      "cell_type": "markdown",
      "metadata": {
        "id": "fngcgHGwUbky"
      },
      "source": [
        "### The Fine-tuning Loop\n",
        "---\n",
        "\n",
        "The training loop is where the magic happens. For each batch of prompts, we perform a three-step process:\n",
        "1.  **Get Responses**: Use the policy model (`gpt2_model`) to generate completions for the prompts.\n",
        "2.  **Get Rewards**: Use the sentiment classifier (`sentiment_pipe`) to score the completions.\n",
        "3.  **Optimize**: Feed the prompts, responses, and rewards into the `ppo_trainer` to update the policy model's weights."
      ]
    },
    {
      "cell_type": "markdown",
      "metadata": {
        "id": "BzPjmA5CfZf6"
      },
      "source": [
        "#### ✏️ **Exercise: Implement the PPO training step!**\n",
        "\n",
        "Complete the code in the cell below. You'll need to implement the three steps described above."
      ]
    },
    {
      "cell_type": "markdown",
      "metadata": {
        "id": "fMXGvqwoflBo"
      },
      "source": [
        "<details><summary>💡 Hints</summary>\n",
        "\n",
        "1.  **Generate Responses**:\n",
        "    *   The `query_tensors` (the tokenized prompts) are already prepared for you.\n",
        "    *   You need to loop through them and use `gpt2_model.generate()` to create a response for each one.\n",
        "    *   Remember to use a random `output_size()` for each generation and pass the `gen_kwargs`.\n",
        "    *   The generated output from the model includes the prompt, so you'll need to slice it to get only the new tokens (the response). The length of the response is `gen_len`.\n",
        "\n",
        "2.  **Calculate Rewards**:\n",
        "    *   The reward is calculated on the full text (`query + response`). You'll need to create a list of these full texts.\n",
        "    *   Pass this list to the `sentiment_pipe`.\n",
        "    *   The output of the pipeline is a list of dictionaries. For each output, you want the score for the 'POSITIVE' label. In our case, the pipeline returns `[{'label': 'NEGATIVE', 'score': ...}, {'label': 'POSITIVE', 'score': ...}]`, so you'll want `output[1][\"score\"]`.\n",
        "    *   Make sure your final `rewards` are a list of PyTorch tensors.\n",
        "\n",
        "3.  **Perform PPO Step**:\n",
        "    *   The final step is easy! Just call `ppo_trainer.step()` and pass it the `query_tensors`, `response_tensors`, and `rewards` you prepared.\n",
        "\n",
        "</details>"
      ]
    },
    {
      "cell_type": "code",
      "execution_count": null,
      "metadata": {
        "id": "vw8i7RQtD_cC"
      },
      "outputs": [],
      "source": [
        "# Set the number of epochs for fine-tuning.\n",
        "# A few epochs are enough to see a change.\n",
        "MAX_NUM_EPOCHS = 5  # @ param\n",
        "\n",
        "total_ppo_epochs = int(np.ceil(config['steps'] / config['batch_size']))\n",
        "\n",
        "\n",
        "for epoch, batch in tqdm(zip(range(total_ppo_epochs), iter(dataloader))):\n",
        "  ################################################################\n",
        "  # Fine-tune GPT2 using the pre-trained distilbert-imdb as the reward function.\n",
        "  # Your solution:\n",
        "  # Get the query tensors using batch['tokens'].\n",
        "  # query_tensors = ...\n",
        "\n",
        "  # Get response from gpt2\n",
        "  # response_tensors = []\n",
        "  # for i in range(config['batch_size']):\n",
        "  # Use gpt2_model.generate() to get the responses.\n",
        "  # response = ...\n",
        "  # response_tensors.append(...)\n",
        "  # batch['response'] = [gpt2_tokenizer.decode(r.squeeze()) for r in response_tensors]\n",
        "\n",
        "  # Compute sentiment score, concatenating batch['query'] and batch['response']\n",
        "  # to build the input for sentiment_pipe.\n",
        "  # ...\n",
        "  # rewards = ...\n",
        "\n",
        "  # Run PPO step.\n",
        "  # stats = ppo_trainer.step(...)\n",
        "  ################################################################\n",
        "  logs, timing = dict(), dict()\n",
        "  query_tensors = [torch.tensor(t).long().to(device) for t in batch['tokens']]\n",
        "\n",
        "  # Get response from gpt2.\n",
        "  response_tensors = []\n",
        "  for i in range(config['batch_size']):\n",
        "    gen_len = output_size()\n",
        "    ################################################################\n",
        "    # response = ...\n",
        "    ################################################################\n",
        "    response_tensors.append(response.squeeze()[-gen_len:])\n",
        "  batch['response'] = [\n",
        "      gpt2_tokenizer.decode(r.squeeze()) for r in response_tensors\n",
        "  ]\n",
        "\n",
        "  # Compute sentiment score.\n",
        "  texts = [q + r for q, r in zip(batch['query'], batch['response'])]\n",
        "  ################################################################\n",
        "  # pipe_outputs = ...\n",
        "  ################################################################\n",
        "  rewards = [\n",
        "      torch.tensor(output[1]['score']).to(device) for output in pipe_outputs\n",
        "  ]\n",
        "\n",
        "  # Run PPO step.\n",
        "  ################################################################\n",
        "  # stats = ...\n",
        "  ################################################################\n",
        "  rewards = torch.tensor(rewards).to(device)\n",
        "\n",
        "  table_rows = [\n",
        "      list(r)\n",
        "      for r in zip(batch['query'], batch['response'], rewards.cpu().tolist())\n",
        "  ]\n",
        "  logs.update(timing)\n",
        "  logs.update(stats)\n",
        "  logs['env/reward_mean'] = torch.mean(rewards).cpu().numpy()\n",
        "  logs['env/reward_std'] = torch.std(rewards).cpu().numpy()\n",
        "  logs['env/reward_dist'] = rewards.cpu().numpy()\n",
        "\n",
        "  if epoch == MAX_NUM_EPOCHS:\n",
        "    break"
      ]
    },
    {
      "cell_type": "markdown",
      "metadata": {
        "id": "3Xccr6OGKioW"
      },
      "source": [
        "#### Evaluate the Results\n",
        "\n",
        "Now, let's see if our fine-tuning worked! We will take a sample of prompts and generate responses from both the original model (`gpt2_model_ref`) and our fine-tuned model (`gpt2_model`). We can then compare them qualitatively by reading them, and quantitatively by checking their average reward scores."
      ]
    },
    {
      "cell_type": "code",
      "execution_count": null,
      "metadata": {
        "id": "jRfVYBpzgS1r"
      },
      "outputs": [],
      "source": [
        "# Get a batch from the dataset.\n",
        "bs = 16  # a batch size\n",
        "game_data = dict()\n",
        "ds.set_format('pandas')\n",
        "df_batch = ds[:].sample(bs)\n",
        "game_data['query'] = df_batch['query'].tolist()\n",
        "query_tensors = df_batch['tokens'].tolist()\n",
        "\n",
        "response_tensors_ref, response_tensors = [], []\n",
        "\n",
        "# Get response from `gpt2` and `gpt2_ref`.\n",
        "for i in range(bs):\n",
        "  gen_len = output_size()\n",
        "  output = gpt2_model_ref.generate(\n",
        "      torch.tensor(query_tensors[i]).unsqueeze(dim=0).to(device),\n",
        "      max_new_tokens=gen_len,\n",
        "      **gen_kwargs,\n",
        "  ).squeeze()[-gen_len:]\n",
        "  response_tensors_ref.append(output)\n",
        "  output = gpt2_model.generate(\n",
        "      torch.tensor(query_tensors[i]).unsqueeze(dim=0).to(device),\n",
        "      max_new_tokens=gen_len,\n",
        "      **gen_kwargs,\n",
        "  ).squeeze()[-gen_len:]\n",
        "  response_tensors.append(output)\n",
        "\n",
        "# Decode responses.\n",
        "game_data['response (before)'] = [\n",
        "    gpt2_tokenizer.decode(response_tensors_ref[i]) for i in range(bs)\n",
        "]\n",
        "game_data['response (after)'] = [\n",
        "    gpt2_tokenizer.decode(response_tensors[i]) for i in range(bs)\n",
        "]\n",
        "\n",
        "# Sentiment analysis of query/response pairs before/after.\n",
        "texts = [\n",
        "    q + r for q, r in zip(game_data['query'], game_data['response (before)'])\n",
        "]\n",
        "game_data['rewards (before)'] = [\n",
        "    output[1]['score'] for output in sentiment_pipe(texts, **sent_kwargs)\n",
        "]\n",
        "\n",
        "texts = [\n",
        "    q + r for q, r in zip(game_data['query'], game_data['response (after)'])\n",
        "]\n",
        "game_data['rewards (after)'] = [\n",
        "    output[1]['score'] for output in sentiment_pipe(texts, **sent_kwargs)\n",
        "]\n",
        "\n",
        "# Store results in a dataframe.\n",
        "df_results = pd.DataFrame(game_data)\n",
        "df_results.head()"
      ]
    },
    {
      "cell_type": "code",
      "source": [
        "print('Mean:')\n",
        "display(df_results[[\"rewards (before)\", \"rewards (after)\"]].mean())\n",
        "print()\n",
        "print('Median:')\n",
        "display(df_results[[\"rewards (before)\", \"rewards (after)\"]].median())"
      ],
      "metadata": {
        "id": "Am5Z-USRSnU_"
      },
      "execution_count": null,
      "outputs": []
    },
    {
      "cell_type": "markdown",
      "metadata": {
        "id": "oEh68OxHPQmO"
      },
      "source": [
        "You should see a noticeable increase in the average reward, even after fine-tuning for just a few epochs! When you look at the generated text, you'll likely see that the \"after\" responses are more consistently positive in tone.\n",
        "\n",
        "This demonstrates the core loop of RLHF: **generate, reward, and optimize**. You've successfully steered an LLM's behavior using a reward signal, bridging the gap from simple RL problems to the cutting edge of AI alignment.\n",
        "\n",
        "Feel free to experiment with different reward functions or different LLMs! 😀"
      ]
    },
    {
      "cell_type": "markdown",
      "metadata": {
        "id": "HhqhahWgFVRs"
      },
      "source": [
        "## Beyond Classifiers: A Spectrum of Feedback\n",
        "\n",
        "In our practical exercise, we used a pre-trained sentiment classifier to provide a reward signal. This is an example of machine feedback, but it's just one point on a wide spectrum of methods used to score LLM responses.\n",
        "\n",
        "### **🧑‍⚖️ RLHF: Human Feedback**\n",
        "\n",
        "This is the \"gold standard\" for capturing nuanced, subjective, and value-laden concepts that are difficult to define with rules.\n",
        "\n",
        "**How it Works**: The process focuses on learning preferences.\n",
        "1.  A prompt is given to the LLM, which generates two or more different responses (e.g., Response A, Response B).\n",
        "2.  A human labeler reads the prompt and the responses and indicates which one they prefer (e.g., `A` is better than `B`).\n",
        "3.  This process is repeated thousands of times, creating a large dataset of human preferences.\n",
        "4.  A separate reward model (RM) is trained on this dataset to predict which response a human would prefer. The RM learns to output a scalar score (a reward) that reflects this preference.\n",
        "\n",
        "**Where it Excels**:\n",
        "-   **Subjectivity & Style**: Teaching an AI to be funny, poetic, or empathetic.\n",
        "-   **Helpfulness & Harmlessness**: Aligning models with complex human values that go beyond simple right/wrong answers.\n",
        "-   **Summarization**: Creating summaries that are not just factually correct but also intuitive and easy to understand.\n",
        "\n",
        "### **🤖 RLMF: Machine Feedback**\n",
        "\n",
        "This is the method we used in our tutorial. The reward signal comes from an automated, objective, and verifiable source.\n",
        "\n",
        "**How it Works**: The reward function is an explicit program or model that checks for correctness based on predefined rules.\n",
        "    -   A sentiment classifier checks for positive language.\n",
        "    -   A unit test suite checks if generated code compiles and runs correctly.\n",
        "    -   A validator checks if the output conforms to a specific format (e.g., valid JSON).\n",
        "\n",
        "**Where it Excels**:\n",
        "-   **Coding**: The reward can be `+1` if the code passes all unit tests, and `0` otherwise.\n",
        "-   **Mathematics**: The reward is high if the model's final answer matches the correct solution.\n",
        "-   **Structured Data Generation**: The reward is high if the output is a perfectly formatted JSON object or XML file.\n",
        "\n",
        "### **📜 RLAIF: AI Feedback**\n",
        "\n",
        "This approach aims to solve the biggest bottleneck of RLHF: the time and cost of collecting human feedback. Instead of humans, it uses a powerful \"critic\" LLM to provide the preference labels.\n",
        "\n",
        "**How it Works**: This is the core idea behind **Constitutional AI**, pioneered by Anthropic.\n",
        "1.  A \"constitution\" is written. This is a set of principles and rules for the desired AI behavior (e.g., \"Choose the response that is more helpful and less harmful,\" \"Avoid manipulative or toxic language\").\n",
        "2.  The LLM generates two responses (A and B) to a prompt.\n",
        "3.  A powerful, separate \"critic\" LLM is prompted to evaluate both responses *according to the constitution* and explain which one is better.\n",
        "4.  This creates an AI-generated preference label (`A > B`), which is then used to train a Reward Model, just as human labels would be.\n",
        "\n",
        "**Where it Excels**:\n",
        "-   **Scalability**: Drastically reduces the need for human labelers, allowing for much larger preference datasets.\n",
        "-   **Safety & Ethics**: Excellent for enforcing explicit ethical principles and reducing harmful, toxic, or biased outputs at scale.\n",
        "-   **Transparency**: The reasoning for a preference is tied back to an explicit principle in the constitution.\n",
        "\n",
        "| Feedback Type      | Reward Source                                     | Pros                                                 | Excels In                                             |\n",
        "| ------------------ | ------------------------------------------------- | ---------------------------------------------------- | ----------------------------------------------------- |\n",
        "| RL**H**F   | Human preference labels                           | Great for nuance, values, and quality | Subjective style, creativity, harmlessness |\n",
        "| RL**M**F | A program, classifier, or set of rules           | Objective, fast, cheap, and verifiable            | Coding, math, structured data formatting             |\n",
        "| RL**AI**F     | An LLM \"critic\" guided by a constitution         | Scalable, enforces explicit principles       | Safety alignment, reducing toxicity, ethical scaling |"
      ]
    },
    {
      "cell_type": "markdown",
      "metadata": {
        "id": "OuFQtacEHhWS"
      },
      "source": [
        "## Beyond PPO: other RL algorithms for LLMs\n",
        "\n",
        "We used PPO, a powerful and trusted algorithm from the `trl` library. However, the field is moving at an incredible pace, and researchers are constantly developing simpler, more efficient, and more stable alternatives to PPO. Here are a few of the most important recent developments.\n",
        "\n",
        "### **🎯 DPO** (Direct Preference Optimization)\n",
        "\n",
        "DPO has rapidly become a popular alternative to PPO due to its simplicity and stability. It was a breakthrough that showed you don't actually need an explicit, separately trained reward model.\n",
        "\n",
        "**Core Idea**: DPO cleverly reframes the problem. Instead of the two-stage process of \"1. Train a Reward Model, then 2. Use RL to satisfy it,\" DPO directly fine-tunes the policy on the preference data itself. It uses a loss function that directly increases the probability of preferred responses and decreases the probability of dispreferred ones, while a KL-divergence term keeps the policy from straying too far from a reference model.\n",
        "\n",
        "**Why It's a Big Deal**:\n",
        "-   **Simpler**: It completely eliminates the need to train, store, and run inference with a separate reward model, cutting the complexity of the RLHF pipeline in half.\n",
        "-   **More Stable**: It avoids the common RL problem where the policy finds an exploit in a flawed reward model. By training directly on preferences, it's more robust.\n",
        "\n",
        "**Further Reading**: [Direct Preference Optimization: Your Language Model is Secretly a Reward Model](https://arxiv.org/abs/2305.18290)\n",
        "\n",
        "\n",
        "### **🎲 RLOO** (REINFORCE Leave-One-Out)\n",
        "\n",
        "This algorithm goes \"back to basics,\" showing that the simple REINFORCE algorithm we learned earlier can be made powerful enough for modern LLMs with a clever trick.\n",
        "\n",
        "**Core Idea**: The main weakness of vanilla REINFORCE is the high variance of its reward signal. RLOO tackles this by creating a much better baseline for calculating the advantage. For a given prompt, it generates *multiple* responses. To calculate the advantage for any single response, it uses the average reward of **all other \"sibling\" responses** as a baseline. A response is only positively reinforced if it's better than the average of its peers generated from the same prompt.\n",
        "\n",
        "**Why It's a Big Deal**: It makes the simple and elegant REINFORCE algorithm viable for LLM fine-tuning. It's much simpler to implement than PPO because it doesn't require a separate critic/value function network, yet it achieves competitive performance by drastically reducing variance.\n",
        "\n",
        "**Further Reading**: [Back to Basics: Revisiting REINFORCE-Style Optimization for Learning from Human Feedback in LLMs](https://arxiv.org/abs/2402.14740)\n",
        "\n",
        "\n",
        "### **🏅 GRPO** (Group Relative Policy Optimization)\n",
        "\n",
        "Developed for the high-performing **DeepSeek-Math** model, GRPO is a specialized algorithm designed for tasks where there can be multiple correct solutions of varying quality, such as mathematical reasoning.\n",
        "\n",
        "**Core Idea**: GRPO generalizes DPO from handling a *pair* of responses to handling a *group* of ranked responses. For a single math problem, the model might generate several different potential solutions. These solutions are then scored by a verifier (e.g., a Python interpreter that checks the final answer). GRPO's loss function then trains the policy to understand the *relative ranking* of the entire group—it learns to assign a higher probability to the best solution than the second-best, a higher probability to the second-best than the third-best, and so on.\n",
        "\n",
        "**Why It's a Big Deal**: It is extremely effective for complex reasoning tasks. By generating and learning from a diverse group of candidate solutions, the model is more likely to discover a correct pathway. GRPO then efficiently extracts the maximum amount of learning signal from this entire group, far more than a simple pairwise preference could provide.\n",
        "\n",
        "**Further Reading**: [DeepSeekMath: Pushing the Limits of Mathematical Reasoning in Open Language Models](https://arxiv.org/abs/2402.03300)"
      ]
    },
    {
      "cell_type": "markdown",
      "metadata": {
        "id": "yIX82F6zFVW7"
      },
      "source": [
        "## Final Words\n",
        "\n",
        "This concludes our journey into Reinforcement Learning!\n",
        "\n",
        "The principles of policy, reward, and optimization remain the same, whether you're solving a simple grid world or aligning a massive AI model. We hope you enjoyed this tutorial and are excited to see how you build on this knowledge! 💡🎓📚🧠"
      ]
    }
  ],
  "metadata": {
    "colab": {
      "provenance": [],
      "gpuType": "T4"
    },
    "kernelspec": {
      "display_name": "Python 3",
      "name": "python3"
    },
    "language_info": {
      "name": "python"
    },
    "accelerator": "GPU",
    "widgets": {
      "application/vnd.jupyter.widget-state+json": {
        "44c5ab2d407a49c194fe109ff7e99345": {
          "model_module": "@jupyter-widgets/controls",
          "model_name": "HBoxModel",
          "model_module_version": "1.5.0",
          "state": {
            "_dom_classes": [],
            "_model_module": "@jupyter-widgets/controls",
            "_model_module_version": "1.5.0",
            "_model_name": "HBoxModel",
            "_view_count": null,
            "_view_module": "@jupyter-widgets/controls",
            "_view_module_version": "1.5.0",
            "_view_name": "HBoxView",
            "box_style": "",
            "children": [
              "IPY_MODEL_b8d14e488f984c4497b2181da5af1ba7",
              "IPY_MODEL_0084af057303446ab15d7c10baa3797f",
              "IPY_MODEL_15aba7f25fef4430b4f0faa6dde815fc"
            ],
            "layout": "IPY_MODEL_503fce5b5e944d5d92373c0a75247d40"
          }
        },
        "b8d14e488f984c4497b2181da5af1ba7": {
          "model_module": "@jupyter-widgets/controls",
          "model_name": "HTMLModel",
          "model_module_version": "1.5.0",
          "state": {
            "_dom_classes": [],
            "_model_module": "@jupyter-widgets/controls",
            "_model_module_version": "1.5.0",
            "_model_name": "HTMLModel",
            "_view_count": null,
            "_view_module": "@jupyter-widgets/controls",
            "_view_module_version": "1.5.0",
            "_view_name": "HTMLView",
            "description": "",
            "description_tooltip": null,
            "layout": "IPY_MODEL_e4d6796af51c4724813c6560549ddf8e",
            "placeholder": "​",
            "style": "IPY_MODEL_3bfee5ee95b147ff837a04e2d743a3f2",
            "value": "100%"
          }
        },
        "0084af057303446ab15d7c10baa3797f": {
          "model_module": "@jupyter-widgets/controls",
          "model_name": "FloatProgressModel",
          "model_module_version": "1.5.0",
          "state": {
            "_dom_classes": [],
            "_model_module": "@jupyter-widgets/controls",
            "_model_module_version": "1.5.0",
            "_model_name": "FloatProgressModel",
            "_view_count": null,
            "_view_module": "@jupyter-widgets/controls",
            "_view_module_version": "1.5.0",
            "_view_name": "ProgressView",
            "bar_style": "success",
            "description": "",
            "description_tooltip": null,
            "layout": "IPY_MODEL_a78bcbeb4f914be7829e871c2bcfe6e3",
            "max": 700,
            "min": 0,
            "orientation": "horizontal",
            "style": "IPY_MODEL_220235d2cb014b1393ce30bfa859bdc7",
            "value": 700
          }
        },
        "15aba7f25fef4430b4f0faa6dde815fc": {
          "model_module": "@jupyter-widgets/controls",
          "model_name": "HTMLModel",
          "model_module_version": "1.5.0",
          "state": {
            "_dom_classes": [],
            "_model_module": "@jupyter-widgets/controls",
            "_model_module_version": "1.5.0",
            "_model_name": "HTMLModel",
            "_view_count": null,
            "_view_module": "@jupyter-widgets/controls",
            "_view_module_version": "1.5.0",
            "_view_name": "HTMLView",
            "description": "",
            "description_tooltip": null,
            "layout": "IPY_MODEL_f2e64a6cdf3f4fe5b9c30acd72f7d6f8",
            "placeholder": "​",
            "style": "IPY_MODEL_4ce13cc9e4b84c69981979a7b134a867",
            "value": " 700/700 [01:51&lt;00:00,  7.44it/s, avg_reward=-19.00]"
          }
        },
        "503fce5b5e944d5d92373c0a75247d40": {
          "model_module": "@jupyter-widgets/base",
          "model_name": "LayoutModel",
          "model_module_version": "1.2.0",
          "state": {
            "_model_module": "@jupyter-widgets/base",
            "_model_module_version": "1.2.0",
            "_model_name": "LayoutModel",
            "_view_count": null,
            "_view_module": "@jupyter-widgets/base",
            "_view_module_version": "1.2.0",
            "_view_name": "LayoutView",
            "align_content": null,
            "align_items": null,
            "align_self": null,
            "border": null,
            "bottom": null,
            "display": null,
            "flex": null,
            "flex_flow": null,
            "grid_area": null,
            "grid_auto_columns": null,
            "grid_auto_flow": null,
            "grid_auto_rows": null,
            "grid_column": null,
            "grid_gap": null,
            "grid_row": null,
            "grid_template_areas": null,
            "grid_template_columns": null,
            "grid_template_rows": null,
            "height": null,
            "justify_content": null,
            "justify_items": null,
            "left": null,
            "margin": null,
            "max_height": null,
            "max_width": null,
            "min_height": null,
            "min_width": null,
            "object_fit": null,
            "object_position": null,
            "order": null,
            "overflow": null,
            "overflow_x": null,
            "overflow_y": null,
            "padding": null,
            "right": null,
            "top": null,
            "visibility": null,
            "width": null
          }
        },
        "e4d6796af51c4724813c6560549ddf8e": {
          "model_module": "@jupyter-widgets/base",
          "model_name": "LayoutModel",
          "model_module_version": "1.2.0",
          "state": {
            "_model_module": "@jupyter-widgets/base",
            "_model_module_version": "1.2.0",
            "_model_name": "LayoutModel",
            "_view_count": null,
            "_view_module": "@jupyter-widgets/base",
            "_view_module_version": "1.2.0",
            "_view_name": "LayoutView",
            "align_content": null,
            "align_items": null,
            "align_self": null,
            "border": null,
            "bottom": null,
            "display": null,
            "flex": null,
            "flex_flow": null,
            "grid_area": null,
            "grid_auto_columns": null,
            "grid_auto_flow": null,
            "grid_auto_rows": null,
            "grid_column": null,
            "grid_gap": null,
            "grid_row": null,
            "grid_template_areas": null,
            "grid_template_columns": null,
            "grid_template_rows": null,
            "height": null,
            "justify_content": null,
            "justify_items": null,
            "left": null,
            "margin": null,
            "max_height": null,
            "max_width": null,
            "min_height": null,
            "min_width": null,
            "object_fit": null,
            "object_position": null,
            "order": null,
            "overflow": null,
            "overflow_x": null,
            "overflow_y": null,
            "padding": null,
            "right": null,
            "top": null,
            "visibility": null,
            "width": null
          }
        },
        "3bfee5ee95b147ff837a04e2d743a3f2": {
          "model_module": "@jupyter-widgets/controls",
          "model_name": "DescriptionStyleModel",
          "model_module_version": "1.5.0",
          "state": {
            "_model_module": "@jupyter-widgets/controls",
            "_model_module_version": "1.5.0",
            "_model_name": "DescriptionStyleModel",
            "_view_count": null,
            "_view_module": "@jupyter-widgets/base",
            "_view_module_version": "1.2.0",
            "_view_name": "StyleView",
            "description_width": ""
          }
        },
        "a78bcbeb4f914be7829e871c2bcfe6e3": {
          "model_module": "@jupyter-widgets/base",
          "model_name": "LayoutModel",
          "model_module_version": "1.2.0",
          "state": {
            "_model_module": "@jupyter-widgets/base",
            "_model_module_version": "1.2.0",
            "_model_name": "LayoutModel",
            "_view_count": null,
            "_view_module": "@jupyter-widgets/base",
            "_view_module_version": "1.2.0",
            "_view_name": "LayoutView",
            "align_content": null,
            "align_items": null,
            "align_self": null,
            "border": null,
            "bottom": null,
            "display": null,
            "flex": null,
            "flex_flow": null,
            "grid_area": null,
            "grid_auto_columns": null,
            "grid_auto_flow": null,
            "grid_auto_rows": null,
            "grid_column": null,
            "grid_gap": null,
            "grid_row": null,
            "grid_template_areas": null,
            "grid_template_columns": null,
            "grid_template_rows": null,
            "height": null,
            "justify_content": null,
            "justify_items": null,
            "left": null,
            "margin": null,
            "max_height": null,
            "max_width": null,
            "min_height": null,
            "min_width": null,
            "object_fit": null,
            "object_position": null,
            "order": null,
            "overflow": null,
            "overflow_x": null,
            "overflow_y": null,
            "padding": null,
            "right": null,
            "top": null,
            "visibility": null,
            "width": null
          }
        },
        "220235d2cb014b1393ce30bfa859bdc7": {
          "model_module": "@jupyter-widgets/controls",
          "model_name": "ProgressStyleModel",
          "model_module_version": "1.5.0",
          "state": {
            "_model_module": "@jupyter-widgets/controls",
            "_model_module_version": "1.5.0",
            "_model_name": "ProgressStyleModel",
            "_view_count": null,
            "_view_module": "@jupyter-widgets/base",
            "_view_module_version": "1.2.0",
            "_view_name": "StyleView",
            "bar_color": null,
            "description_width": ""
          }
        },
        "f2e64a6cdf3f4fe5b9c30acd72f7d6f8": {
          "model_module": "@jupyter-widgets/base",
          "model_name": "LayoutModel",
          "model_module_version": "1.2.0",
          "state": {
            "_model_module": "@jupyter-widgets/base",
            "_model_module_version": "1.2.0",
            "_model_name": "LayoutModel",
            "_view_count": null,
            "_view_module": "@jupyter-widgets/base",
            "_view_module_version": "1.2.0",
            "_view_name": "LayoutView",
            "align_content": null,
            "align_items": null,
            "align_self": null,
            "border": null,
            "bottom": null,
            "display": null,
            "flex": null,
            "flex_flow": null,
            "grid_area": null,
            "grid_auto_columns": null,
            "grid_auto_flow": null,
            "grid_auto_rows": null,
            "grid_column": null,
            "grid_gap": null,
            "grid_row": null,
            "grid_template_areas": null,
            "grid_template_columns": null,
            "grid_template_rows": null,
            "height": null,
            "justify_content": null,
            "justify_items": null,
            "left": null,
            "margin": null,
            "max_height": null,
            "max_width": null,
            "min_height": null,
            "min_width": null,
            "object_fit": null,
            "object_position": null,
            "order": null,
            "overflow": null,
            "overflow_x": null,
            "overflow_y": null,
            "padding": null,
            "right": null,
            "top": null,
            "visibility": null,
            "width": null
          }
        },
        "4ce13cc9e4b84c69981979a7b134a867": {
          "model_module": "@jupyter-widgets/controls",
          "model_name": "DescriptionStyleModel",
          "model_module_version": "1.5.0",
          "state": {
            "_model_module": "@jupyter-widgets/controls",
            "_model_module_version": "1.5.0",
            "_model_name": "DescriptionStyleModel",
            "_view_count": null,
            "_view_module": "@jupyter-widgets/base",
            "_view_module_version": "1.2.0",
            "_view_name": "StyleView",
            "description_width": ""
          }
        },
        "9117df466f4f4b29ba356daa167fb166": {
          "model_module": "@jupyter-widgets/controls",
          "model_name": "HBoxModel",
          "model_module_version": "1.5.0",
          "state": {
            "_dom_classes": [],
            "_model_module": "@jupyter-widgets/controls",
            "_model_module_version": "1.5.0",
            "_model_name": "HBoxModel",
            "_view_count": null,
            "_view_module": "@jupyter-widgets/controls",
            "_view_module_version": "1.5.0",
            "_view_name": "HBoxView",
            "box_style": "",
            "children": [
              "IPY_MODEL_0f2d04c0ec87415eaf3cf1e3f710de09",
              "IPY_MODEL_375be578424c41bc85398b76422a89d9",
              "IPY_MODEL_e3121f2e3b864183adfc9e9085b7db85"
            ],
            "layout": "IPY_MODEL_d1dd99dd837444898d9280b01d4565ff"
          }
        },
        "0f2d04c0ec87415eaf3cf1e3f710de09": {
          "model_module": "@jupyter-widgets/controls",
          "model_name": "HTMLModel",
          "model_module_version": "1.5.0",
          "state": {
            "_dom_classes": [],
            "_model_module": "@jupyter-widgets/controls",
            "_model_module_version": "1.5.0",
            "_model_name": "HTMLModel",
            "_view_count": null,
            "_view_module": "@jupyter-widgets/controls",
            "_view_module_version": "1.5.0",
            "_view_name": "HTMLView",
            "description": "",
            "description_tooltip": null,
            "layout": "IPY_MODEL_9be217377c6a430da3c7f0e1ef2e916c",
            "placeholder": "​",
            "style": "IPY_MODEL_e2662fba2b7243a1804154d6b89eca4b",
            "value": " 11%"
          }
        },
        "375be578424c41bc85398b76422a89d9": {
          "model_module": "@jupyter-widgets/controls",
          "model_name": "FloatProgressModel",
          "model_module_version": "1.5.0",
          "state": {
            "_dom_classes": [],
            "_model_module": "@jupyter-widgets/controls",
            "_model_module_version": "1.5.0",
            "_model_name": "FloatProgressModel",
            "_view_count": null,
            "_view_module": "@jupyter-widgets/controls",
            "_view_module_version": "1.5.0",
            "_view_name": "ProgressView",
            "bar_style": "",
            "description": "",
            "description_tooltip": null,
            "layout": "IPY_MODEL_4fa0764287354fc9b2dc9efd1d11aca3",
            "max": 700,
            "min": 0,
            "orientation": "horizontal",
            "style": "IPY_MODEL_fb94860c9586455b9151944c296d095b",
            "value": 80
          }
        },
        "e3121f2e3b864183adfc9e9085b7db85": {
          "model_module": "@jupyter-widgets/controls",
          "model_name": "HTMLModel",
          "model_module_version": "1.5.0",
          "state": {
            "_dom_classes": [],
            "_model_module": "@jupyter-widgets/controls",
            "_model_module_version": "1.5.0",
            "_model_name": "HTMLModel",
            "_view_count": null,
            "_view_module": "@jupyter-widgets/controls",
            "_view_module_version": "1.5.0",
            "_view_name": "HTMLView",
            "description": "",
            "description_tooltip": null,
            "layout": "IPY_MODEL_8b40ecb8fdb549e4af5fbd3c49035943",
            "placeholder": "​",
            "style": "IPY_MODEL_ecc8f9474c9e4be9a1d5416ee3f4653c",
            "value": " 80/700 [01:32&lt;11:33,  1.12s/it, avg_reward=-118.00]"
          }
        },
        "d1dd99dd837444898d9280b01d4565ff": {
          "model_module": "@jupyter-widgets/base",
          "model_name": "LayoutModel",
          "model_module_version": "1.2.0",
          "state": {
            "_model_module": "@jupyter-widgets/base",
            "_model_module_version": "1.2.0",
            "_model_name": "LayoutModel",
            "_view_count": null,
            "_view_module": "@jupyter-widgets/base",
            "_view_module_version": "1.2.0",
            "_view_name": "LayoutView",
            "align_content": null,
            "align_items": null,
            "align_self": null,
            "border": null,
            "bottom": null,
            "display": null,
            "flex": null,
            "flex_flow": null,
            "grid_area": null,
            "grid_auto_columns": null,
            "grid_auto_flow": null,
            "grid_auto_rows": null,
            "grid_column": null,
            "grid_gap": null,
            "grid_row": null,
            "grid_template_areas": null,
            "grid_template_columns": null,
            "grid_template_rows": null,
            "height": null,
            "justify_content": null,
            "justify_items": null,
            "left": null,
            "margin": null,
            "max_height": null,
            "max_width": null,
            "min_height": null,
            "min_width": null,
            "object_fit": null,
            "object_position": null,
            "order": null,
            "overflow": null,
            "overflow_x": null,
            "overflow_y": null,
            "padding": null,
            "right": null,
            "top": null,
            "visibility": null,
            "width": null
          }
        },
        "9be217377c6a430da3c7f0e1ef2e916c": {
          "model_module": "@jupyter-widgets/base",
          "model_name": "LayoutModel",
          "model_module_version": "1.2.0",
          "state": {
            "_model_module": "@jupyter-widgets/base",
            "_model_module_version": "1.2.0",
            "_model_name": "LayoutModel",
            "_view_count": null,
            "_view_module": "@jupyter-widgets/base",
            "_view_module_version": "1.2.0",
            "_view_name": "LayoutView",
            "align_content": null,
            "align_items": null,
            "align_self": null,
            "border": null,
            "bottom": null,
            "display": null,
            "flex": null,
            "flex_flow": null,
            "grid_area": null,
            "grid_auto_columns": null,
            "grid_auto_flow": null,
            "grid_auto_rows": null,
            "grid_column": null,
            "grid_gap": null,
            "grid_row": null,
            "grid_template_areas": null,
            "grid_template_columns": null,
            "grid_template_rows": null,
            "height": null,
            "justify_content": null,
            "justify_items": null,
            "left": null,
            "margin": null,
            "max_height": null,
            "max_width": null,
            "min_height": null,
            "min_width": null,
            "object_fit": null,
            "object_position": null,
            "order": null,
            "overflow": null,
            "overflow_x": null,
            "overflow_y": null,
            "padding": null,
            "right": null,
            "top": null,
            "visibility": null,
            "width": null
          }
        },
        "e2662fba2b7243a1804154d6b89eca4b": {
          "model_module": "@jupyter-widgets/controls",
          "model_name": "DescriptionStyleModel",
          "model_module_version": "1.5.0",
          "state": {
            "_model_module": "@jupyter-widgets/controls",
            "_model_module_version": "1.5.0",
            "_model_name": "DescriptionStyleModel",
            "_view_count": null,
            "_view_module": "@jupyter-widgets/base",
            "_view_module_version": "1.2.0",
            "_view_name": "StyleView",
            "description_width": ""
          }
        },
        "4fa0764287354fc9b2dc9efd1d11aca3": {
          "model_module": "@jupyter-widgets/base",
          "model_name": "LayoutModel",
          "model_module_version": "1.2.0",
          "state": {
            "_model_module": "@jupyter-widgets/base",
            "_model_module_version": "1.2.0",
            "_model_name": "LayoutModel",
            "_view_count": null,
            "_view_module": "@jupyter-widgets/base",
            "_view_module_version": "1.2.0",
            "_view_name": "LayoutView",
            "align_content": null,
            "align_items": null,
            "align_self": null,
            "border": null,
            "bottom": null,
            "display": null,
            "flex": null,
            "flex_flow": null,
            "grid_area": null,
            "grid_auto_columns": null,
            "grid_auto_flow": null,
            "grid_auto_rows": null,
            "grid_column": null,
            "grid_gap": null,
            "grid_row": null,
            "grid_template_areas": null,
            "grid_template_columns": null,
            "grid_template_rows": null,
            "height": null,
            "justify_content": null,
            "justify_items": null,
            "left": null,
            "margin": null,
            "max_height": null,
            "max_width": null,
            "min_height": null,
            "min_width": null,
            "object_fit": null,
            "object_position": null,
            "order": null,
            "overflow": null,
            "overflow_x": null,
            "overflow_y": null,
            "padding": null,
            "right": null,
            "top": null,
            "visibility": null,
            "width": null
          }
        },
        "fb94860c9586455b9151944c296d095b": {
          "model_module": "@jupyter-widgets/controls",
          "model_name": "ProgressStyleModel",
          "model_module_version": "1.5.0",
          "state": {
            "_model_module": "@jupyter-widgets/controls",
            "_model_module_version": "1.5.0",
            "_model_name": "ProgressStyleModel",
            "_view_count": null,
            "_view_module": "@jupyter-widgets/base",
            "_view_module_version": "1.2.0",
            "_view_name": "StyleView",
            "bar_color": null,
            "description_width": ""
          }
        },
        "8b40ecb8fdb549e4af5fbd3c49035943": {
          "model_module": "@jupyter-widgets/base",
          "model_name": "LayoutModel",
          "model_module_version": "1.2.0",
          "state": {
            "_model_module": "@jupyter-widgets/base",
            "_model_module_version": "1.2.0",
            "_model_name": "LayoutModel",
            "_view_count": null,
            "_view_module": "@jupyter-widgets/base",
            "_view_module_version": "1.2.0",
            "_view_name": "LayoutView",
            "align_content": null,
            "align_items": null,
            "align_self": null,
            "border": null,
            "bottom": null,
            "display": null,
            "flex": null,
            "flex_flow": null,
            "grid_area": null,
            "grid_auto_columns": null,
            "grid_auto_flow": null,
            "grid_auto_rows": null,
            "grid_column": null,
            "grid_gap": null,
            "grid_row": null,
            "grid_template_areas": null,
            "grid_template_columns": null,
            "grid_template_rows": null,
            "height": null,
            "justify_content": null,
            "justify_items": null,
            "left": null,
            "margin": null,
            "max_height": null,
            "max_width": null,
            "min_height": null,
            "min_width": null,
            "object_fit": null,
            "object_position": null,
            "order": null,
            "overflow": null,
            "overflow_x": null,
            "overflow_y": null,
            "padding": null,
            "right": null,
            "top": null,
            "visibility": null,
            "width": null
          }
        },
        "ecc8f9474c9e4be9a1d5416ee3f4653c": {
          "model_module": "@jupyter-widgets/controls",
          "model_name": "DescriptionStyleModel",
          "model_module_version": "1.5.0",
          "state": {
            "_model_module": "@jupyter-widgets/controls",
            "_model_module_version": "1.5.0",
            "_model_name": "DescriptionStyleModel",
            "_view_count": null,
            "_view_module": "@jupyter-widgets/base",
            "_view_module_version": "1.2.0",
            "_view_name": "StyleView",
            "description_width": ""
          }
        }
      }
    }
  },
  "nbformat": 4,
  "nbformat_minor": 0
}
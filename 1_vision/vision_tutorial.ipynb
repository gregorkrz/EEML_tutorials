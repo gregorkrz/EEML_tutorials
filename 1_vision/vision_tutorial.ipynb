{
  "cells": [
    {
      "cell_type": "markdown",
      "metadata": {
        "id": "8t47OV2_FVeX"
      },
      "source": [
        "# EEML'25 Tutorial: Training Vision Transformer (ViT) encoders from scratch\n",
        "\n",
        "Authors:\n",
        "\n",
        "- Liliane Momeni (lmomeni@google.com)\n",
        "- Nikhil Parthasarathy (nikparth@google.com)\n",
        "\n",
        "\n",
        "**Abstract:** This tutorial is designed to provide a hands-on understanding of how to train powerful Vision Transformer (ViT) encoders from scratch 🚀. Part 1 will recap why ViT encoders are important, before diving into the three fundamental training paradigms. Part 2 will cover the classic fully supervised approach using labeled data. Part 3 will explore the self-supervised paradigm through Masked Autoencoders, where models learn rich features from the data itself without labels.  Finally, Part 4 covers contrastive learning with noisy supervision, using CLIP as our case study.\n",
        "\n",
        "**Outline**:\n",
        "- Part 1: Introduction to Vision Transformer encoders\n",
        "- Part 2: Fully supervised ViT for Image Classification\n",
        "- Part 3: Self-supervised Learning with Masked Autoencoders (MAE)\n",
        "- Part 4 (Take-home task): Contrastive Language-Image Pre-training (CLIP)\n",
        "- Part 5: Conclusion\n",
        "\n",
        "**Slides**: The set of slides which accompany this tutorial can be found [here](https://docs.google.com/presentation/d/1TeG1pd0Bx4ijSEAFJNdUBGmm9tAvvbwZg8URty7cjWQ/edit?usp=sharing).\n",
        "\n",
        "❗ Note: Parts 2, 3 and 4 of this tutorial do not require a GPU and can be run on a CPU. If you are able to obtain a Colab runtime with a GPU (you can do this by clicking Runtime -> Change runtime type, and set the hardware accelerator to GPU), it will run slightly faster.\n"
      ]
    },
    {
      "cell_type": "markdown",
      "metadata": {
        "id": "ncuPRuFWGaxC"
      },
      "source": [
        "## Part 1: Introduction to Vision Transformer encoders\n",
        "\n",
        "**1.1 Vision Encoders**\n",
        "\n",
        "A vision encoder is a neural network that converts an image into a compact numerical summary called an embedding or feature vector.\n",
        "\n",
        "🖼️➡️🔢\n",
        "\n",
        "- **What it does**: It acts as a translator, distilling complex pixel data into a format that a machine can understand and analyze.\n",
        "\n",
        "- **What it captures**: This summary contains the image's essential visual and semantic content, such as the objects within it, their geometry, and how they relate to each other in the scene.\n",
        "\n",
        "- **Why it's important**: By learning to create high-quality representations, vision encoders enable models to perform a vast array of visual tasks (such as image classification, object detection, semantic segmentation, and even image generation) with remarkable accuracy.\n",
        "\n",
        "**1.2 The Vision Transformer (ViT): A Paradigm Shift**\n",
        "\n",
        "As the Transformers architecture scaled well in Natural Language Processing, the same architecture was applied to images by creating small 2D patches of the image and treating them as tokens. The result was a Vision Transformer (ViT).\n",
        "\n",
        "The primary strength of the ViT architecture is its ability to capture **global context** and **long-range dependencies** from the very first layer, a key difference from the hierarchical, localized feature extraction of CNNs. Summarising key differences below:\n",
        "\n",
        "- Convolutional Neural Networks (CNNs): Process images hierarchically. They use sliding filters (kernels) to capture local features like edges and textures first. They must pass through many layers to gradually build up a global understanding of the entire scene.\n",
        "\n",
        "- Vision Transformers (ViTs): Take a global-first approach. By treating an image as a sequence of patches, they use a mechanism known as self-attention (which we will explain in Part 2) to immediately understand how a patch in the top-left corner relates to a patch in the bottom-right, leading to a more holistic initial understanding of the scene.\n",
        "\n",
        "**1.3 The Standard Workflow: Using Pretrained Models**\n",
        "\n",
        "In practice, training a large model like a Vision Transformer (ViT) from scratch is computationally expensive and therefore rare. The standard workflow is to use a pretrained model, which has already learned a robust, general understanding of the visual world from a massive dataset like ImageNet-21k (containing over 14 million images).\n",
        "\n",
        "Once you have this strong foundation, you typically follow one of two paths:\n",
        "\n",
        "- **Fine-Tuning**: You adapt the model by continuing its training on a smaller, task-specific dataset (e.g., classifying medical images or identifying product defects).\n",
        "\n",
        "- **Zero-Shot Inference**: For certain models, you can use them directly to make predictions on tasks or classes they have never explicitly been trained on.\n",
        "\n",
        "While using pretrained models is the common approach, this tutorial will pull back the curtain and show you how these powerful encoders are built and trained from the ground up, giving you a fundamental understanding of how they truly work.\n",
        "\n",
        "**1.4 Different training paradigms**\n",
        "\n",
        "\n",
        "There are three primary paradigms for training these encoders, each with its own philosophy for learning visual representations. We will explore all of them in this tutorial series:\n",
        "\n",
        "- **Fully Supervised Learning**: This is the classic approach where the model learns from a dataset containing images and their corresponding explicit labels (e.g., a picture of a golden retriever with the label \"dog\"). The model's goal is to correctly predict the label for a given image.\n",
        "\n",
        "- **Self-Supervised Learning (SSL)**: This powerful paradigm enables a model to learn rich features directly from unlabeled data by solving a \"pretext task\". We will implement a Masked Autoencoder (MAE), where the model must reconstruct randomly hidden patches of an image, forcing it to learn the context and structure of the visual world.\n",
        "\n",
        "- **Multimodal Contrastive Learning**: This approach trains a model to understand the relationship between data by learning which samples are similar and which are different. We will use CLIP (Contrastive Language-Image Pre-Training), which learns to match images with their corresponding text descriptions scraped from the web. The text provides a \"noisy\" but highly effective form of supervision.\n",
        "\n",
        "\n"
      ]
    },
    {
      "cell_type": "markdown",
      "metadata": {
        "id": "8nJjcw0NoQDK"
      },
      "source": [
        "## Part 2: Fully supervised [ViT](https://arxiv.org/abs/2010.11929) for Image Classification\n",
        "\n",
        "This section will walk you through the fundamental components and training process for a Vision Transformer (ViT) in a fully supervised setting.\n",
        "We will cover everything from loss function implementation and data preparation to model training and the critical analysis of its performance.\n",
        "Each subsection corresponds to a hands-on exercise.\n",
        "\n",
        "First off run the next cell to install the necessary libraries. As it might take a bit of time to finish installing, start reading Part 2.1."
      ]
    },
    {
      "cell_type": "code",
      "execution_count": 1,
      "metadata": {
        "id": "wdG_pA1w4d9Q",
        "colab": {
          "base_uri": "https://localhost:8080/"
        },
        "outputId": "37be0bfb-1da4-4bc5-bb34-122b16d95054"
      },
      "outputs": [
        {
          "output_type": "stream",
          "name": "stdout",
          "text": [
            "\u001b[2K   \u001b[90m━━━━━━━━━━━━━━━━━━━━━━━━━━━━━━━━━━━━━━━━\u001b[0m \u001b[32m363.4/363.4 MB\u001b[0m \u001b[31m4.4 MB/s\u001b[0m eta \u001b[36m0:00:00\u001b[0m\n",
            "\u001b[2K   \u001b[90m━━━━━━━━━━━━━━━━━━━━━━━━━━━━━━━━━━━━━━━━\u001b[0m \u001b[32m13.8/13.8 MB\u001b[0m \u001b[31m36.3 MB/s\u001b[0m eta \u001b[36m0:00:00\u001b[0m\n",
            "\u001b[2K   \u001b[90m━━━━━━━━━━━━━━━━━━━━━━━━━━━━━━━━━━━━━━━━\u001b[0m \u001b[32m24.6/24.6 MB\u001b[0m \u001b[31m25.7 MB/s\u001b[0m eta \u001b[36m0:00:00\u001b[0m\n",
            "\u001b[2K   \u001b[90m━━━━━━━━━━━━━━━━━━━━━━━━━━━━━━━━━━━━━━━━\u001b[0m \u001b[32m883.7/883.7 kB\u001b[0m \u001b[31m37.7 MB/s\u001b[0m eta \u001b[36m0:00:00\u001b[0m\n",
            "\u001b[2K   \u001b[90m━━━━━━━━━━━━━━━━━━━━━━━━━━━━━━━━━━━━━━━━\u001b[0m \u001b[32m664.8/664.8 MB\u001b[0m \u001b[31m3.1 MB/s\u001b[0m eta \u001b[36m0:00:00\u001b[0m\n",
            "\u001b[2K   \u001b[90m━━━━━━━━━━━━━━━━━━━━━━━━━━━━━━━━━━━━━━━━\u001b[0m \u001b[32m211.5/211.5 MB\u001b[0m \u001b[31m6.2 MB/s\u001b[0m eta \u001b[36m0:00:00\u001b[0m\n",
            "\u001b[2K   \u001b[90m━━━━━━━━━━━━━━━━━━━━━━━━━━━━━━━━━━━━━━━━\u001b[0m \u001b[32m56.3/56.3 MB\u001b[0m \u001b[31m16.1 MB/s\u001b[0m eta \u001b[36m0:00:00\u001b[0m\n",
            "\u001b[2K   \u001b[90m━━━━━━━━━━━━━━━━━━━━━━━━━━━━━━━━━━━━━━━━\u001b[0m \u001b[32m127.9/127.9 MB\u001b[0m \u001b[31m7.7 MB/s\u001b[0m eta \u001b[36m0:00:00\u001b[0m\n",
            "\u001b[2K   \u001b[90m━━━━━━━━━━━━━━━━━━━━━━━━━━━━━━━━━━━━━━━━\u001b[0m \u001b[32m207.5/207.5 MB\u001b[0m \u001b[31m6.2 MB/s\u001b[0m eta \u001b[36m0:00:00\u001b[0m\n",
            "\u001b[2K   \u001b[90m━━━━━━━━━━━━━━━━━━━━━━━━━━━━━━━━━━━━━━━━\u001b[0m \u001b[32m21.1/21.1 MB\u001b[0m \u001b[31m42.0 MB/s\u001b[0m eta \u001b[36m0:00:00\u001b[0m\n",
            "\u001b[?25hPyTorch version: 2.6.0+cu124\n",
            "Timm version: 1.0.17\n",
            "Using device: cuda\n"
          ]
        }
      ],
      "source": [
        "# =========================================\n",
        "#     Setup and Imports\n",
        "# =========================================\n",
        "# First, let's install the necessary libraries.\n",
        "!pip install -q torch torchvision timm matplotlib\n",
        "\n",
        "import torch\n",
        "import torch.nn as nn\n",
        "import torch.optim as optim\n",
        "import torch.nn.functional as F\n",
        "from torchvision import datasets, transforms, models\n",
        "from torch.utils.data import DataLoader\n",
        "import torchvision\n",
        "import timm\n",
        "import math\n",
        "\n",
        "import numpy as np\n",
        "import matplotlib.pyplot as plt\n",
        "from PIL import Image\n",
        "import requests\n",
        "from tqdm.notebook import tqdm\n",
        "\n",
        "print(f\"PyTorch version: {torch.__version__}\")\n",
        "print(f\"Timm version: {timm.__version__}\")\n",
        "\n",
        "# Set device\n",
        "device = \"cuda\" if torch.cuda.is_available() else \"cpu\"\n",
        "print(f\"Using device: {device}\")"
      ]
    },
    {
      "cell_type": "markdown",
      "metadata": {
        "id": "xhpn3hRhpUEC"
      },
      "source": [
        "### Part 2.1: The Cross-Entropy Loss Function\n",
        "\n",
        "At the heart of any classification task is the loss function, which quantifies how \"wrong\" our model's predictions are compared to the actual labels. For multi-class classification, the standard choice is the **Cross-Entropy Loss**.\n",
        "\n",
        "Before calculating the loss, a model outputs raw, unbounded scores called logits. To turn these logits into a probability distribution that sums to 1, we use the **Softmax** function. Below, we show an example where we are trying to classify 3 images (of size 32x32 pixels) and the total number of classes $C$ is equal to 3 (cat, dog, horse).\n",
        "\n",
        "<center>\n",
        "<img src=\"https://ljvmiranda921.github.io/assets/png/cs231n-ann/softmax.png\" width=\"600\" height=\"250\" style=\"display: block; margin: auto;\"></center>\n",
        "\n",
        "\n",
        "The Softmax equation for the score of a class $i$ is:\n",
        "\n",
        "$$ \\text{Softmax}(z_i) = \\frac{e^{z_i}}{\\sum_{j=1}^{C} e^{z_j}} $$\n",
        "\n",
        "Where:\n",
        "\n",
        "* $z_i$ is the logit for class $i$.\n",
        "* $C$ is the total number of classes.\n",
        "\n",
        "\n",
        "Cross-entropy then measures the difference between this predicted probability distribution and the \"true\" distribution (where the correct class has a probability of 1 and all others have a probability of 0).\n",
        "\n",
        "Mathematically, for a single example, the cross-entropy loss is:\n",
        "\n",
        "$$L_{CE} = - \\sum_{i=1}^{C} y_i \\log(\\hat{y}_i)$$\n",
        "\n",
        "Where:\n",
        "\n",
        "* $C$ is the number of classes.\n",
        "* $y_i$ is the true probability for class $i$ (it's 1 for the correct class, 0 otherwise).\n",
        "* $\\hat{y}_i$ is the model's predicted probability for class $i$.\n",
        "\n",
        "When you're training a classification model and using cross-entropy as your loss function, you are effectively trying to minimize the negative log-likelihood of your model's predictions with respect to the true labels.\n",
        "Note, below we plot the range of the **Negative Log-Likelihood** operation: $L(\\textbf{y}) = - \\log(\\textbf{y})$\n",
        "\n",
        "<center>\n",
        "<img src=\"https://ljvmiranda921.github.io/assets/png/cs231n-ann/neg_log.png\" width=\"400\" height=\"300\"></center>\n",
        "\n",
        "We observe the loss function heavily penalizes the model if it assigns a low probability to the correct class (reaching infinity when the predicted probability is 0), while no loss is applied when the predicted probability is 1.  \n",
        "\n",
        "<center>\n",
        "<img src=\"https://ljvmiranda921.github.io/assets/png/cs231n-ann/neg_log_demo.png\" width=\"800\" height=\"250\">\n",
        "</center>\n",
        "\n",
        "**Take-away**: The Cross-Entropy loss combines two steps: 1. A softmax function to convert the model's raw output scores (logits) into probabilities. 2. It then calculates the Negative Log-Likelihood, which heavilily penalises the model if it assigns a low probability to the correct class.\n",
        "\n",
        "In the next exercise, you will implement this from scratch to solidify your understanding before we use PyTorch's built-in version.\n",
        "\n"
      ]
    },
    {
      "cell_type": "code",
      "execution_count": null,
      "metadata": {
        "id": "MnKG6wf8DNmp"
      },
      "outputs": [],
      "source": [
        "#@title Hint 1 { display-mode: \"form\" }\n",
        "\n",
        "# The task is to implement the Cross-Entropy loss.\n",
        "# Remember the first step is Softmax.\n",
        "# Softmax takes logits and converts them to probabilities. You can make use of torch.exp() for this step.\n",
        "\n",
        "\n",
        "# Step 1: Solution\n",
        "#   exps = torch.exp(logits)\n",
        "#   sum_exps = torch.sum(exps, dim=1, keepdim=True)\n",
        "#   softmax_probs = exps / sum_exps\n",
        "\n",
        "\n",
        "# Example\n",
        "B, C = 3, 3 # Batch size x Classes\n",
        "logits = torch.randn(size=(B, C)) # Batch size x Classes\n",
        "exps = torch.exp(logits)\n",
        "sum_exps = torch.sum(exps, dim=1, keepdim=True)\n",
        "softmax_probs = exps / sum_exps\n",
        "\n",
        "print(softmax_probs)\n",
        "assert torch.allclose(softmax_probs.sum(dim=1), torch.ones(3)) # Make sure they sum to one for each sample"
      ]
    },
    {
      "cell_type": "code",
      "execution_count": null,
      "metadata": {
        "id": "CHYS9iZsDcRP"
      },
      "outputs": [],
      "source": [
        "#@title Hint 2 { display-mode: \"form\" }\n",
        "\n",
        "# The next step is Negative Log-Likelihood.\n",
        "# Negative Log-Likelihood takes the predicted probability of the *correct* class and calculates -log(probability).\n",
        "# For this step you can make use of torch.log().\n",
        "\n",
        "\n",
        "# Step 2: Solution\n",
        "#   log_probs = - torch.log(softmax_probs)\n",
        "\n",
        "# Example\n",
        "labels = torch.tensor([0, 2, 1])\n",
        "labels_ohe = F.one_hot(labels, num_classes=C) # One-hot encoding of the labels\n",
        "log_probs = - torch.log(softmax_probs) * labels_ohe\n",
        "print(log_probs)"
      ]
    },
    {
      "cell_type": "code",
      "execution_count": null,
      "metadata": {
        "id": "4c56YaxdD2ze"
      },
      "outputs": [],
      "source": [
        "#@title Hint 3 { display-mode: \"form\" }\n",
        "\n",
        "# We then need to select the log-probabilities corresponding to the correct class for each item in the batch.\n",
        "# torch.gather is great for this, or you can use integer array indexing.\n",
        "\n",
        "# Step 3: Solution\n",
        "#   labels = labels.unsqueeze(1)\n",
        "#   correct_log_probs = torch.gather(log_probs, 1, labels)\n",
        "\n",
        "# Example\n",
        "correct_log_probs = log_probs.max(dim=1).values\n",
        "print(log_probs.max(dim=1).values)"
      ]
    },
    {
      "cell_type": "markdown",
      "metadata": {
        "id": "D4fsbqtJC_vY"
      },
      "source": []
    },
    {
      "cell_type": "code",
      "execution_count": null,
      "metadata": {
        "id": "VhbG5H8AEAZE"
      },
      "outputs": [],
      "source": [
        "#@title Hint 4 { display-mode: \"form\" }\n",
        "\n",
        "# For multiple examples, you'll average the loss across the batch.\n",
        "# For this, we can make use of torch.mean().\n",
        "\n",
        "# Step 4: Solution\n",
        "#   loss = torch.mean(correct_log_probs)\n",
        "\n",
        "# Example\n",
        "loss = torch.mean(correct_log_probs)\n",
        "print(loss)"
      ]
    },
    {
      "cell_type": "code",
      "source": [],
      "metadata": {
        "id": "PpWsA9f2XE7q"
      },
      "execution_count": null,
      "outputs": []
    },
    {
      "cell_type": "code",
      "execution_count": 14,
      "metadata": {
        "id": "ERkq1s-usATB",
        "colab": {
          "base_uri": "https://localhost:8080/"
        },
        "outputId": "01d8f33e-d555-4b3a-8193-088872863306"
      },
      "outputs": [
        {
          "output_type": "stream",
          "name": "stdout",
          "text": [
            "--- Verifying Custom Cross-Entropy Loss ---\n",
            "wc tensor([True, True], device='cuda:0') tensor([0, 1], device='cuda:0') tensor([0, 1], device='cuda:0')\n",
            "prob tensor([[0.6590, 0.2424, 0.0986],\n",
            "        [0.1104, 0.8156, 0.0740]], device='cuda:0')\n",
            "sum tensor([3.1000, 3.1000], device='cuda:0')\n",
            "Loss from our implementation: 0.3104\n",
            "Loss from PyTorch's nn.CrossEntropyLoss: 0.3104\n",
            "---------------------------------------- \n",
            "\n"
          ]
        }
      ],
      "source": [
        "# ==============================================================================\n",
        "#\n",
        "#      Implement the Cross-Entropy Loss Function from Scratch\n",
        "#\n",
        "# ==============================================================================\n",
        "\n",
        "def cross_entropy_loss_scratch(logits, labels):\n",
        "    \"\"\"\n",
        "    Cross-entropy loss for classification.\n",
        "    Formula: -log(exp(x_i) / sum(exp(x_j))) for the correct class i\n",
        "\n",
        "    Args:\n",
        "        logits (torch.Tensor): The raw, unnormalized scores from the model.\n",
        "                               Shape: (batch_size, num_classes).\n",
        "        labels (torch.Tensor): The true class indices. Shape: (batch_size,).\n",
        "\n",
        "    Returns:\n",
        "        torch.Tensor: A scalar tensor representing the mean loss.\n",
        "    \"\"\"\n",
        "\n",
        "    ## --- TODO 1: YOUR CODE HERE ---\n",
        "    pred_class = logits.argmax(dim=1)\n",
        "    loss = 0\n",
        "    where_correct = pred_class == labels\n",
        "    print(\"wc\", where_correct, pred_class, labels)\n",
        "    #probabilities = torch.exp(logits) / torch.sum(logits, dim=0)\n",
        "    probabilities = torch.softmax(logits, dim=1)\n",
        "    print(\"prob\", probabilities)\n",
        "    print(\"sum\", torch.sum(logits, dim=1))\n",
        "    loss = torch.mean(-torch.log(probabilities[where_correct, pred_class]))\n",
        "    # --- END YOUR CODE --- #\n",
        "    return loss\n",
        "\n",
        "\n",
        "# --- Verification ---\n",
        "print(\"--- Verifying Custom Cross-Entropy Loss ---\")\n",
        "# Create some dummy data\n",
        "dummy_logits = torch.tensor([[2.0, 1.0, 0.1], [0.5, 2.5, 0.1]], device=device)\n",
        "dummy_labels = torch.tensor([0, 1], device=device)\n",
        "\n",
        "# Calculate loss with our function\n",
        "loss_scratch = cross_entropy_loss_scratch(dummy_logits, dummy_labels)\n",
        "\n",
        "# Calculate loss with PyTorch's built-in function\n",
        "loss_pytorch = nn.CrossEntropyLoss()(dummy_logits, dummy_labels)\n",
        "\n",
        "print(f\"Loss from our implementation: {loss_scratch.item():.4f}\")\n",
        "print(f\"Loss from PyTorch's nn.CrossEntropyLoss: {loss_pytorch.item():.4f}\")\n",
        "# The values should be very close!\n",
        "assert torch.allclose(loss_scratch, loss_pytorch), \"Our implementation is not correct!\"\n",
        "print(\"-\" * 40, \"\\n\")\n"
      ]
    },
    {
      "cell_type": "markdown",
      "metadata": {
        "id": "esaTzeAEE-Q5"
      },
      "source": [
        "### Part 2.2: Tokenizing an Image for a ViT\n",
        "\n",
        "Transformers, which were originally designed for text, expect a sequence of \\\"tokens\\\" as input. How do we create a sequence from an image? The Vision Transformer's clever solution is to break the image down into a grid of smaller patches.\n",
        "\n",
        "Process:\n",
        "\n",
        "1. **Divide**: An input image is split into a grid of fixed-size, non-overlapping patches. For example, if an image of size 224x224 pixels is split into patches of size 16x16 pixels, this means there are a total of 14*14 patches.\n",
        "\n",
        "<center>\n",
        "<img src=\"https://miro.medium.com/v2/resize:fit:1160/format:webp/1*f0lDgBvf-nc4IytWmJAEbw.png\" width=\"600\" height=\"250\">\n",
        "</center>\n",
        "\n",
        "2. **Flatten**: Each patch is flattened into a single vector. For a 16x16 patch with 3 color channels (RGB), this results in a vector of size 16 * 16 * 3 = 768.\n",
        "\n",
        "3. **Project**: Each of these vectors is then linearly projected into a consistent embedding dimension (D) that the Transformer expects. This is essentially a standard linear layer applied to each patch vector.\n",
        "\n",
        "This sequence of patch embeddings is the input for our Transformer.\n",
        "\n",
        "In practice, Steps 1, 2 and 3 can be done efficiently by simply using a 2D convolutional layer where the kernel size and stride are equal to the patch size.\n",
        "\n"
      ]
    },
    {
      "cell_type": "markdown",
      "metadata": {
        "id": "T_cKMhKVMlfC"
      },
      "source": [
        "### Part 2.3: Positional Embeddings\n",
        "\n",
        "The patching process creates a sequence of tokens, but it discards all spatial information. The Transformer has no inherent sense of which patch came from the top-left corner versus the bottom-right.\n",
        "\n",
        "To solve this, we add **Positional Embeddings** to the patch embeddings. These are learnable vectors that encode the position of each patch in the original image grid. This gives the model crucial information about the original location of each patch, allowing it to understand the image's structure.\n",
        "\n",
        "Think of it like this: if you tear a photo into pieces and shuffle them, you lose the picture. Adding positional embeddings is like writing the original coordinate (e.g. 'top-left') on the back of each piece, allowing the model to understand the spatial relationships.\n",
        "\n",
        "**Take-away**, the steps to convert an image into token embeddings to feed to the Vision Transformer include:\n",
        "- Tokenize the image with a Conv2D or by separately (i) dividing the image into patches (ii) flattening the patches and (iii) linear projecting the patch embeddings\n",
        "- Sum patch embeddings and learned positional embeddings\n",
        "\n",
        "<center>\n",
        "<img src=\"https://www.pinecone.io/_next/image/?url=https%3A%2F%2Fcdn.sanity.io%2Fimages%2Fvr8gru94%2Fproduction%2F7a096efc8f3cc40849ee17a546dc0e685da2dc73-4237x1515.png&w=3840&q=75\" width=\"700\" height=\"300\">\n",
        "</center>"
      ]
    },
    {
      "cell_type": "code",
      "execution_count": 16,
      "metadata": {
        "id": "L2DmJ7NOQNAl",
        "colab": {
          "base_uri": "https://localhost:8080/"
        },
        "outputId": "1e8430cb-bb11-4447-8901-7b818b7a6db6"
      },
      "outputs": [
        {
          "output_type": "stream",
          "name": "stdout",
          "text": [
            "Shape before projection: torch.Size([1, 3, 224, 224])\n",
            "Shape after projection: torch.Size([1, 768, 14, 14])\n"
          ]
        }
      ],
      "source": [
        "#@title Hint 1 { display-mode: \"form\" }\n",
        "\n",
        "# The first step is to project the image into patch embeddings.\n",
        "# A convolutional layer is a great way to do this efficiently.\n",
        "# A kernel size and stride equal to `patch_size` will make the conv\n",
        "# layer act on non-overlapping patches.\n",
        "\n",
        "# Step 1: Solution\n",
        "#   x = self.proj(x)\n",
        "\n",
        "# Example\n",
        "patch_size = 16\n",
        "in_chans = 3\n",
        "embed_dim = 768\n",
        "proj = nn.Conv2d(in_chans, embed_dim, kernel_size=patch_size, stride=patch_size)\n",
        "x = torch.randn(1, 3, 224, 224) # Dummy image tensor\n",
        "print(f\"Shape before projection: {x.shape}\") # Shape: (Batch, Channels, Height, Width)\n",
        "x = proj(x)\n",
        "print(f\"Shape after projection: {x.shape}\") # Shape: (Batch, embed_dim, H/patch_size, W/patch_size)"
      ]
    },
    {
      "cell_type": "code",
      "execution_count": 17,
      "metadata": {
        "id": "EGBkckUbTK9l",
        "colab": {
          "base_uri": "https://localhost:8080/"
        },
        "outputId": "5695ec7b-02da-4f38-ce24-b9de793aa165"
      },
      "outputs": [
        {
          "output_type": "stream",
          "name": "stdout",
          "text": [
            "Shape before flattening: torch.Size([1, 768, 14, 14])\n",
            "Shape after flattening: torch.Size([1, 768, 196])\n"
          ]
        }
      ],
      "source": [
        "#@title Hint 2 { display-mode: \"form\" }\n",
        "\n",
        "# What is the shape of the output of the previous step? We need to flatten the spatial dimensions.\n",
        "\n",
        "# Step 2: Solution\n",
        "#   x = x.flatten(2)\n",
        "\n",
        "# Example (continuing with the projected x from the previous hint)\n",
        "print(f\"Shape before flattening: {x.shape}\") # Shape: (Batch, embed_dim, H/patch_size, W/patch_size)\n",
        "x = x.flatten(2)\n",
        "print(f\"Shape after flattening: {x.shape}\") # Shape: (Batch, embed_dim, N_patches)"
      ]
    },
    {
      "cell_type": "code",
      "execution_count": null,
      "metadata": {
        "id": "OZCkRAxTZc_2"
      },
      "outputs": [],
      "source": [
        "#@title Hint 3 { display-mode: \"form\" }\n",
        "\n",
        "# Now we need to add the positional embeddings. Be careful with the shapes!\n",
        "\n",
        "# Step 3: Solution\n",
        "#   x = x.transpose(1, 2)\n",
        "#   x = x + self.pos_embed\n",
        "\n",
        "# Example (continuing with flattened x from the previous hint)\n",
        "print(f\"Shape before transpose: {x.shape}\") # Shape: (Batch, embed_dim, N_patches)\n",
        "x = x.transpose(1, 2)\n",
        "print(f\"Shape of x after transpose: {x.shape}\") # Shape: (Batch, N_patches, embed_dim)\n",
        "pos_embed = torch.randn(1, 196, 768)\n",
        "print(f\"Shape of pos_embed: {pos_embed.shape}\") # Shape: (Batch, N_patches, embed_dim)\n",
        "x = x + pos_embed\n",
        "print(f\"Shape of x after adding pos_embed: {x.shape}\")  # Shape: (1, N_patches, embed_dim)"
      ]
    },
    {
      "cell_type": "code",
      "execution_count": 43,
      "metadata": {
        "id": "EmJYNAa6PFL9",
        "colab": {
          "base_uri": "https://localhost:8080/"
        },
        "outputId": "24c27a4d-77b5-4bb4-91ae-37e7fbfb2099"
      },
      "outputs": [
        {
          "output_type": "stream",
          "name": "stdout",
          "text": [
            "--- Verifying Patch and Embed Layer ---\n",
            "Shape of output tensor: torch.Size([4, 196, 768])\n",
            "Expected shape: (4, 196, 768) -> (batch_size, n_patches, embed_dim)\n",
            "---------------------------------------- \n",
            "\n"
          ]
        }
      ],
      "source": [
        "# ==============================================================================\n",
        "#\n",
        "#              Image Tokenization and Positional Embeddings\n",
        "#\n",
        "# ==============================================================================\n",
        "\n",
        "class PatchAndEmbed(nn.Module):\n",
        "    \"\"\"\n",
        "    Takes an image, splits it into patches, and embeds them.\n",
        "    Also adds positional embeddings.\n",
        "    \"\"\"\n",
        "    def __init__(self, img_size, patch_size, in_chans, embed_dim):\n",
        "        super().__init__()\n",
        "        self.img_size = img_size\n",
        "        self.patch_size = patch_size\n",
        "        self.n_patches = (img_size // patch_size) ** 2\n",
        "\n",
        "        # 1. Create the projection layer\n",
        "        self.proj = nn.Conv2d(\n",
        "            in_chans,\n",
        "            embed_dim,\n",
        "            kernel_size=patch_size,\n",
        "            stride=patch_size\n",
        "        )\n",
        "\n",
        "        # 2. Create the learnable positional embeddings.\n",
        "        self.pos_embed = nn.Parameter(torch.zeros(1, self.n_patches, embed_dim))\n",
        "\n",
        "\n",
        "    def forward(self, x):\n",
        "        \"\"\"\n",
        "        Args:\n",
        "            x (torch.Tensor): Input images. Shape: (batch_size, in_chans, img_size, img_size)\n",
        "        Returns:\n",
        "            torch.Tensor: Embedded patches. Shape: (batch_size, n_patches, embed_dim)\n",
        "        \"\"\"\n",
        "\n",
        "        ## --- TODO 1: YOUR CODE HERE ---\n",
        "        x = self.proj(x)\n",
        "        x = x.flatten(2)\n",
        "        x = torch.transpose(x, 1, 2) + self.pos_embed\n",
        "        # --- END YOUR CODE --- #\n",
        "        return x\n",
        "\n",
        "\n",
        "# --- Verification ---\n",
        "print(\"--- Verifying Patch and Embed Layer ---\")\n",
        "patcher = PatchAndEmbed(img_size=224, patch_size=16, in_chans=3, embed_dim=768).to(device)\n",
        "dummy_image_batch = torch.randn(4, 3, 224, 224).to(device) # Batch of 4 images\n",
        "embedded_patches = patcher(dummy_image_batch)\n",
        "print(f\"Shape of output tensor: {embedded_patches.shape}\")\n",
        "print(\"Expected shape: (4, 196, 768) -> (batch_size, n_patches, embed_dim)\")\n",
        "print(\"-\" * 40, \"\\n\")"
      ]
    },
    {
      "cell_type": "markdown",
      "metadata": {
        "id": "3-1deoktnhkZ"
      },
      "source": [
        "### Part 2.4: The ViT Encoder Block\n",
        "\n",
        "The core of the ViT is a stack of **Encoder Blocks**. Each block has two main sub-layers:\n",
        "\n",
        "1. **Self-Attention (SA)**\n",
        "\n",
        "- This is where the magic happens. For each patch in the input sequence, self-attention computes an updated representation by incorporating information from the entire set of patches, putting more weight on relevant patches. In practice, an attention mechanism has three parts:\n",
        "\n",
        "  - **Query (Q)**: The query is a feature vector that represents the current patch's \"search query.\" It asks, \"What kind of information should I look for in other patches to better understand myself?\"\n",
        "\n",
        "  - **Key-Value Pairs (K-V)**: The key is a feature vector that represents each patch's \"label\" or \"identifier.\" It responds to queries by saying, \"This is the kind of information I contain.\" The value is a feature vector that represents the actual content or features of each patch. This is the information that gets passed along if a patch is \"attended to.\"\n",
        "\n",
        "  - **Score function (V)**: The score function takes the query and a key as input and outputs the score / attention weight of the query-key pair. This is usually implemented by a simple similarity metric like a dot product.\n",
        "\n",
        "  Note that the Query and Key-Value Pairs are obtained by multiplying the input with different weight matrics as below:\n",
        "\n",
        " <center>\n",
        "  <img src=\"https://slds-lmu.github.io/seminar_nlp_ss20/figures/02-02-attention-and-self-attention-for-nlp/self-attention-matrix-calculation.png\" width=\"400\" height=\"400\">\n",
        "  </center>\n",
        "\n",
        "- In practice, the attention mechanism works as follows:\n",
        "\n",
        "  - **Calculate Attention Scores**: For a single patch, its Query vector is compared with the Key vectors of all other patches in the sequence using a dot product. A high score $s$ indicates a strong relevance between the Query and a Key.\n",
        "\n",
        "  $$ s = {QK^{T}} $$\n",
        "\n",
        "  - **Get Attention Weights**: The scores are scaled by the square root of the dimension of the key vectors (to ensure stable gradients) and then passed through a softmax function. This converts the scores into a probability distribution, where the weights sum to 1. These weights $ \\alpha$ determine how much \"attention\" the current patch should pay to every other patch.\n",
        "\n",
        "    $$\\alpha = \\text{softmax}(\\frac{s}{\\sqrt{d_k}})$$\n",
        "\n",
        "  - **Compute Output**: The final output for the patch is a weighted sum of all the Value vectors in the sequence, using the attention weights calculated in the previous step.\n",
        "\n",
        "    $$ o = \\alpha \\cdot V $$\n",
        "\n",
        "  The overall operation is concisely captured by the Scaled Dot-Product Attention formula:\n",
        "\n",
        "  $$\n",
        "\\text{Attention}(Q, K, V) = \\text{softmax}\\left(\\frac{QK^T}{\\sqrt{d_k}}\\right)V\n",
        "$$\n",
        "\n",
        "  <center>\n",
        "  <img src=\"https://slds-lmu.github.io/seminar_nlp_ss20/figures/02-02-attention-and-self-attention-for-nlp/scaled-dot-prod-attention.png\" width=\"300\" height=\"300\">\n",
        "  </center>\n",
        "\n",
        "2. **Multilayer Perceptron (MLP)**\n",
        "\n",
        "- A standard feed-forward neural network then processes each patch's representation independently after the attention step. This provides additional computational capacity.\n",
        "\n",
        "**Take-away**:\n",
        "- Self-Attention: Its primary role is to weigh the significance of all other tokens in a sequence for a given token, creating a contextually-aware representation by capturing long-range dependencies and relationships within the input data.\n",
        "\n",
        "- MLP (Multi-Layer Perceptron): This component processes each token's representation from the self-attention layer in isolation, applying a non-linear transformation to enrich the features of each token individually and enhance the model's expressive power."
      ]
    },
    {
      "cell_type": "markdown",
      "metadata": {
        "id": "h78vl7-dWxZe"
      },
      "source": [
        "**Remark**: We usually apply self-attention multiple (*h*) times using different Key (K), Query (Q), and Value (V) matrices. This approach, known as Multi-Head Self-Attention (MHSA), allows the model to learn various relationships between tokens or patches, leading to a richer representation. Each \"head\" can focus on different aspects of the input, and their combined (*concatenated*) outputs provide a more comprehensive understanding.\n",
        "\n",
        "<center>\n",
        " <img src=\"https://uvadlc-notebooks.readthedocs.io/en/latest/_images/multihead_attention.svg\" width=\"400\" height=\"400\">\n",
        " </center>"
      ]
    },
    {
      "cell_type": "code",
      "execution_count": 23,
      "metadata": {
        "id": "zXPi1sr3bEFY",
        "colab": {
          "base_uri": "https://localhost:8080/"
        },
        "outputId": "9cd8e103-06db-457d-b0a0-3edca2f8b166"
      },
      "outputs": [
        {
          "output_type": "stream",
          "name": "stdout",
          "text": [
            "MLP input shape: torch.Size([1, 196, 768])\n",
            "MLP output shape: torch.Size([1, 196, 768])\n"
          ]
        }
      ],
      "source": [
        "#@title Hint 1 { display-mode: \"form\" }\n",
        "\n",
        "# An MLP consists of 3 components:\n",
        "# 1. An hidden layer\n",
        "# 2. An activation function that follows it. This function introduces non-linearity, allowing the network to learn more complex patterns than a simple linear model.\n",
        "# 3. An output layer\n",
        "\n",
        "\n",
        "# Step 1: Solution\n",
        "class MLP(nn.Module):\n",
        "    def __init__(self, in_features, hidden_features, out_features):\n",
        "        super().__init__()\n",
        "        self.fc1 = nn.Linear(in_features, hidden_features)\n",
        "        self.act = nn.GELU()\n",
        "        self.fc2 = nn.Linear(hidden_features, out_features)\n",
        "\n",
        "    def forward(self, x):\n",
        "        x = self.fc1(x)\n",
        "        x = self.act(x)\n",
        "        x = self.fc2(x)\n",
        "        return x\n",
        "\n",
        "\n",
        "# Example\n",
        "in_features = 768\n",
        "hidden_features = 3072 # A common ratio is 4x the input features\n",
        "out_features = 768\n",
        "\n",
        "mlp = MLP(in_features, hidden_features, out_features)\n",
        "input_tensor = torch.randn(1, 196, in_features) # (Batch, N_patches, in_features)\n",
        "output = mlp(input_tensor)\n",
        "print(f\"MLP input shape: {input_tensor.shape}\")\n",
        "print(f\"MLP output shape: {output.shape}\")"
      ]
    },
    {
      "cell_type": "code",
      "execution_count": 26,
      "metadata": {
        "id": "1JEZvBhFTJ_l",
        "colab": {
          "base_uri": "https://localhost:8080/"
        },
        "outputId": "1725cc6e-c2a8-4952-bac9-01cb8c326b97"
      },
      "outputs": [
        {
          "output_type": "stream",
          "name": "stdout",
          "text": [
            "Shape of Query (Q): torch.Size([4, 196, 768])\n",
            "Shape of Key (K): torch.Size([4, 196, 768])\n",
            "Shape of K transposed: torch.Size([4, 768, 196])\n",
            "Shape of attention logits: torch.Size([4, 196, 196])\n"
          ]
        }
      ],
      "source": [
        "#@title Hint 2 { display-mode: \"form\" }\n",
        "\n",
        "# The first step for the scaled dot product attention is to do the dot product of the keys and values.\n",
        "\n",
        "\n",
        "# Step 2: Solution\n",
        "# Matmul Q and K transpose: (B, N, C) @ (B, C, N) -> (B, N, N)\n",
        "# attn_logits = torch.matmul(q, k.transpose(-2, -1))\n",
        "\n",
        "\n",
        "# Example\n",
        "B, N, C = 4, 196, 768 # (batch_size, num_patches, embed_dim)\n",
        "q = torch.randn(B, N, C)\n",
        "k = torch.randn(B, N, C)\n",
        "print(f\"Shape of Query (Q): {q.shape}\")\n",
        "print(f\"Shape of Key (K): {k.shape}\")\n",
        "\n",
        "k_t = k.transpose(-2, -1)\n",
        "print(f\"Shape of K transposed: {k_t.shape}\")\n",
        "attn_logits = torch.matmul(q, k_t)\n",
        "print(f\"Shape of attention logits: {attn_logits.shape}\")"
      ]
    },
    {
      "cell_type": "code",
      "execution_count": 31,
      "metadata": {
        "id": "v3dlZSgATnWh",
        "colab": {
          "base_uri": "https://localhost:8080/"
        },
        "outputId": "528bdd4c-13e0-49f6-983b-59a7e1823a79"
      },
      "outputs": [
        {
          "output_type": "stream",
          "name": "stdout",
          "text": [
            "Shape of attention weights: torch.Size([4, 196, 196])\n",
            "Sum of weights for the first query in the first batch item: 1.0\n"
          ]
        }
      ],
      "source": [
        "#@title Hint 3 { display-mode: \"form\" }\n",
        "\n",
        "# Then we must apply the softmax to get attention weights.\n",
        "\n",
        "# Step 3: Solution\n",
        "# attn_weights = F.softmax(attn_logits, dim=-1)\n",
        "\n",
        "# Example (continuing from attn_logits from the previous)\n",
        "\n",
        "attn_weights = F.softmax(attn_logits, dim=-1)\n",
        "print(f\"Shape of attention weights: {attn_weights.shape}\")\n",
        "\n",
        "# The sum of weights for each query should be 1\n",
        "print(f\"Sum of weights for the first query in the first batch item: {attn_weights[0, 0, :].sum()}\")"
      ]
    },
    {
      "cell_type": "code",
      "execution_count": 32,
      "metadata": {
        "id": "IiPVRny_Ttew",
        "colab": {
          "base_uri": "https://localhost:8080/"
        },
        "outputId": "d842f97c-9616-4578-a3e3-63f59889bbeb"
      },
      "outputs": [
        {
          "output_type": "stream",
          "name": "stdout",
          "text": [
            "Shape of attention weights: torch.Size([4, 196, 196])\n",
            "Shape of Values (V): torch.Size([4, 196, 768])\n",
            "Shape of final values: torch.Size([4, 196, 768])\n"
          ]
        }
      ],
      "source": [
        "#@title Hint 4 { display-mode: \"form\" }\n",
        "\n",
        "# Then we need to multiply the attention weights by the values to get our weighted average.\n",
        "\n",
        "# Step 4: Solution\n",
        "# Matmul attention probabilities with V: (B, N, N) @ (B, N, C) -> (B, N, C)\n",
        "# values = torch.matmul(attn_weights, v)\n",
        "\n",
        "# Example\n",
        "B, N, C = 4, 196, 768\n",
        "attn_weights = torch.randn(B, N, N)\n",
        "v = torch.randn(B, N, C)\n",
        "print(f\"Shape of attention weights: {attn_weights.shape}\")\n",
        "print(f\"Shape of Values (V): {v.shape}\")\n",
        "\n",
        "values = torch.matmul(attn_weights, v)\n",
        "print(f\"Shape of final values: {values.shape}\")"
      ]
    },
    {
      "cell_type": "code",
      "execution_count": 41,
      "metadata": {
        "id": "61-ZVk6-2Tu2",
        "colab": {
          "base_uri": "https://localhost:8080/"
        },
        "outputId": "4608c037-0b07-4e79-df78-1b4819a06a4d"
      },
      "outputs": [
        {
          "output_type": "stream",
          "name": "stdout",
          "text": [
            "Attention output shape: torch.Size([4, 196, 768])\n",
            "MLP output shape: torch.Size([4, 196, 768])\n"
          ]
        }
      ],
      "source": [
        "# ==============================================================================\n",
        "#\n",
        "#              Implement MLP and Self-Attention\n",
        "#\n",
        "#\n",
        "# ==============================================================================\n",
        "\n",
        "def scaled_dot_product_attention(q, k, v):\n",
        "    \"\"\"\n",
        "    Calculates the Scaled Dot-Product Attention.\n",
        "    The inputs q, k, v are expected to be of shape (Batch, Sequence_Length, Dimension).\n",
        "    \"\"\"\n",
        "    d_k = k.size()[-1]  # Get the dimension of the key vectors\n",
        "\n",
        "    ## --- TODO 1: YOUR CODE HERE ---\n",
        "    attn_logits = q @ k.transpose(1, 2)\n",
        "\n",
        "    # --- END YOUR CODE --- #\n",
        "\n",
        "    attn_logits = attn_logits / math.sqrt(d_k)            # (batch_size, n_patches, n_patches) # values: (batch_size, n_patches, dimension)\n",
        "\n",
        "    ## --- TODO 2: YOUR CODE HERE ---\n",
        "    attn_logits_norm = torch.softmax(attn_logits, dim=2)\n",
        "    #print(attn_logits_norm[0, 0].sum())\n",
        "    # --- END YOUR CODE --- #\n",
        "    values = torch.matmul(attn_logits, v)\n",
        "\n",
        "    return values\n",
        "\n",
        "class SelfAttention(nn.Module):\n",
        "    def __init__(self, embed_dim):\n",
        "        \"\"\"\n",
        "        Args:\n",
        "            embed_dim (int): The embedding dimension of the input, which is also the\n",
        "                             dimension of Q, K, and V.\n",
        "        \"\"\"\n",
        "        super().__init__()\n",
        "        self.embed_dim = embed_dim\n",
        "\n",
        "        # 1. A single linear layer to project input into Q, K, V for efficiency\n",
        "        self.qkv = nn.Linear(embed_dim, embed_dim * 3)\n",
        "        self.proj = nn.Linear(embed_dim, embed_dim)\n",
        "\n",
        "    def forward(self, x):\n",
        "        # Input x shape: (batch_size, n_patches, embed_dim)\n",
        "        B, N, C = x.shape\n",
        "\n",
        "        # 2. Project to Q, K, V\n",
        "        qkv = self.qkv(x)                           # (batch_size, n_patches, 3 * embed_dim)\n",
        "\n",
        "        # 3. Split the last dimension into 3 chunks for Q, K, V\n",
        "        q, k, v = qkv.chunk(3, dim=-1)              # (batch_size, n_patches, embed_dim)\n",
        "\n",
        "        # 4. Call the scaled dot-product attention function\n",
        "        x = scaled_dot_product_attention(q, k, v)   # (batch_size, n_patches, embed_dim)\n",
        "\n",
        "        # 5. Final linear projection\n",
        "        x = self.proj(x)                            # (batch_size, n_patches, embed_dim)\n",
        "        return x\n",
        "\n",
        "\n",
        "class MLP(nn.Module):\n",
        "    def __init__(self, in_features, hidden_features, out_features):\n",
        "        \"\"\"\n",
        "        Args:\n",
        "            in_features (int): The number of features in the input tensor.\n",
        "            hidden_features (int): The number of nodes in the hidden layer.\n",
        "            out_features (int): The number of features in the output tensor.\n",
        "        \"\"\"\n",
        "        super().__init__()\n",
        "        ## --- TODO 3: YOUR CODE HERE ---\n",
        "        self.nn = torch.nn.Sequential(\n",
        "\n",
        "                torch.nn.Linear(in_features, hidden_features),\n",
        "                torch.nn.GELU(),\n",
        "                torch.nn.Linear(hidden_features, out_features),\n",
        "\n",
        "        )\n",
        "        # --- END YOUR CODE --- #\n",
        "\n",
        "    def forward(self, x):\n",
        "        \"\"\"\n",
        "          Args:\n",
        "              x (torch.Tensor): The input tensor.\n",
        "\n",
        "          Returns:\n",
        "              torch.Tensor: The output tensor.\n",
        "          \"\"\"\n",
        "        ## --- TODO 4: YOUR CODE HERE ---\n",
        "        return self.nn(x)\n",
        "        # --- END YOUR CODE --- #\n",
        "        #return x\n",
        "\n",
        "\n",
        "# --- Verification ---\n",
        "# Using the final embeddings from the previous task\n",
        "# final_embeddings.shape is (4, 196, 768)\n",
        "embed_dim = 768\n",
        "\n",
        "# Attention Block\n",
        "attention = SelfAttention(embed_dim=embed_dim).to(device)\n",
        "attended_output = attention(embedded_patches)\n",
        "print(f\"Attention output shape: {attended_output.shape}\") # Expected: (4, 196, 768)\n",
        "\n",
        "# MLP Block\n",
        "mlp = MLP(in_features=embed_dim, hidden_features=embed_dim * 4, out_features=embed_dim).to(device)\n",
        "mlp_output = mlp(attended_output)\n",
        "print(f\"MLP output shape: {mlp_output.shape}\") # Expected: (4, 196, 768)\n"
      ]
    },
    {
      "cell_type": "markdown",
      "metadata": {
        "id": "6A-K5Regziy4"
      },
      "source": [
        "### Part 2.5: The Full Forward Pass\n",
        "\n",
        "Now we assemble all the pieces into a complete Transformer Encoder block and then stack them to create the full ViT model.\n",
        "\n",
        "**Vision Transformer forward pass**: The forward pass of the VisionTransformer begins by converting the input image into a sequence of flattened patch embeddings using self.patch_embed. This sequence of tokens is then processed sequentially through a series of EncoderBlock layers, which refine the token representations. After the final block, the entire sequence is normalized. To produce a single vector for classification, the model takes the **mean of all token embeddings** across the sequence dimension. This aggregated vector is then passed to the final linear layer (self.head) to generate the classification logits. Note that here we take the mean of all token embeddings for simplicity -- in practice, a [CLS] token is often used to aggregate the sequence information (please refer to [ViT](https://arxiv.org/abs/2010.11929) paper for more details).\n",
        "\n",
        "<center>\n",
        "<img src=\"https://viso.ai/wp-content/uploads/2021/09/vision-transformer-vit.png\" width=\"600\" height=\"300\">\n",
        "</center>\n",
        "\n",
        "\n",
        "Note that in addition to the self attention and MLP described in Part 2.4, there are two additional components in our Encoder Block: normalisation layers and residual connections. These ensure stable training."
      ]
    },
    {
      "cell_type": "code",
      "execution_count": 38,
      "metadata": {
        "id": "RB_2-EwJZDIm",
        "colab": {
          "base_uri": "https://localhost:8080/"
        },
        "outputId": "0584b302-f47d-45df-af22-0be0f20f46d4"
      },
      "outputs": [
        {
          "output_type": "stream",
          "name": "stdout",
          "text": [
            "torch.Size([1, 3, 224, 224])\n",
            "torch.Size([1, 768, 14, 14])\n",
            "torch.Size([1, 768, 196])\n",
            "Input image shape: torch.Size([1, 3, 224, 224])\n",
            "Output shape after PatchAndEmbed: torch.Size([1, 196, 768])\n"
          ]
        }
      ],
      "source": [
        "#@title Hint 1 { display-mode: \"form\" }\n",
        "\n",
        "# Call PatchAndEmbed to tokenize the image and add positional embeddings.\n",
        "\n",
        "# Step 1: Solution\n",
        "# x = self.patch_embed(x)\n",
        "\n",
        "# Example\n",
        "\n",
        "patch_embed = PatchAndEmbed(img_size=224, patch_size=16, in_chans=3, embed_dim=768)\n",
        "img = torch.randn(1, 3, 224, 224)\n",
        "output = patch_embed(img)\n",
        "\n",
        "print(f\"Input image shape: {img.shape}\")\n",
        "print(f\"Output shape after PatchAndEmbed: {output.shape}\")"
      ]
    },
    {
      "cell_type": "code",
      "execution_count": null,
      "metadata": {
        "id": "xAG5ThV4ZNgP"
      },
      "outputs": [],
      "source": [
        "#@title Hint 2 { display-mode: \"form\" }\n",
        "\n",
        "# Pass through the Transformer encoder blocks.\n",
        "\n",
        "# Step 2: Solution\n",
        "# for blk in self.blocks:\n",
        "#     x = blk(x)"
      ]
    },
    {
      "cell_type": "code",
      "execution_count": null,
      "metadata": {
        "id": "9w_p15o2Zdfo"
      },
      "outputs": [],
      "source": [
        "#@title Hint 3 { display-mode: \"form\" }\n",
        "\n",
        "# Take the average over the sequence dimension and pass to the classification head.\n",
        "\n",
        "\n",
        "# Step 3: Solution\n",
        "# x = x.mean(dim=1)\n",
        "# logits = self.head(x)\n",
        "\n",
        "# Example\n",
        "B, N, C = 1, 196, 768 # Batch, Num_Patches, Embed_dim\n",
        "x = torch.randn(B, N, C)\n",
        "print(f\"Shape after Transformer blocks: {x.shape}\")\n",
        "\n",
        "x_mean = x.mean(dim=1)\n",
        "print(f\"Shape after averaging: {x_mean.shape}\")\n",
        "\n",
        "num_classes = 10 # Example: CIFAR has 10 classes\n",
        "head = nn.Linear(C, num_classes)\n",
        "\n",
        "logits = head(x_mean)\n",
        "print(f\"Shape of final logits: {logits.shape}\")"
      ]
    },
    {
      "cell_type": "code",
      "execution_count": 53,
      "metadata": {
        "id": "iOh5_G4VVkHy",
        "colab": {
          "base_uri": "https://localhost:8080/"
        },
        "outputId": "889ce4d9-87e1-428e-97a6-e984732d11ba"
      },
      "outputs": [
        {
          "output_type": "stream",
          "name": "stdout",
          "text": [
            "Input image shape: torch.Size([4, 3, 32, 32])\n",
            "Output logits shape: torch.Size([4, 10])\n"
          ]
        }
      ],
      "source": [
        "# ==============================================================================\n",
        "#\n",
        "#              Full forward pass\n",
        "#\n",
        "#\n",
        "# ==============================================================================\n",
        "\n",
        "\n",
        "\n",
        "class EncoderBlock(nn.Module):\n",
        "    def __init__(self, embed_dim, mlp_ratio=4.0):\n",
        "        super().__init__()\n",
        "        self.norm1 = nn.LayerNorm(embed_dim)\n",
        "        self.attn = SelfAttention(embed_dim)\n",
        "        self.norm2 = nn.LayerNorm(embed_dim)\n",
        "        hidden_features = int(embed_dim * mlp_ratio)\n",
        "        self.mlp = MLP(in_features=embed_dim, hidden_features=hidden_features, out_features=embed_dim)\n",
        "\n",
        "    def forward(self, x):\n",
        "        # 1. Residual connection around the Attention block\n",
        "        x = x + self.attn(self.norm1(x))\n",
        "        # 2. Residual connection around the MLP block\n",
        "        x = x + self.mlp(self.norm2(x))\n",
        "        return x\n",
        "\n",
        "class VisionTransformer(nn.Module):\n",
        "    def __init__(self, img_size=224, patch_size=16, in_chans=3, num_classes=10,\n",
        "                 embed_dim=768, depth=12, mlp_ratio=4.0):\n",
        "        super().__init__()\n",
        "\n",
        "        # 1. Patch + Positional Embeddings\n",
        "        self.patch_embed = PatchAndEmbed(img_size, patch_size, in_chans, embed_dim)\n",
        "\n",
        "        # 2. Transformer Encoder\n",
        "        self.blocks = nn.ModuleList([\n",
        "            EncoderBlock(embed_dim, mlp_ratio)\n",
        "            for _ in range(depth)\n",
        "        ])\n",
        "\n",
        "        # 3. Classification Head\n",
        "        self.norm = nn.LayerNorm(embed_dim)\n",
        "        self.head = nn.Linear(embed_dim, num_classes)\n",
        "\n",
        "    def forward(self, x):\n",
        "\n",
        "        ## --- TODO 1: YOUR CODE HERE ---\n",
        "        #print(\"input\", x.shape)\n",
        "        x = self.patch_embed(x)\n",
        "\n",
        "        for i in range(len(self.blocks)):\n",
        "          x = self.blocks[i](x)\n",
        "          #print(\"After block\", i, x.shape)\n",
        "\n",
        "        # --- END YOUR CODE --- #\n",
        "\n",
        "        # After the final block, the sequence is normalised\n",
        "        x = self.norm(x)\n",
        "        #print(\"x shape\", x.shape) # 4,4,768?????\n",
        "\n",
        "        ## --- TODO 2: YOUR CODE HERE ---\n",
        "        x = x.mean(dim=1)\n",
        "        #print(\"x1 shape\", x.shape)\n",
        "\n",
        "        # --- END YOUR CODE --- #\n",
        "\n",
        "        return self.head(x)\n",
        "\n",
        "# --- Example Usage ---\n",
        "# Instantiate the full ViT model\n",
        "vit_model = VisionTransformer(img_size=32, num_classes=10).to(device) # e.g., for CIFAR-10\n",
        "\n",
        "# A batch of 4 images, 3 channels (RGB), 224x224 pixels\n",
        "images = torch.randn(4, 3, 32, 32, device=device)\n",
        "\n",
        "# Get the model's output (logits)\n",
        "logits = vit_model(images)\n",
        "print(f\"Input image shape: {images.shape}\")\n",
        "print(f\"Output logits shape: {logits.shape}\") # Expected: (4, 10)"
      ]
    },
    {
      "cell_type": "markdown",
      "metadata": {
        "id": "lA3G7LAyZ14X"
      },
      "source": [
        "### Part 2.6: The Training Loop\n",
        "\n",
        "With the model defined, the final step is to train it. This involves feeding it data, calculating the loss, and updating the model's weights using an optimizer. We'll run this for one epoch to see the process in action.\n",
        "\n",
        "We'll use the CIFAR-10 dataset as an example. You can visualise some samples below."
      ]
    },
    {
      "cell_type": "code",
      "execution_count": 54,
      "metadata": {
        "id": "ADmtW08caBKC",
        "colab": {
          "base_uri": "https://localhost:8080/",
          "height": 1000
        },
        "outputId": "532db9b2-ae1a-46b5-8a74-8fe808403771"
      },
      "outputs": [
        {
          "output_type": "stream",
          "name": "stderr",
          "text": [
            "100%|██████████| 170M/170M [00:04<00:00, 39.5MB/s]\n"
          ]
        },
        {
          "output_type": "stream",
          "name": "stdout",
          "text": [
            "Example Images:\n"
          ]
        },
        {
          "output_type": "display_data",
          "data": {
            "text/plain": [
              "<Figure size 640x480 with 1 Axes>"
            ],
            "image/png": "[encoded data removed]"
          },
          "metadata": {}
        },
        {
          "output_type": "display_data",
          "data": {
            "text/plain": [
              "<Figure size 640x480 with 1 Axes>"
            ],
            "image/png": "[encoded data removed]"
          },
          "metadata": {}
        },
        {
          "output_type": "display_data",
          "data": {
            "text/plain": [
              "<Figure size 640x480 with 1 Axes>"
            ],
            "image/png": "[encoded data removed]"
          },
          "metadata": {}
        },
        {
          "output_type": "display_data",
          "data": {
            "text/plain": [
              "<Figure size 640x480 with 1 Axes>"
            ],
            "image/png": "[encoded data removed]"
          },
          "metadata": {}
        },
        {
          "output_type": "display_data",
          "data": {
            "text/plain": [
              "<Figure size 640x480 with 1 Axes>"
            ],
            "image/png": "[encoded data removed]"
          },
          "metadata": {}
        }
      ],
      "source": [
        "# ==============================================================================\n",
        "#\n",
        "#              CIFAR-10 Dataset\n",
        "#\n",
        "#\n",
        "# ==============================================================================\n",
        "\n",
        "# 1. Setup Dataset and DataLoader\n",
        "transform = transforms.Compose([\n",
        "    transforms.ToTensor(),\n",
        "    transforms.Normalize((0.5, 0.5, 0.5), (0.5, 0.5, 0.5))\n",
        "])\n",
        "\n",
        "# 2. Use CIFAR-10 dataset\n",
        "train_dataset = datasets.CIFAR10(root='./data', train=True, download=True, transform=transform)\n",
        "test_dataset = datasets.CIFAR10(root='./data', train=False, download=True, transform=transform)\n",
        "train_loader = DataLoader(train_dataset, batch_size=64, shuffle=True, num_workers=2)\n",
        "test_loader = DataLoader(test_dataset, batch_size=16, shuffle=False, num_workers=2)\n",
        "\n",
        "classes = ('plane', 'car', 'bird', 'cat', 'deer', 'dog', 'frog', 'horse', 'ship', 'truck')\n",
        "dataiter = iter(train_loader)\n",
        "images, labels = next(dataiter)\n",
        "\n",
        "def imshow(img, title=None):\n",
        "    img = img / 2 + 0.5     # unnormalize\n",
        "    npimg = img.numpy()\n",
        "    plt.imshow(np.transpose(npimg, (1, 2, 0)))\n",
        "    if title is not None:\n",
        "        plt.title(title)\n",
        "    plt.show()\n",
        "\n",
        "print('Example Images:')\n",
        "for i in range(0, 5):\n",
        "  imshow(images[i], title=classes[labels[i]])\n"
      ]
    },
    {
      "cell_type": "markdown",
      "metadata": {
        "id": "-fUs00tOomxZ"
      },
      "source": [
        "While you wait for this subsequent training cell to run, you can start reading Part 2.7."
      ]
    },
    {
      "cell_type": "code",
      "execution_count": 55,
      "metadata": {
        "id": "E3MxL7AWaVtK",
        "colab": {
          "base_uri": "https://localhost:8080/",
          "height": 272,
          "referenced_widgets": [
            "17c4df684acc498bbb107b72d74be773",
            "c2ec29dc1d304726969a04a6b42a41fa",
            "c8429f4e1a6f4999bef7f26fc222912b",
            "8457c7c7960e476aa8e6806124b92585",
            "c7231d76c6e24357ae2f240be4860143",
            "199aba18e4e342b6abdefc1adb904ae1",
            "c62029391073456cbbecc8b592bd4d8c",
            "86fe5630c98c4305b777c45848c95464",
            "60648e5b532b4ab6bc8ee16b2482ed15",
            "92c80e86db474a608054c21dd531143e",
            "e1a1d0e4381244edb9a4348239691d81",
            "eb88c5c883ec4f2b8199110c4367d1d3",
            "d3ac0653c3f040d395af7812f484cc17",
            "31953c6eba184830a93123bcb55bebeb",
            "27160648fb5b407b9dd91c31d4824505",
            "e3ed0d690c2e4cdb8da11306cbd31554",
            "cd47f0b43ec54f1c87e0a76e18342c6a",
            "9cc331489efb424d8bb827995eac1585",
            "742bbca3f60a47f4840e8c630e18bd98",
            "190dea2709e540a5bb0d70857a03125c",
            "c89431b2fac44b98b4564620f0f50813",
            "cec097760b7847408f23cc150c250d05"
          ]
        },
        "outputId": "4d8ffe59-f863-4b57-fa45-6b20736a29e6"
      },
      "outputs": [
        {
          "output_type": "stream",
          "name": "stdout",
          "text": [
            "\n",
            "Starting training for two epoch...\n"
          ]
        },
        {
          "output_type": "display_data",
          "data": {
            "text/plain": [
              "Epoch 1/2:   0%|          | 0/782 [00:00<?, ?it/s]"
            ],
            "application/vnd.jupyter.widget-view+json": {
              "version_major": 2,
              "version_minor": 0,
              "model_id": "17c4df684acc498bbb107b72d74be773"
            }
          },
          "metadata": {}
        },
        {
          "output_type": "stream",
          "name": "stderr",
          "text": [
            "W0721 15:10:04.956000 1760 torch/_inductor/utils.py:1137] [0/0] Not enough SMs to use max_autotune_gemm mode\n"
          ]
        },
        {
          "output_type": "stream",
          "name": "stdout",
          "text": [
            "\n",
            "--- End of Epoch 0---\n",
            "Average Training Loss: 1.8879\n",
            "Training Accuracy: 29.39%\n"
          ]
        },
        {
          "output_type": "display_data",
          "data": {
            "text/plain": [
              "Epoch 2/2:   0%|          | 0/782 [00:00<?, ?it/s]"
            ],
            "application/vnd.jupyter.widget-view+json": {
              "version_major": 2,
              "version_minor": 0,
              "model_id": "eb88c5c883ec4f2b8199110c4367d1d3"
            }
          },
          "metadata": {}
        },
        {
          "output_type": "stream",
          "name": "stdout",
          "text": [
            "\n",
            "--- End of Epoch 1---\n",
            "Average Training Loss: 1.7064\n",
            "Training Accuracy: 37.07%\n"
          ]
        }
      ],
      "source": [
        "# ==============================================================================\n",
        "#\n",
        "#              Run a Training Loop for One Epoch\n",
        "#\n",
        "#\n",
        "# ==============================================================================\n",
        "\n",
        "# Initialize Model, Loss, and Optimizer\n",
        "model = VisionTransformer(img_size=32, patch_size=4, in_chans=3, num_classes=10,\n",
        "                 embed_dim=64, depth=4, mlp_ratio=2.0).to(device)\n",
        "model = torch.compile(model)\n",
        "criterion = nn.CrossEntropyLoss()\n",
        "optimizer = torch.optim.AdamW(model.parameters(), lr=1.5e-4)\n",
        "epochs=2\n",
        "# The Training Loop\n",
        "def train_one_epoch(model, loader, criterion, optimizer, device, epoch):\n",
        "    model.train()\n",
        "    total_loss = 0\n",
        "    correct_predictions = 0\n",
        "    total_samples = 0\n",
        "    pbar = tqdm(loader, desc=f\"Epoch {epoch+1}/{epochs}\")\n",
        "\n",
        "    for images, labels in pbar:\n",
        "        images, labels = images.to(device), labels.to(device)\n",
        "\n",
        "        # 1. Zero the gradients\n",
        "        optimizer.zero_grad()\n",
        "\n",
        "        # 2. Forward pass\n",
        "        outputs = model(images)\n",
        "\n",
        "        # 3. Calculate loss\n",
        "        loss = criterion(outputs, labels)\n",
        "\n",
        "        # 4. Backward pass and optimization\n",
        "        loss.backward()\n",
        "        optimizer.step()\n",
        "\n",
        "        # 5. Track statistics\n",
        "        total_loss += loss.item()\n",
        "        pbar.set_postfix({'loss': loss.item()})\n",
        "\n",
        "        _, predicted = torch.max(outputs.data, 1)\n",
        "        total_samples += labels.size(0)\n",
        "        correct_predictions += (predicted == labels).sum().item()\n",
        "\n",
        "    avg_loss = total_loss / len(loader)\n",
        "    accuracy = 100 * correct_predictions / total_samples\n",
        "    return avg_loss, accuracy\n",
        "\n",
        "print(\"\\nStarting training for two epoch...\")\n",
        "for epoch in range(epochs):\n",
        "  avg_loss, accuracy = train_one_epoch(model, train_loader, criterion, optimizer, device, epoch)\n",
        "  print(f\"\\n--- End of Epoch {epoch}---\")\n",
        "  print(f\"Average Training Loss: {avg_loss:.4f}\")\n",
        "  print(f\"Training Accuracy: {accuracy:.2f}%\")"
      ]
    },
    {
      "cell_type": "markdown",
      "metadata": {
        "id": "2edyPY3jsJ-S"
      },
      "source": [
        "After a single epoch, the performance is already much better than random chance (10 percent given there are 10 classes)."
      ]
    },
    {
      "cell_type": "markdown",
      "metadata": {
        "id": "Ck7lHMdVowpf"
      },
      "source": [
        "### Part 2.7: Loading Pretrained ViT\n",
        "\n",
        "As mentioned in the introduction, it is common to start from a pretrained model, which has already learned a robust, general understanding of the visual world from a dataset like ImageNet-1k (containing 1 million images). Let's give this a go now and run the pretrained model on a few samples of the CIFAR-10 test set and compare to what we get from evaluating our much smaller model!"
      ]
    },
    {
      "cell_type": "code",
      "execution_count": 60,
      "metadata": {
        "id": "8tS2OMUwqaU1",
        "colab": {
          "base_uri": "https://localhost:8080/",
          "height": 1000
        },
        "outputId": "598973f0-0d07-4573-f3a1-76e728e9d639"
      },
      "outputs": [
        {
          "output_type": "stream",
          "name": "stdout",
          "text": [
            "\n",
            "--- Evaluating on 10 samples from the CIFAR-10 test set ---\n"
          ]
        },
        {
          "output_type": "display_data",
          "data": {
            "text/plain": [
              "<Figure size 640x480 with 1 Axes>"
            ],
            "image/png": "[encoded data removed]"
          },
          "metadata": {}
        },
        {
          "output_type": "stream",
          "name": "stdout",
          "text": [
            "\n",
            "Image #1:\n",
            "True Label (CIFAR-10) = 'cat'\n",
            "Predicted class Pretrained: tabby, tabby cat\n",
            "Predicted class Ours: truck\n",
            "------------------------------\n"
          ]
        },
        {
          "output_type": "display_data",
          "data": {
            "text/plain": [
              "<Figure size 640x480 with 1 Axes>"
            ],
            "image/png": "[encoded data removed]"
          },
          "metadata": {}
        },
        {
          "output_type": "stream",
          "name": "stdout",
          "text": [
            "\n",
            "Image #2:\n",
            "True Label (CIFAR-10) = 'ship'\n",
            "Predicted class Pretrained: speedboat\n",
            "Predicted class Ours: ship\n",
            "------------------------------\n"
          ]
        },
        {
          "output_type": "display_data",
          "data": {
            "text/plain": [
              "<Figure size 640x480 with 1 Axes>"
            ],
            "image/png": "[encoded data removed]"
          },
          "metadata": {}
        },
        {
          "output_type": "stream",
          "name": "stdout",
          "text": [
            "\n",
            "Image #3:\n",
            "True Label (CIFAR-10) = 'ship'\n",
            "Predicted class Pretrained: speedboat\n",
            "Predicted class Ours: ship\n",
            "------------------------------\n"
          ]
        },
        {
          "output_type": "display_data",
          "data": {
            "text/plain": [
              "<Figure size 640x480 with 1 Axes>"
            ],
            "image/png": "[encoded data removed]"
          },
          "metadata": {}
        },
        {
          "output_type": "stream",
          "name": "stdout",
          "text": [
            "\n",
            "Image #4:\n",
            "True Label (CIFAR-10) = 'plane'\n",
            "Predicted class Pretrained: book jacket, dust cover, dust jacket, dust wrapper\n",
            "Predicted class Ours: plane\n",
            "------------------------------\n"
          ]
        },
        {
          "output_type": "display_data",
          "data": {
            "text/plain": [
              "<Figure size 640x480 with 1 Axes>"
            ],
            "image/png": "[encoded data removed]"
          },
          "metadata": {}
        },
        {
          "output_type": "stream",
          "name": "stdout",
          "text": [
            "\n",
            "Image #5:\n",
            "True Label (CIFAR-10) = 'frog'\n",
            "Predicted class Pretrained: tailed frog, bell toad, ribbed toad, tailed toad, Ascaphus trui\n",
            "Predicted class Ours: frog\n",
            "------------------------------\n"
          ]
        },
        {
          "output_type": "display_data",
          "data": {
            "text/plain": [
              "<Figure size 640x480 with 1 Axes>"
            ],
            "image/png": "[encoded data removed]"
          },
          "metadata": {}
        },
        {
          "output_type": "stream",
          "name": "stdout",
          "text": [
            "\n",
            "Image #6:\n",
            "True Label (CIFAR-10) = 'frog'\n",
            "Predicted class Pretrained: frilled lizard, Chlamydosaurus kingi\n",
            "Predicted class Ours: frog\n",
            "------------------------------\n"
          ]
        },
        {
          "output_type": "display_data",
          "data": {
            "text/plain": [
              "<Figure size 640x480 with 1 Axes>"
            ],
            "image/png": "[encoded data removed]"
          },
          "metadata": {}
        },
        {
          "output_type": "stream",
          "name": "stdout",
          "text": [
            "\n",
            "Image #7:\n",
            "True Label (CIFAR-10) = 'car'\n",
            "Predicted class Pretrained: lifeboat\n",
            "Predicted class Ours: dog\n",
            "------------------------------\n"
          ]
        },
        {
          "output_type": "display_data",
          "data": {
            "text/plain": [
              "<Figure size 640x480 with 1 Axes>"
            ],
            "image/png": "[encoded data removed]"
          },
          "metadata": {}
        },
        {
          "output_type": "stream",
          "name": "stdout",
          "text": [
            "\n",
            "Image #8:\n",
            "True Label (CIFAR-10) = 'frog'\n",
            "Predicted class Pretrained: tailed frog, bell toad, ribbed toad, tailed toad, Ascaphus trui\n",
            "Predicted class Ours: deer\n",
            "------------------------------\n"
          ]
        },
        {
          "output_type": "display_data",
          "data": {
            "text/plain": [
              "<Figure size 640x480 with 1 Axes>"
            ],
            "image/png": "[encoded data removed]"
          },
          "metadata": {}
        },
        {
          "output_type": "stream",
          "name": "stdout",
          "text": [
            "\n",
            "Image #9:\n",
            "True Label (CIFAR-10) = 'cat'\n",
            "Predicted class Pretrained: Egyptian cat\n",
            "Predicted class Ours: cat\n",
            "------------------------------\n"
          ]
        },
        {
          "output_type": "display_data",
          "data": {
            "text/plain": [
              "<Figure size 640x480 with 1 Axes>"
            ],
            "image/png": "[encoded data removed]"
          },
          "metadata": {}
        },
        {
          "output_type": "stream",
          "name": "stdout",
          "text": [
            "\n",
            "Image #10:\n",
            "True Label (CIFAR-10) = 'car'\n",
            "Predicted class Pretrained: moving van\n",
            "Predicted class Ours: truck\n",
            "------------------------------\n"
          ]
        }
      ],
      "source": [
        "# ==============================================================================\n",
        "#\n",
        "#        Inference with a Pretrained ViT\n",
        "#\n",
        "# ==============================================================================\n",
        "from torchvision.transforms import Resize\n",
        "# Load the pretrained Vision Transformer model\n",
        "from transformers import ViTForImageClassification\n",
        "model_pt = ViTForImageClassification.from_pretrained(\"google/vit-base-patch16-224\")\n",
        "model_pt = model_pt.to(device)\n",
        "model_pt.eval()  # Set the model to evaluation mode\n",
        "model.eval()\n",
        "# Create a resize transform object\n",
        "resize_transform = Resize((224, 224), antialias=True)\n",
        "\n",
        "print(\"\\n--- Evaluating on 10 samples from the CIFAR-10 test set ---\")\n",
        "\n",
        "# 1. Use torch.no_grad() for inference\n",
        "with torch.no_grad():\n",
        "    # 2. Get just one batch of images and labels from the test loader\n",
        "    images, labels = next(iter(test_loader))\n",
        "\n",
        "    # 3. Resize the entire batch of images to 224x224 to match input size of pretrained model\n",
        "    images_rs = resize_transform(images)\n",
        "\n",
        "    # 4. Move data to the selected device\n",
        "    images_rs = images_rs.to(device)\n",
        "    images = images.to(device)\n",
        "    labels = labels.to(device)\n",
        "\n",
        "    # 5. Get model predictions (logits)\n",
        "    outputs_pt = model_pt(images_rs)\n",
        "    logits = outputs_pt.logits\n",
        "    outputs_ours = model(images)\n",
        "\n",
        "\n",
        "    # Print results for the first 10 images in the batch\n",
        "    for i in range(10):\n",
        "        true_label = classes[labels[i]]\n",
        "        prediction_pt = logits[i].argmax(-1)\n",
        "        prediction_ours = outputs_ours.data[i].argmax(-1)\n",
        "        imshow(images[i].cpu())\n",
        "        print(f\"\\nImage #{i+1}:\")\n",
        "        print(f\"True Label (CIFAR-10) = '{true_label}'\")\n",
        "        print(\"Predicted class Pretrained:\", model_pt.config.id2label[prediction_pt.item()])\n",
        "        print(\"Predicted class Ours:\", classes[prediction_ours])\n",
        "        print(\"-\" * 30)\n"
      ]
    },
    {
      "cell_type": "markdown",
      "metadata": {
        "id": "UOrQmspBUJPr"
      },
      "source": [
        "## Part 3: Self-supervised Learning via [MAEs](https://arxiv.org/abs/2111.06377)\n",
        "\n",
        "Above, you saw how we might train a vision encoder with labeled data using a classification loss function. But what happens if we do not have labels?\n",
        "\n",
        "There are many techniques that can be classified as \"self-supervised\" where we use the data itself to generate \"pre-text\" tasks that allow the model to learn representations from data without labels. One very common and popular method is known as Masked Autoencoders (MAE). The core idea is that a model will learn useful visual representations by having to reconstruct full images from partial (masked) views.\n",
        "\n",
        "<center>\n",
        "<img src=\"https://imgs.search.brave.com/qiyXKwMm8_rkR9Tewvtcv2wM0rxNBn8PPVj6gddvYS4/rs:fit:500:0:1:0/g:ce/aHR0cHM6Ly90b3dh/cmRzZGF0YXNjaWVu/Y2UuY29tL3dwLWNv/bnRlbnQvdXBsb2Fk/cy8yMDIxLzEyLzFs/OHpQVjFzU0RtRVBi/d0hURGg1Unp3LnBu/Zw\">\n",
        "</center>\n",
        "\n",
        "In this section, we will delve into how this works and implement a simple example."
      ]
    },
    {
      "cell_type": "markdown",
      "metadata": {
        "id": "gHF_iXI0yupE"
      },
      "source": [
        "### Part 3.1: Implementing the mean-squared error loss\n",
        "\n",
        "The goal of the MAE is to reconstruct the original image from a partial, masked input. To measure how well the model is doing, we need a loss function. For image reconstruction, a common and effective choice is the **Mean Squared Error (MSE)**, which calculates the average squared difference between the predicted pixels and the true pixels.\n",
        "\n",
        "Your task is to implement this loss. You will compare the model's prediction with the original, unmasked image.\n",
        "\n",
        "$$ \\text{MSE} = \\frac{1}{N} \\sum_{i=1}^{N} (\\text{prediction}_i - \\text{target}_i)^2 $$"
      ]
    },
    {
      "cell_type": "code",
      "execution_count": null,
      "metadata": {
        "id": "2pDAlb7BzY-H"
      },
      "outputs": [],
      "source": [
        "#@title Hint 1 { display-mode: \"form\" }\n",
        "# The task is to implement the Mean Squared Error (MSE) loss.\n",
        "\n",
        "# Calculate the squared difference between each pixel.\n",
        "# Then, calculate the mean of all the squared differences.\n",
        "# The .mean() operation on the entire tensor computes the average\n",
        "# over all dimensions (e.g., N, C, H, W), resulting in a single scalar value.\n",
        "\n",
        "# Step 1: Solution\n",
        "#   squared_error = (predictions - targets) ** 2\n",
        "#   loss = torch.mean(squared_error)\n",
        "\n",
        "# Example\n",
        "\n",
        "# N = Batch Size, C = Channels, H = Height, W = Width\n",
        "N, C, H, W = 4, 3, 32, 32\n",
        "\n",
        "# Create some dummy prediction and target tensors\n",
        "predictions = torch.randn(N, C, H, W)\n",
        "targets = torch.randn(N, C, H, W)\n",
        "\n",
        "# Calculate the squared difference between each element\n",
        "squared_error = (predictions - targets) ** 2\n",
        "\n",
        "# Calculate the mean of all the squared differences\n",
        "loss = torch.mean(squared_error)\n",
        "\n",
        "print(f\"Calculated MSE Loss: {loss.item()}\")\n",
        "\n",
        "# Verification with PyTorch's built-in MSELoss\n",
        "mse_loss_fn = torch.nn.MSELoss()\n",
        "torch_loss = mse_loss_fn(predictions, targets)\n",
        "print(f\"PyTorch's MSE Loss: {torch_loss.item()}\")\n",
        "\n",
        "assert torch.allclose(loss, torch_loss), \"Your implementation does not match PyTorch's MSELoss.\"\n",
        "print(\"\\nSuccess! Your implementation is correct.\")"
      ]
    },
    {
      "cell_type": "code",
      "execution_count": null,
      "metadata": {
        "id": "Ov2RERwmzOU4"
      },
      "outputs": [],
      "source": [
        "def reconstruction_loss(predictions, targets):\n",
        "    \"\"\"\n",
        "    Calculates the Mean Squared Error between predictions and targets.\n",
        "    This implementation does it manually to show the underlying operations.\n",
        "\n",
        "    Args:\n",
        "        predictions (torch.Tensor): The output from the MAE decoder.\n",
        "                                    Shape: (N, C, H, W)\n",
        "        targets (torch.Tensor): The original, unmasked images.\n",
        "                                Shape: (N, C, H, W)\n",
        "    Returns:\n",
        "        torch.Tensor: The reconstruction loss value (a scalar).\n",
        "    \"\"\"\n",
        "    # --- TODO 1: YOUR CODE HERE --- #\n",
        "    # Calculate the squared difference between each pixel\n",
        "\n",
        "    # Calculate the mean of all the squared differences.\n",
        "    # The .mean() operation on the entire tensor computes the average\n",
        "    # over all dimensions (N, C, H, W), resulting in a single scalar value.\n",
        "\n",
        "    return loss\n",
        "    # --- END YOUR CODE --- #"
      ]
    },
    {
      "cell_type": "markdown",
      "metadata": {
        "id": "Xfs-7_vkz429"
      },
      "source": [
        "### Part 3.2: Masking Images for the MAE\n",
        "\n",
        "This is the core mechanic of an MAE. We need a function that takes a batch of images and randomly masks a high percentage of their patches. In the original MAE paper, they use a 75% mask ratio.\n",
        "\n",
        "The process is:\n",
        "1.  Divide the image into a grid of non-overlapping patches.\n",
        "2.  Randomly select a certain percentage of these patches to mask.\n",
        "3.  Return the visible patches, the masked patches, and the indices that allow us to put them back together."
      ]
    },
    {
      "cell_type": "code",
      "execution_count": null,
      "metadata": {
        "id": "ikMHHaCRQPf2"
      },
      "outputs": [],
      "source": [
        "#@title Hint 1 { display-mode: \"form\" }\n",
        "\n",
        "# The task is to calculate the number of visible (unmasked) patches\n",
        "# given a total number of patches and a mask ratio.\n",
        "\n",
        "# 'L' represents the total number of patches from an image.\n",
        "# 'mask_ratio' is the fraction of patches to be removed or hidden.\n",
        "# The result 'len_keep' is the number of patches that will remain visible.\n",
        "\n",
        "# Step 1: Solution\n",
        "#   len_keep = int(L * (1 - mask_ratio))\n",
        "\n",
        "\n",
        "# Let's assume an image is split into a sequence of patches.\n",
        "# For a 224x224 image with 16x16 patches, L = (224/16) * (224/16) = 14 * 14 = 196.\n",
        "L = 196  # Total number of patches\n",
        "mask_ratio = 0.75  # We want to mask 75% of the patches\n",
        "\n",
        "# --- Your implementation here ---\n",
        "# Calculate the number of patches to keep (unmasked)\n",
        "len_keep = int(L * (1 - mask_ratio))\n",
        "# --- End of implementation ---\n",
        "\n",
        "print(f\"Total number of patches (L): {L}\")\n",
        "print(f\"Mask ratio: {mask_ratio}\")\n",
        "print(f\"Calculated number of visible patches (len_keep): {len_keep}\")\n",
        "\n",
        "# Verification\n",
        "expected_len_keep = int(196 * (1 - 0.75))\n",
        "assert len_keep == expected_len_keep, f\"Calculation is incorrect. Expected {expected_len_keep}.\"\n",
        "print(\"\\nSuccess! Your implementation is correct.\")"
      ]
    },
    {
      "cell_type": "code",
      "execution_count": null,
      "metadata": {
        "id": "9CKj2dhyXQqV"
      },
      "outputs": [],
      "source": [
        "#@title Hint 2 { display-mode: \"form\" }\n",
        "\n",
        "# The task is to select a subset of items (visible patches) from a sequence\n",
        "# and create a corresponding binary mask.\n",
        "\n",
        "# Step 1: Gather visible patches\n",
        "#   We use torch.gather to select patches from the input tensor 'x'\n",
        "#   based on the indices 'ids_keep'. The index tensor must be expanded\n",
        "#   to match the dimensions of 'x'.\n",
        "#   x_visible = torch.gather(x, dim=1, index=ids_keep.unsqueeze(-1).repeat(1, 1, D))\n",
        "\n",
        "# Step 2: Generate the binary mask\n",
        "#   Create a tensor of all ones, with the same batch size (N) and\n",
        "#   sequence length (L) as the original input.\n",
        "#   mask = torch.ones([N, L], device=x.device)\n",
        "\n",
        "# Step 3: Mark visible patches in the mask\n",
        "#   Use .scatter_ to place zeros at the locations of the visible patches.\n",
        "#   This modifies the mask in-place. The result is a mask where\n",
        "#   0 indicates a visible patch and 1 indicates a masked patch.\n",
        "#   mask.scatter_(dim=1, index=ids_keep, value=0)\n",
        "\n",
        "# Example\n",
        "\n",
        "# N = Batch Size, L = Sequence Length (total patches), D = Dimension per patch\n",
        "N, L, D = 2, 10, 8\n",
        "# Number of patches to keep visible\n",
        "len_keep = 4\n",
        "\n",
        "# Create a dummy input tensor (e.g., flattened image patches)\n",
        "x = torch.randn(N, L, D)\n",
        "\n",
        "# Generate random indices for the patches to keep (visible patches)\n",
        "# In a real scenario, these would be the result of a shuffling operation.\n",
        "noise = torch.rand(N, L)  # Noise to shuffle\n",
        "ids_shuffle = torch.argsort(noise, dim=1)  # Sort noise to get shuffled indices\n",
        "ids_keep = ids_shuffle[:, :len_keep]  # Keep the first 'len_keep' indices\n",
        "\n",
        "# Gather the visible patches using the selected indices\n",
        "# We need to expand ids_keep to match the dimensions of x for gathering\n",
        "index_for_gather = ids_keep.unsqueeze(-1).repeat(1, 1, D)\n",
        "x_visible = torch.gather(x, dim=1, index=index_for_gather)\n",
        "\n",
        "# Generate the binary mask (0 for visible, 1 for masked)\n",
        "mask = torch.ones([N, L], device=x.device)\n",
        "# Use scatter_ to place 0s at the locations of the visible patches\n",
        "mask.scatter_(dim=1, index=ids_keep, value=0)\n",
        "\n",
        "\n",
        "print(\"--- Inputs ---\")\n",
        "print(f\"Original sequence shape: {x.shape}\")\n",
        "print(f\"Indices to keep (ids_keep):\\n{ids_keep}\")\n",
        "\n",
        "print(\"\\n--- Outputs ---\")\n",
        "print(f\"Visible patches shape: {x_visible.shape}\")\n",
        "print(f\"Binary mask (0=visible, 1=masked):\\n{mask}\")\n",
        "\n",
        "\n",
        "# Verification\n",
        "assert x_visible.shape == (N, len_keep, D), \"Shape of x_visible is incorrect.\"\n",
        "assert mask.shape == (N, L), \"Shape of mask is incorrect.\"\n",
        "# Verify that the number of visible patches (zeros) in the mask is correct\n",
        "assert torch.sum(mask == 0).item() == N * len_keep, \"Mask does not have the correct number of visible patches.\"\n",
        "print(\"\\nSuccess! Your implementation is correct.\")"
      ]
    },
    {
      "cell_type": "code",
      "execution_count": null,
      "metadata": {
        "id": "epioTw7cP4b1"
      },
      "outputs": [],
      "source": [
        "def random_masking(x, mask_ratio=0.75):\n",
        "    \"\"\"\n",
        "    Takes a batch of flattened patches and randomly masks them.\n",
        "    Args:\n",
        "        x (torch.Tensor): Input tensor of shape (N, L, D) where N is batch size,\n",
        "                          L is sequence length (num patches), D is patch dimension.\n",
        "        mask_ratio (float): The ratio of patches to mask.\n",
        "    Returns:\n",
        "        tuple: A tuple containing:\n",
        "            - x_visible (torch.Tensor): The visible (unmasked) patches.\n",
        "            - mask (torch.Tensor): A binary mask indicating which patches were kept.\n",
        "            - ids_restore (torch.Tensor): Indices to restore the original order.\n",
        "    \"\"\"\n",
        "    N, L, D = x.shape\n",
        "\n",
        "    # --- TODO 1: YOUR CODE HERE --- #\n",
        "    # Calculate the number of visible (unmasked) patches via the mask_ratio\n",
        "\n",
        "\n",
        "    # --- END YOUR CODE HERE --- #\n",
        "\n",
        "    # Analogy: For each image in our batch, we shuffle a deck of cards (our patches).\n",
        "    # `torch.rand` creates random floats, `torch.argsort` gives us the indices that would\n",
        "    # sort them, which is a random permutation.\n",
        "\n",
        "    noise = torch.rand(N, L, device=x.device)  # A random value for each patch\n",
        "    ids_shuffle = torch.argsort(noise, dim=1)  # The shuffled indices\n",
        "\n",
        "    # This is needed to put the patches back in their original positions later\n",
        "    ids_restore = torch.argsort(ids_shuffle, dim=1)\n",
        "\n",
        "    # Keep the first `len_keep` indices. These are our visible patches.\n",
        "    ids_keep = ids_shuffle[:, :len_keep]\n",
        "\n",
        "    # --- TODO 2: YOUR CODE HERE --- #\n",
        "\n",
        "    # Gather the visible patches using the selected indices\n",
        "\n",
        "\n",
        "    # Generate the binary mask for visualization and loss calculation\n",
        "    # 0 for visible patches, 1 for masked patches\n",
        "\n",
        "\n",
        "    # Put zeros for visible patches at the locations defined by ids_keep using\n",
        "    # the .scatter_ function\n",
        "\n",
        "\n",
        "    # --- END YOUR CODE HER --- #\n",
        "    return x_visible, mask, ids_restore\n",
        "\n",
        "# Helper function to visualize the masking process\n",
        "def visualize_masking(patch_size=4, mask_ratio=0.75):\n",
        "    images, _ = next(iter(test_loader))\n",
        "    images = images.to(device)\n",
        "\n",
        "    # For visualization, let's take just one image\n",
        "    img = images[0].unsqueeze(0)\n",
        "\n",
        "    # 1. Patchify the image\n",
        "    patches = img.unfold(2, patch_size, patch_size).unfold(3, patch_size, patch_size)\n",
        "    patches = patches.permute(0, 2, 3, 1, 4, 5).reshape(img.shape[0], -1, 3 * patch_size * patch_size)\n",
        "\n",
        "    # 2. Perform masking\n",
        "    _, mask, _ = random_masking(patches, mask_ratio=mask_ratio)\n",
        "    mask = mask.detach().cpu().reshape(-1, img.shape[2]//patch_size, img.shape[3]//patch_size)\n",
        "\n",
        "    # 3. Create the masked image for visualization\n",
        "    masked_img = img.clone().cpu()\n",
        "    for i in range(mask.shape[1]):\n",
        "        for j in range(mask.shape[2]):\n",
        "            if mask[0, i, j] == 1: # If the patch is masked\n",
        "                masked_img[0, :, i*patch_size:(i+1)*patch_size, j*patch_size:(j+1)*patch_size] = 0\n",
        "\n",
        "    imshow(torchvision.utils.make_grid([images.cpu()[0], masked_img[0]]), title=\"Original vs. Masked\")\n",
        "\n",
        "print(\"Visualizing the masking process (75% of patches are blacked out):\")\n",
        "visualize_masking(patch_size=4, mask_ratio=0.75)"
      ]
    },
    {
      "cell_type": "markdown",
      "metadata": {
        "id": "_GTLhQYwq-mE"
      },
      "source": [
        "### Part 3.3 The MAE Model Architecture\n",
        "\n",
        "Now we define the model itself. It consists of three main parts:\n",
        "\n",
        "1.  **Patch + Positional Embedding:** This layer converts an image into a sequence of flattened patch embeddings. We also add positional embeddings to give the model information about where each patch is located in the original image.\n",
        "2.  **ViT Encoder:** A standard Vision Transformer encoder. It processes the sequence of *visible* patches and outputs their learned representations.\n",
        "3.  **ViT Decoder:** A lightweight Transformer decoder. It takes the encoded visible patches plus the mask tokens and reconstructs the full image.\n",
        "\n",
        "You have already seen the EncoderBlock and implemented parts of it. We will create a replica of that here for the DecoderBlock as well. Your next task will be to integrate these blocks within the main `MaskedAutoencoderViT` class."
      ]
    },
    {
      "cell_type": "code",
      "execution_count": null,
      "metadata": {
        "id": "iNrii0FuZJAN"
      },
      "outputs": [],
      "source": [
        "# This block is the same as the encoder block but we call it DecoderBlock here for readability\n",
        "DecoderBlock = EncoderBlock"
      ]
    },
    {
      "cell_type": "code",
      "execution_count": null,
      "metadata": {
        "id": "yG5carEkcu9e"
      },
      "outputs": [],
      "source": [
        "#@title Hint 1 { display-mode: \"form\" }\n",
        "\n",
        "# The task is to append learnable mask tokens to a sequence of visible patch embeddings.\n",
        "# This step reconstructs a full-length sequence to be fed into an encoder, like a Transformer,\n",
        "# after the original input has had some of its patches removed.\n",
        "\n",
        "# Step 1: Create the mask tokens tensor.\n",
        "#   The mask_token is a learnable parameter, a single vector that will represent\n",
        "#   all masked-out patches. We repeat it to match the batch size and the number of\n",
        "#   masked patches.\n",
        "#   num_masked = self.num_patches - x_visible.shape[1]\n",
        "#   mask_tokens = self.mask_token.repeat(x_visible.shape[0], num_masked, 1)\n",
        "\n",
        "# Step 2: Concatenate visible patches and mask tokens.\n",
        "#   Combine the sequence of visible patch embeddings with the newly created\n",
        "#   mask tokens along the sequence dimension (dim=1).\n",
        "#   x_ = torch.cat([x_visible, mask_tokens], dim=1)\n",
        "\n",
        "# Example\n",
        "\n",
        "# --- Setup ---\n",
        "# N = Batch Size, L = Total Sequence Length (total patches), D = Dimension per patch\n",
        "N, L, D = 2, 16, 8\n",
        "# Number of patches that are visible\n",
        "len_keep = 4\n",
        "\n",
        "# Simulate the visible patch embeddings (output from a previous step)\n",
        "x_visible = torch.randn(N, len_keep, D)\n",
        "\n",
        "# In a real model, mask_token is a learnable parameter.\n",
        "# We'll simulate it here. It has a shape of (1, 1, D).\n",
        "mask_token = torch.nn.Parameter(torch.zeros(1, 1, D))\n",
        "# In a real scenario, this would be part of your model, e.g., self.mask_token.\n",
        "\n",
        "# --- Your implementation here ---\n",
        "\n",
        "# 1. Calculate the number of patches that were masked.\n",
        "# The total number of patches is L. The number of visible patches is the\n",
        "# length of the sequence dimension of x_visible.\n",
        "num_masked = L - x_visible.shape[1]\n",
        "\n",
        "# Create the tensor of mask tokens by repeating the learnable mask_token.\n",
        "# It should match the batch size (N) and the number of masked patches.\n",
        "mask_tokens = mask_token.repeat(N, num_masked, 1)\n",
        "\n",
        "# 2. Concatenate the visible patch embeddings and the mask tokens.\n",
        "x_ = torch.cat([x_visible, mask_tokens], dim=1)\n",
        "\n",
        "# --- End of implementation ---\n",
        "\n",
        "\n",
        "print(\"--- Inputs ---\")\n",
        "print(f\"Visible patches shape: {x_visible.shape}\")\n",
        "print(f\"Learnable mask_token shape: {mask_token.shape}\")\n",
        "print(f\"Number of total patches (L): {L}\")\n",
        "print(f\"Number of visible patches: {len_keep}\")\n",
        "print(f\"Number of masked patches: {num_masked}\")\n",
        "\n",
        "print(\"\\n--- Outputs ---\")\n",
        "print(f\"Repeated mask_tokens shape: {mask_tokens.shape}\")\n",
        "print(f\"Final concatenated sequence shape: {x_.shape}\")\n",
        "\n",
        "\n",
        "# Verification\n",
        "# The final sequence should have the original total length L.\n",
        "assert x_.shape == (N, L, D), \"The final tensor shape is incorrect.\"\n",
        "# The first part of the sequence should be the visible patches.\n",
        "assert torch.all(x_[:, :len_keep, :] == x_visible), \"The visible patches were not concatenated correctly.\"\n",
        "# The second part should be the mask tokens.\n",
        "assert torch.all(x_[:, len_keep:, :] == mask_token), \"The mask tokens were not concatenated correctly.\"\n",
        "\n",
        "print(\"\\nSuccess! Your implementation is correct.\")"
      ]
    },
    {
      "cell_type": "code",
      "execution_count": null,
      "metadata": {
        "id": "QPpZamwgdN9s"
      },
      "outputs": [],
      "source": [
        "#@title Hint 2 { display-mode: \"form\" }\n",
        "\n",
        "# Step 1: Patchify the input images.\n",
        "#   Convert the batch of images into a sequence of flattened patches with positional embeddings.\n",
        "#   patches = self.patch_embed(imgs)\n",
        "\n",
        "# Step 2: Run the encoder.\n",
        "#   Randomly mask a large portion of the patches and feed only the\n",
        "#   visible patches through the encoder.\n",
        "#   x_visible, mask, ids_restore = self.forward_encoder(patches, self.mask_ratio)\n",
        "\n",
        "# Step 3: Run the decoder.\n",
        "#   Append learnable mask tokens to the encoded visible patches,\n",
        "#   restore the original sequence order, and run through the decoder\n",
        "#   to predict the pixel values for the full image.\n",
        "#   pred = self.forward_decoder(x_visible, ids_restore)\n",
        "\n",
        "# Step 4: Unpatchify the prediction.\n",
        "#   Reshape the sequence of predicted patches back into an image format.\n",
        "#   recon_imgs = self._unpatchify(pred)\n",
        "\n",
        "# Example\n",
        "\n",
        "\n",
        "# --- Full MAE Model ---\n",
        "class MaskedAutoencoderViTExample(nn.Module):\n",
        "    \"\"\"A simplified Masked Autoencoder with a Vision Transformer backbone.\"\"\"\n",
        "    def __init__(self, img_size=32, patch_size=4, in_chans=3,\n",
        "                 embed_dim=64, encoder_depth=8, decoder_depth=2,\n",
        "                 mlp_ratio=2.0, mask_ratio=0.75):\n",
        "        super().__init__()\n",
        "        self.patch_size = patch_size\n",
        "        self.mask_ratio = mask_ratio\n",
        "        self.num_patches = (img_size // patch_size) ** 2\n",
        "        patch_dim = in_chans * patch_size ** 2\n",
        "\n",
        "        self.patch_embed = PatchAndEmbed(img_size, patch_size, in_chans, embed_dim)\n",
        "        self.encoder_blocks = nn.ModuleList([EncoderBlock(embed_dim, mlp_ratio) for _ in range(encoder_depth)])\n",
        "        self.encoder_norm = nn.LayerNorm(embed_dim)\n",
        "\n",
        "        self.mask_token = nn.Parameter(torch.zeros(1, 1, embed_dim))\n",
        "        self.decoder_embed = nn.Linear(embed_dim, embed_dim)\n",
        "        self.decoder_pos_embed = nn.Parameter(torch.zeros(1, self.num_patches, embed_dim))\n",
        "        self.decoder_blocks = nn.ModuleList([DecoderBlock(embed_dim, mlp_ratio) for _ in range(decoder_depth)])\n",
        "        self.decoder_norm = nn.LayerNorm(embed_dim)\n",
        "\n",
        "        self.decoder_pred = nn.Linear(embed_dim, patch_dim)\n",
        "\n",
        "    def _unpatchify(self, x):\n",
        "        p = self.patch_size\n",
        "        h = w = int(self.num_patches**0.5)\n",
        "        C = x.shape[-1] // (p * p)\n",
        "        x = x.reshape(x.shape[0], h, w, C, p, p)\n",
        "        x = x.permute(0, 3, 1, 4, 2, 5).reshape(x.shape[0], C, h * p, w * p)\n",
        "        return x\n",
        "\n",
        "    def forward_encoder(self, x, mask_ratio):\n",
        "        x_visible, mask, ids_restore = random_masking(x, mask_ratio)\n",
        "        for blk in self.encoder_blocks:\n",
        "            x_visible = blk(x_visible)\n",
        "        x_visible = self.encoder_norm(x_visible)\n",
        "        return x_visible, mask, ids_restore\n",
        "\n",
        "    def forward_decoder(self, x_visible, ids_restore):\n",
        "        x_visible = self.decoder_embed(x_visible)\n",
        "        num_masked = self.num_patches - x_visible.shape[1]\n",
        "        mask_tokens = self.mask_token.repeat(x_visible.shape[0], num_masked, 1)\n",
        "        x_ = torch.cat([x_visible, mask_tokens], dim=1)\n",
        "        x = torch.gather(x_, dim=1, index=ids_restore.unsqueeze(-1).repeat(1, 1, x_.shape[2]))\n",
        "        x = x + self.decoder_pos_embed\n",
        "        for blk in self.decoder_blocks:\n",
        "            x = blk(x)\n",
        "        x = self.decoder_norm(x)\n",
        "        x = self.decoder_pred(x)\n",
        "        return x\n",
        "\n",
        "    def forward(self, imgs):\n",
        "        # 1. Patchify the input images.\n",
        "        patches = self.patch_embed(imgs)\n",
        "\n",
        "        # 2. Run the encoder.\n",
        "        x_visible, mask, ids_restore = self.forward_encoder(patches, self.mask_ratio)\n",
        "\n",
        "        # 3. Run the decoder.\n",
        "        pred_patches = self.forward_decoder(x_visible, ids_restore)\n",
        "\n",
        "        # 4. Unpatchify the prediction to get the reconstructed image.\n",
        "        recon_imgs = self._unpatchify(pred_patches)\n",
        "\n",
        "        # We also need the original images for the loss function, but here we just show the flow.\n",
        "        return recon_imgs, mask\n",
        "\n",
        "# --- Setup and Run ---\n",
        "model = MaskedAutoencoderViTExample()\n",
        "N, C, H, W = 2, 3, 32, 32\n",
        "imgs = torch.randn(N, C, H, W)\n",
        "\n",
        "recon_imgs, mask = model(imgs)\n",
        "\n",
        "# --- Final Shapes ---\n",
        "print(f\"Original images shape:    {imgs.shape}\")\n",
        "print(f\"Reconstructed images shape: {recon_imgs.shape}\")\n",
        "print(f\"Mask shape:               {mask.shape}\")\n",
        "print(f\"\\nExample mask for first image (0=visible, 1=masked):\\n{mask[0].reshape(8, 8).int()}\")\n",
        "\n",
        "assert recon_imgs.shape == imgs.shape, \"Shape of reconstructed image is incorrect.\"\n",
        "print(\"\\nSuccess! The forward pass flow is correct.\")"
      ]
    },
    {
      "cell_type": "code",
      "execution_count": null,
      "metadata": {
        "id": "RWe-zcT0ZdyR"
      },
      "outputs": [],
      "source": [
        "class MaskedAutoencoderViT(nn.Module):\n",
        "    \"\"\"A simplified Masked Autoencoder with a Vision Transformer backbone.\"\"\"\n",
        "    def __init__(self, img_size=32, patch_size=4, in_chans=3,\n",
        "                 embed_dim=64, encoder_depth=8, decoder_depth=2,\n",
        "                 mlp_ratio=2.0, mask_ratio=0.75):\n",
        "        super().__init__()\n",
        "        self.patch_size = patch_size\n",
        "        self.mask_ratio = mask_ratio\n",
        "        self.num_patches = (img_size // patch_size) ** 2\n",
        "        patch_dim = in_chans * patch_size ** 2\n",
        "\n",
        "        # --- Patch + Positional Embeddings ---\n",
        "        self.patch_embed = PatchAndEmbed(img_size, patch_size, in_chans, embed_dim)\n",
        "\n",
        "        # --- Encoder ---\n",
        "        self.encoder_blocks = nn.ModuleList([\n",
        "            EncoderBlock(embed_dim, mlp_ratio) for _ in range(encoder_depth)\n",
        "        ])\n",
        "        self.encoder_norm = nn.LayerNorm(embed_dim)\n",
        "\n",
        "        # --- Decoder ---\n",
        "        self.mask_token = nn.Parameter(torch.zeros(1, 1, embed_dim))\n",
        "        self.decoder_embed = nn.Linear(embed_dim, embed_dim)\n",
        "        self.decoder_pos_embed = nn.Parameter(torch.zeros(1, self.num_patches, embed_dim))\n",
        "\n",
        "        self.decoder_blocks = nn.ModuleList([\n",
        "            DecoderBlock(embed_dim, mlp_ratio) for _ in range(decoder_depth)\n",
        "        ])\n",
        "        self.decoder_norm = nn.LayerNorm(embed_dim)\n",
        "\n",
        "        # --- Final Projection Head ---\n",
        "        self.decoder_pred = nn.Linear(embed_dim, patch_dim)\n",
        "\n",
        "    def _patchify(self, imgs):\n",
        "        p = self.patch_size\n",
        "        # (N, C, H, W) -> (N, L, C*P*P)\n",
        "        x = imgs.unfold(2, p, p).unfold(3, p, p)\n",
        "        x = x.permute(0, 2, 3, 1, 4, 5).reshape(imgs.shape[0], -1, 3 * p * p)\n",
        "        return x\n",
        "\n",
        "    def _unpatchify(self, x):\n",
        "        p = self.patch_size\n",
        "        h = w = int(self.num_patches**0.5)\n",
        "        # (N, L, C*P*P) -> (N, C, H, W)\n",
        "        x = x.reshape(x.shape[0], h, w, 3, p, p)\n",
        "        x = x.permute(0, 3, 1, 4, 2, 5).reshape(x.shape[0], 3, h * p, w * p)\n",
        "        return x\n",
        "\n",
        "    def forward_encoder(self, x, mask_ratio):\n",
        "\n",
        "        # Masking\n",
        "        x_visible, mask, ids_restore = random_masking(x, mask_ratio)\n",
        "\n",
        "        # Run through encoder blocks\n",
        "        for blk in self.encoder_blocks:\n",
        "            x_visible = blk(x_visible)\n",
        "        x_visible = self.encoder_norm(x_visible)\n",
        "\n",
        "        return x_visible, mask, ids_restore\n",
        "\n",
        "    def forward_decoder(self, x_visible, ids_restore):\n",
        "        x_visible = self.decoder_embed(x_visible)\n",
        "\n",
        "        # --- TODO 1: YOUR CODE HERE --- #\n",
        "        # 1. Create the mask tokens tensor by repeating the learnable `mask_token`.\n",
        "        # The number of mask tokens needed is `num_patches - num_visible_patches`.\n",
        "\n",
        "\n",
        "\n",
        "        # 2. Concatenate the visible patch embeddings and the mask tokens together.\n",
        "\n",
        "\n",
        "       # --- END YOUR CODE --- #\n",
        "\n",
        "        # 3. Use `ids_restore` to unshuffle the sequence back to its original patch order.\n",
        "        x = torch.gather(x_, dim=1, index=ids_restore.unsqueeze(-1).repeat(1, 1, x_.shape[2]))\n",
        "\n",
        "        # Add decoder positional embeddings\n",
        "        x = x + self.decoder_pos_embed\n",
        "\n",
        "        # Run through decoder blocks\n",
        "        for blk in self.decoder_blocks:\n",
        "            x = blk(x)\n",
        "        x = self.decoder_norm(x)\n",
        "\n",
        "        # Final prediction head\n",
        "        x = self.decoder_pred(x)\n",
        "        return x\n",
        "\n",
        "    def forward(self, imgs):\n",
        "        # --- TODO 2: YOUR CODE HERE --- #\n",
        "        # 1. Patchify the input images.\n",
        "\n",
        "\n",
        "        # 2. Run the encoder.\n",
        "\n",
        "\n",
        "        # 3. Run the decoder.\n",
        "\n",
        "\n",
        "        # 4. Unpatchify the prediction to get the reconstructed image.\n",
        "\n",
        "\n",
        "        # --- END YOUR CODE --- #\n",
        "\n",
        "        # We also need the original images for the loss function.\n",
        "        return recon_imgs, imgs\n"
      ]
    },
    {
      "cell_type": "markdown",
      "metadata": {
        "id": "z7WHA6KwdpTc"
      },
      "source": [
        "## Part 3.4: Visualize the Reconstructed Output (Before Training)\n",
        "\n",
        "Let's see what our randomly initialized model produces. We'll pass a batch of images through it and visualize the output. Since the model hasn't learned anything, the reconstruction will look like random noise. This provides a good baseline to see how much the model improves with training."
      ]
    },
    {
      "cell_type": "code",
      "execution_count": null,
      "metadata": {
        "id": "XFgULL3Zd4OL"
      },
      "outputs": [],
      "source": [
        "def show_reconstruction(model, test_loader, device):\n",
        "    model.eval() # Set model to evaluation mode\n",
        "    images, _ = next(iter(test_loader))\n",
        "    images = images.to(device)\n",
        "\n",
        "    with torch.no_grad():\n",
        "        recon_imgs, orig_imgs = model(images)\n",
        "\n",
        "    # Create masked image for visualization\n",
        "    # This requires running parts of the model again to get the mask\n",
        "    patches = model._patchify(images)\n",
        "    _, mask, _ = random_masking(patches, model.mask_ratio)\n",
        "    mask = mask.detach().reshape(-1, model.num_patches)\n",
        "\n",
        "    # Recreate the masked images\n",
        "    masked_patches = patches.clone()\n",
        "    for i in range(masked_patches.shape[0]):\n",
        "        masked_patches[i, mask[i]==1, :] = 0 # Black out masked patches\n",
        "    masked_imgs = model._unpatchify(masked_patches)\n",
        "\n",
        "    # Move to CPU and create grids for display\n",
        "    orig_grid = torchvision.utils.make_grid(orig_imgs.cpu())\n",
        "    masked_grid = torchvision.utils.make_grid(masked_imgs.cpu())\n",
        "    recon_grid = torchvision.utils.make_grid(recon_imgs.cpu())\n",
        "\n",
        "    plt.figure(figsize=(8,8))\n",
        "    imshow(orig_grid, title='Original Images')\n",
        "    plt.figure(figsize=(8,8))\n",
        "    imshow(masked_grid, title='Masked Images')\n",
        "    plt.figure(figsize=(8,8))\n",
        "    imshow(recon_grid, title='Reconstructed Images')\n",
        "    model.train() # Set model back to training mode\n",
        "\n",
        "# Instantiate the model\n",
        "model_mae = MaskedAutoencoderViT(\n",
        "    img_size=32,\n",
        "    patch_size=4,\n",
        "    embed_dim=64,\n",
        "    encoder_depth=4,\n",
        "    decoder_depth=1,\n",
        "    mlp_ratio=2.0,\n",
        "    mask_ratio=0.75\n",
        ").to(device)\n",
        "\n",
        "print(\"Model architecture:\", model_mae)\n",
        "print(\"\\nVisualizing initial random reconstruction:\")\n",
        "show_reconstruction(model_mae, test_loader, device)"
      ]
    },
    {
      "cell_type": "markdown",
      "metadata": {
        "id": "9D7QfbzveJYl"
      },
      "source": [
        "### Part 3.5: Running a training loop and visualizing reconstructions!\n",
        "\n",
        "Now that we have all the pieces, we can train a simple ViT based MAE. After training, the model learns to reconstruct images better and better. At convergence, the encoder will have learned to represent images in a latent embedding vector that is useful for image reconstruction via a shallow decoder. By doing this, this embedding can then be used for other tasks just like from supervised training."
      ]
    },
    {
      "cell_type": "code",
      "execution_count": null,
      "metadata": {
        "id": "g0TrYaZsetpL"
      },
      "outputs": [],
      "source": [
        "# Training Configuration\n",
        "epochs = 4 # Increase this for better results\n",
        "lr = 1.5e-4\n",
        "wd=0.05\n",
        "\n",
        "optimizer = torch.optim.AdamW(model_mae.parameters(), lr=lr, weight_decay=0.05)\n",
        "\n",
        "print(\"Starting training...\")\n",
        "model_mae.train()\n",
        "\n",
        "for epoch in range(epochs):\n",
        "    total_loss = 0\n",
        "    pbar = tqdm(train_loader, desc=f\"Epoch {epoch+1}/{epochs}\")\n",
        "    for imgs, _ in pbar:\n",
        "        imgs = imgs.to(device)\n",
        "\n",
        "        # Forward pass\n",
        "        recon_imgs, orig_imgs = model_mae(imgs)\n",
        "        loss = reconstruction_loss(recon_imgs, orig_imgs)\n",
        "\n",
        "        # Backward pass and optimization\n",
        "        optimizer.zero_grad()\n",
        "        loss.backward()\n",
        "        optimizer.step()\n",
        "\n",
        "        total_loss += loss.item()\n",
        "        pbar.set_postfix({'loss': loss.item()})\n",
        "\n",
        "    avg_loss = total_loss / len(train_loader)\n",
        "    print(f\"Epoch {epoch+1}/{epochs} - Average Loss: {avg_loss:.4f}\")\n",
        "\n",
        "    # Visualize progress every 5 epochs\n",
        "    if (epoch + 1) % 1 == 0:\n",
        "        print(f\"\\n--- Visualizing reconstruction after epoch {epoch+1} ---\")\n",
        "        show_reconstruction(model_mae, test_loader, device)\n",
        "        print(\"--------------------------------------------------\\n\")\n",
        "\n",
        "print(\"Training finished!\")"
      ]
    },
    {
      "cell_type": "markdown",
      "source": [
        "### Part 3.6 Using a Pre-trained MAE representation for tasks!\n",
        "\n",
        "Previously we trained our CIFAR-10 ViT classifier from scratch. In 1 epoch we achieved 35% accuracy. What if we initialized our vision encoder from the encoder within the MAE we just trained? We can see that this encoder must have learned about the general structure of images and *encoded* that in it's 64 dimensional embedding. Now we'll see how well our classifier does if we train it for 1 epoch but with the encoder initialized with this pre-trained encoder.\n",
        "\n",
        "We will first create a class to wrap a pretrained patch embedding and encoder with a classifier head. We then initialize the patch_embedding, and encoder blocks to those that we just trained with the MAE."
      ],
      "metadata": {
        "id": "He_J_BG2irSf"
      }
    },
    {
      "cell_type": "code",
      "source": [
        "class ClassifyWithMAE(nn.Module):\n",
        "    def __init__(self, patch_layer, encoder, embed_dim=64, num_classes = 10):\n",
        "        super().__init__()\n",
        "        self.patch_and_embed = patch_layer\n",
        "        self.encoder = encoder\n",
        "\n",
        "        # Classification Head\n",
        "        self.norm = nn.LayerNorm(embed_dim)\n",
        "        self.head = nn.Linear(embed_dim, num_classes)\n",
        "\n",
        "    def forward(self, x):\n",
        "        x = self.patch_and_embed(x)\n",
        "        for blk in self.encoder:\n",
        "          x = blk(x)\n",
        "        # After the final block, the sequence is normalised\n",
        "        x = self.norm(x)\n",
        "\n",
        "        x = x.mean(dim=1)\n",
        "        logits = self.head(x)\n",
        "\n",
        "        return logits\n",
        "\n",
        "model_mae_cls = ClassifyWithMAE(model_mae.patch_embed, model_mae.encoder_blocks, embed_dim=64, num_classes=10)\n",
        "model_mae_cls.to(device)\n"
      ],
      "metadata": {
        "id": "9QuTqtgofRYs"
      },
      "execution_count": null,
      "outputs": []
    },
    {
      "cell_type": "code",
      "source": [
        "criterion = nn.CrossEntropyLoss()\n",
        "optimizer = torch.optim.AdamW(model_mae_cls.parameters(), lr=1.5e-4)\n",
        "epochs=1\n",
        "print(\"\\nStarting training for one epoch...\")\n",
        "epoch = 0\n",
        "for epoch in range(epochs):\n",
        "  avg_loss, accuracy = train_one_epoch(model_mae_cls, train_loader, criterion, optimizer, device, epoch)\n",
        "  print(f\"\\n--- End of Epoch ---\")\n",
        "  print(f\"Average Training Loss: {avg_loss:.4f}\")\n",
        "  print(f\"Training Accuracy: {accuracy:.2f}%\")"
      ],
      "metadata": {
        "id": "xUSpuFy4g_l1"
      },
      "execution_count": null,
      "outputs": []
    },
    {
      "cell_type": "markdown",
      "source": [
        "In the supevised training of the same ViT architecture from scratch that we did earlier: [Supervised Training](#scrollTo=E3MxL7AWaVtK&line=52&uniqifier=1), we saw that in 1 epoch we achieved a training accuracy of approximately 34%. Now by initializing the encoder from the MAE we get a 4% boost! This shows that pretraining (even with a self-supervised task unrelated to classification) can improve the efficiency of learning during task adaptation!"
      ],
      "metadata": {
        "id": "Z1mBR-O9oRXv"
      }
    },
    {
      "cell_type": "markdown",
      "metadata": {
        "id": "GJiyM1KvcBO7"
      },
      "source": [
        "### Part 4 (Take-home task): Contrastive Language-Image Pre-training (CLIP)\n",
        "\n",
        "CLIP aims to learn visual concepts through large-scale image-text pairs, widely available on the web. It operates by training a text encoder and image encoder to match captions with corresponding images.\n",
        "\n",
        "Specifically, given a batch of image-text pairs, CLIP computes the dense cosine similarity matrix between all possible (image, text) candidates within this batch. The core idea is to **maximize the similarity between the correct pairs** (shown in blue in the figure below) and **minimize the similarity for incorrect pairs** (shown in grey in the image). To do it, they optimize a symmetric cross-entropy loss over these similarity scores.\n",
        "\n",
        "<center>\n",
        "<img src=\"https://images.openai.com/blob/fbc4f633-9ad4-4dc2-bd94-0b6f1feee22f/overview-a.svg\">\n",
        "</center>\n",
        "\n",
        "Note that the Image Encoder and Text Encoder work together to project both images and text into a single, **multi-modal embedding space** where they can be compared.\n",
        "\n",
        "CLIP's ability to connect language and vision unlocks a wide range of powerful applications:\n",
        "\n",
        "- **Image and Text Similarity Search**: Find images that best match a text query or find text that best describes an image.\n",
        "\n",
        "- **Vision-Language Modelling**: The trained CLIP Vision Encoder can be used to embed images and train LLMs on image-text data for applications such as visual question answering and image captioning (more details on this in tomorrow's lecture on VLMs).\n",
        "\n",
        "To get hands-on with CLIP, you can work through the exercise from last year's [tutorial](https://colab.sandbox.google.com/github/eemlcommunity/PracticalSessions2024/blob/main/3_vision_language_models/VLM_tutorial.ipynb#scrollTo=Lugc4X-2Ls9g).\n",
        "\n"
      ]
    },
    {
      "cell_type": "markdown",
      "metadata": {
        "id": "T02yjuJ1apHb"
      },
      "source": [
        "### Part IV: Conclusion\n",
        "\n",
        "Congratulations on completing this deep dive into training Vision Transformer encoders! 🥳 We covered:\n",
        "\n",
        "- **Fully Supervised Learning**: We began with the classic approach, teaching models to map images to explicit, human-provided labels.\n",
        "\n",
        "- **Self-Supervised Learning (SSL)**: We then explored the clever world of Masked Autoencoders (MAE), where models learn rich features by solving the \"puzzle\" of reconstructing parts of an image.\n",
        "\n",
        "- **Contrastive Learning**: Finally, we saw how models like CLIP can align vision and language in a shared semantic space by learning from massive, noisy datasets of image-text pairs.\n",
        "\n",
        "By mastering these methodologies, you have grasped the foundational principles behind most state-of-the-art vision backbones.\n",
        "\n",
        "In practice, the lines between these approaches are blurring. State-of-the-art research frequently combines them using hybrid loss functions to get the best of all worlds. For instance, a model might combine:\n",
        "\n",
        "- A **contrastive loss** (like CLIP's) to learn high-level semantic understanding.\n",
        "\n",
        "- A **reconstruction loss** (like MAE's) to ensure it also captures fine-grained, pixel-level details.\n",
        "\n",
        "The CoCa paper, which simultaneously performs contrastive and captioning losses, is a prime example.\n",
        "\n",
        "\n"
      ]
    },
    {
      "cell_type": "markdown",
      "metadata": {
        "id": "OlTBiuybNvLz"
      },
      "source": [
        "### Recommended Reading\n",
        "\n",
        "\n",
        "To continue your journey, we highly recommend exploring the original papers that introduced these groundbreaking ideas and related works.\n",
        "\n",
        "- ViT: Dosovitskiy et al. (2020). [An Image is Worth 16x16 Words: Transformers for Image Recognition at Scale.](https://arxiv.org/abs/2010.11929)\n",
        "\n",
        "- MAE: He et al. (2021). [Masked Autoencoders Are Scalable Vision Learners.](https://arxiv.org/abs/2111.06377)\n",
        "\n",
        "- DINO: Caron et al. (2021). [Emerging Properties in Self-Supervised Vision Transformers.](https://arxiv.org/abs/2104.14294)\n",
        "\n",
        "- CLIP: Radford et al. (2021). [Learning Transferable Visual Models From Natural Language Supervision.](https://arxiv.org/abs/2103.00020)\n",
        "\n",
        "- CoCa: Yu et al. (2022). [CoCa: Contrastive Captioners are Image-Text Foundation Models.](https://arxiv.org/abs/2205.01917)\n",
        "\n",
        "- Swin Transformer: Liu et al. (2021). [Swin Transformer: Hierarchical Vision Transformer using Shifted Windows.](https://arxiv.org/abs/2103.14030)\n",
        "\n",
        "- BEiT: Bao et al. (2021). [BEiT: BERT Pre-Training of Image Transformers.](https://arxiv.org/abs/2106.08254)\n",
        "\n",
        "- SimCLR: Chen et al. (2020). [A Simple Framework for Contrastive Learning of Visual Representations.](https://arxiv.org/abs/2002.05709)\n",
        "\n",
        "- MoCo: He et al. (2019). [Momentum Contrast for Unsupervised Visual Representation Learning.](https://arxiv.org/abs/1911.05722)"
      ]
    }
  ],
  "metadata": {
    "colab": {
      "provenance": [],
      "gpuType": "T4"
    },
    "kernelspec": {
      "display_name": "Python 3",
      "name": "python3"
    },
    "language_info": {
      "name": "python"
    },
    "accelerator": "GPU",
    "widgets": {
      "application/vnd.jupyter.widget-state+json": {
        "17c4df684acc498bbb107b72d74be773": {
          "model_module": "@jupyter-widgets/controls",
          "model_name": "HBoxModel",
          "model_module_version": "1.5.0",
          "state": {
            "_dom_classes": [],
            "_model_module": "@jupyter-widgets/controls",
            "_model_module_version": "1.5.0",
            "_model_name": "HBoxModel",
            "_view_count": null,
            "_view_module": "@jupyter-widgets/controls",
            "_view_module_version": "1.5.0",
            "_view_name": "HBoxView",
            "box_style": "",
            "children": [
              "IPY_MODEL_c2ec29dc1d304726969a04a6b42a41fa",
              "IPY_MODEL_c8429f4e1a6f4999bef7f26fc222912b",
              "IPY_MODEL_8457c7c7960e476aa8e6806124b92585"
            ],
            "layout": "IPY_MODEL_c7231d76c6e24357ae2f240be4860143"
          }
        },
        "c2ec29dc1d304726969a04a6b42a41fa": {
          "model_module": "@jupyter-widgets/controls",
          "model_name": "HTMLModel",
          "model_module_version": "1.5.0",
          "state": {
            "_dom_classes": [],
            "_model_module": "@jupyter-widgets/controls",
            "_model_module_version": "1.5.0",
            "_model_name": "HTMLModel",
            "_view_count": null,
            "_view_module": "@jupyter-widgets/controls",
            "_view_module_version": "1.5.0",
            "_view_name": "HTMLView",
            "description": "",
            "description_tooltip": null,
            "layout": "IPY_MODEL_199aba18e4e342b6abdefc1adb904ae1",
            "placeholder": "​",
            "style": "IPY_MODEL_c62029391073456cbbecc8b592bd4d8c",
            "value": "Epoch 1/2: 100%"
          }
        },
        "c8429f4e1a6f4999bef7f26fc222912b": {
          "model_module": "@jupyter-widgets/controls",
          "model_name": "FloatProgressModel",
          "model_module_version": "1.5.0",
          "state": {
            "_dom_classes": [],
            "_model_module": "@jupyter-widgets/controls",
            "_model_module_version": "1.5.0",
            "_model_name": "FloatProgressModel",
            "_view_count": null,
            "_view_module": "@jupyter-widgets/controls",
            "_view_module_version": "1.5.0",
            "_view_name": "ProgressView",
            "bar_style": "success",
            "description": "",
            "description_tooltip": null,
            "layout": "IPY_MODEL_86fe5630c98c4305b777c45848c95464",
            "max": 782,
            "min": 0,
            "orientation": "horizontal",
            "style": "IPY_MODEL_60648e5b532b4ab6bc8ee16b2482ed15",
            "value": 782
          }
        },
        "8457c7c7960e476aa8e6806124b92585": {
          "model_module": "@jupyter-widgets/controls",
          "model_name": "HTMLModel",
          "model_module_version": "1.5.0",
          "state": {
            "_dom_classes": [],
            "_model_module": "@jupyter-widgets/controls",
            "_model_module_version": "1.5.0",
            "_model_name": "HTMLModel",
            "_view_count": null,
            "_view_module": "@jupyter-widgets/controls",
            "_view_module_version": "1.5.0",
            "_view_name": "HTMLView",
            "description": "",
            "description_tooltip": null,
            "layout": "IPY_MODEL_92c80e86db474a608054c21dd531143e",
            "placeholder": "​",
            "style": "IPY_MODEL_e1a1d0e4381244edb9a4348239691d81",
            "value": " 782/782 [01:08&lt;00:00,  2.09s/it, loss=1.6]"
          }
        },
        "c7231d76c6e24357ae2f240be4860143": {
          "model_module": "@jupyter-widgets/base",
          "model_name": "LayoutModel",
          "model_module_version": "1.2.0",
          "state": {
            "_model_module": "@jupyter-widgets/base",
            "_model_module_version": "1.2.0",
            "_model_name": "LayoutModel",
            "_view_count": null,
            "_view_module": "@jupyter-widgets/base",
            "_view_module_version": "1.2.0",
            "_view_name": "LayoutView",
            "align_content": null,
            "align_items": null,
            "align_self": null,
            "border": null,
            "bottom": null,
            "display": null,
            "flex": null,
            "flex_flow": null,
            "grid_area": null,
            "grid_auto_columns": null,
            "grid_auto_flow": null,
            "grid_auto_rows": null,
            "grid_column": null,
            "grid_gap": null,
            "grid_row": null,
            "grid_template_areas": null,
            "grid_template_columns": null,
            "grid_template_rows": null,
            "height": null,
            "justify_content": null,
            "justify_items": null,
            "left": null,
            "margin": null,
            "max_height": null,
            "max_width": null,
            "min_height": null,
            "min_width": null,
            "object_fit": null,
            "object_position": null,
            "order": null,
            "overflow": null,
            "overflow_x": null,
            "overflow_y": null,
            "padding": null,
            "right": null,
            "top": null,
            "visibility": null,
            "width": null
          }
        },
        "199aba18e4e342b6abdefc1adb904ae1": {
          "model_module": "@jupyter-widgets/base",
          "model_name": "LayoutModel",
          "model_module_version": "1.2.0",
          "state": {
            "_model_module": "@jupyter-widgets/base",
            "_model_module_version": "1.2.0",
            "_model_name": "LayoutModel",
            "_view_count": null,
            "_view_module": "@jupyter-widgets/base",
            "_view_module_version": "1.2.0",
            "_view_name": "LayoutView",
            "align_content": null,
            "align_items": null,
            "align_self": null,
            "border": null,
            "bottom": null,
            "display": null,
            "flex": null,
            "flex_flow": null,
            "grid_area": null,
            "grid_auto_columns": null,
            "grid_auto_flow": null,
            "grid_auto_rows": null,
            "grid_column": null,
            "grid_gap": null,
            "grid_row": null,
            "grid_template_areas": null,
            "grid_template_columns": null,
            "grid_template_rows": null,
            "height": null,
            "justify_content": null,
            "justify_items": null,
            "left": null,
            "margin": null,
            "max_height": null,
            "max_width": null,
            "min_height": null,
            "min_width": null,
            "object_fit": null,
            "object_position": null,
            "order": null,
            "overflow": null,
            "overflow_x": null,
            "overflow_y": null,
            "padding": null,
            "right": null,
            "top": null,
            "visibility": null,
            "width": null
          }
        },
        "c62029391073456cbbecc8b592bd4d8c": {
          "model_module": "@jupyter-widgets/controls",
          "model_name": "DescriptionStyleModel",
          "model_module_version": "1.5.0",
          "state": {
            "_model_module": "@jupyter-widgets/controls",
            "_model_module_version": "1.5.0",
            "_model_name": "DescriptionStyleModel",
            "_view_count": null,
            "_view_module": "@jupyter-widgets/base",
            "_view_module_version": "1.2.0",
            "_view_name": "StyleView",
            "description_width": ""
          }
        },
        "86fe5630c98c4305b777c45848c95464": {
          "model_module": "@jupyter-widgets/base",
          "model_name": "LayoutModel",
          "model_module_version": "1.2.0",
          "state": {
            "_model_module": "@jupyter-widgets/base",
            "_model_module_version": "1.2.0",
            "_model_name": "LayoutModel",
            "_view_count": null,
            "_view_module": "@jupyter-widgets/base",
            "_view_module_version": "1.2.0",
            "_view_name": "LayoutView",
            "align_content": null,
            "align_items": null,
            "align_self": null,
            "border": null,
            "bottom": null,
            "display": null,
            "flex": null,
            "flex_flow": null,
            "grid_area": null,
            "grid_auto_columns": null,
            "grid_auto_flow": null,
            "grid_auto_rows": null,
            "grid_column": null,
            "grid_gap": null,
            "grid_row": null,
            "grid_template_areas": null,
            "grid_template_columns": null,
            "grid_template_rows": null,
            "height": null,
            "justify_content": null,
            "justify_items": null,
            "left": null,
            "margin": null,
            "max_height": null,
            "max_width": null,
            "min_height": null,
            "min_width": null,
            "object_fit": null,
            "object_position": null,
            "order": null,
            "overflow": null,
            "overflow_x": null,
            "overflow_y": null,
            "padding": null,
            "right": null,
            "top": null,
            "visibility": null,
            "width": null
          }
        },
        "60648e5b532b4ab6bc8ee16b2482ed15": {
          "model_module": "@jupyter-widgets/controls",
          "model_name": "ProgressStyleModel",
          "model_module_version": "1.5.0",
          "state": {
            "_model_module": "@jupyter-widgets/controls",
            "_model_module_version": "1.5.0",
            "_model_name": "ProgressStyleModel",
            "_view_count": null,
            "_view_module": "@jupyter-widgets/base",
            "_view_module_version": "1.2.0",
            "_view_name": "StyleView",
            "bar_color": null,
            "description_width": ""
          }
        },
        "92c80e86db474a608054c21dd531143e": {
          "model_module": "@jupyter-widgets/base",
          "model_name": "LayoutModel",
          "model_module_version": "1.2.0",
          "state": {
            "_model_module": "@jupyter-widgets/base",
            "_model_module_version": "1.2.0",
            "_model_name": "LayoutModel",
            "_view_count": null,
            "_view_module": "@jupyter-widgets/base",
            "_view_module_version": "1.2.0",
            "_view_name": "LayoutView",
            "align_content": null,
            "align_items": null,
            "align_self": null,
            "border": null,
            "bottom": null,
            "display": null,
            "flex": null,
            "flex_flow": null,
            "grid_area": null,
            "grid_auto_columns": null,
            "grid_auto_flow": null,
            "grid_auto_rows": null,
            "grid_column": null,
            "grid_gap": null,
            "grid_row": null,
            "grid_template_areas": null,
            "grid_template_columns": null,
            "grid_template_rows": null,
            "height": null,
            "justify_content": null,
            "justify_items": null,
            "left": null,
            "margin": null,
            "max_height": null,
            "max_width": null,
            "min_height": null,
            "min_width": null,
            "object_fit": null,
            "object_position": null,
            "order": null,
            "overflow": null,
            "overflow_x": null,
            "overflow_y": null,
            "padding": null,
            "right": null,
            "top": null,
            "visibility": null,
            "width": null
          }
        },
        "e1a1d0e4381244edb9a4348239691d81": {
          "model_module": "@jupyter-widgets/controls",
          "model_name": "DescriptionStyleModel",
          "model_module_version": "1.5.0",
          "state": {
            "_model_module": "@jupyter-widgets/controls",
            "_model_module_version": "1.5.0",
            "_model_name": "DescriptionStyleModel",
            "_view_count": null,
            "_view_module": "@jupyter-widgets/base",
            "_view_module_version": "1.2.0",
            "_view_name": "StyleView",
            "description_width": ""
          }
        },
        "eb88c5c883ec4f2b8199110c4367d1d3": {
          "model_module": "@jupyter-widgets/controls",
          "model_name": "HBoxModel",
          "model_module_version": "1.5.0",
          "state": {
            "_dom_classes": [],
            "_model_module": "@jupyter-widgets/controls",
            "_model_module_version": "1.5.0",
            "_model_name": "HBoxModel",
            "_view_count": null,
            "_view_module": "@jupyter-widgets/controls",
            "_view_module_version": "1.5.0",
            "_view_name": "HBoxView",
            "box_style": "",
            "children": [
              "IPY_MODEL_d3ac0653c3f040d395af7812f484cc17",
              "IPY_MODEL_31953c6eba184830a93123bcb55bebeb",
              "IPY_MODEL_27160648fb5b407b9dd91c31d4824505"
            ],
            "layout": "IPY_MODEL_e3ed0d690c2e4cdb8da11306cbd31554"
          }
        },
        "d3ac0653c3f040d395af7812f484cc17": {
          "model_module": "@jupyter-widgets/controls",
          "model_name": "HTMLModel",
          "model_module_version": "1.5.0",
          "state": {
            "_dom_classes": [],
            "_model_module": "@jupyter-widgets/controls",
            "_model_module_version": "1.5.0",
            "_model_name": "HTMLModel",
            "_view_count": null,
            "_view_module": "@jupyter-widgets/controls",
            "_view_module_version": "1.5.0",
            "_view_name": "HTMLView",
            "description": "",
            "description_tooltip": null,
            "layout": "IPY_MODEL_cd47f0b43ec54f1c87e0a76e18342c6a",
            "placeholder": "​",
            "style": "IPY_MODEL_9cc331489efb424d8bb827995eac1585",
            "value": "Epoch 2/2: 100%"
          }
        },
        "31953c6eba184830a93123bcb55bebeb": {
          "model_module": "@jupyter-widgets/controls",
          "model_name": "FloatProgressModel",
          "model_module_version": "1.5.0",
          "state": {
            "_dom_classes": [],
            "_model_module": "@jupyter-widgets/controls",
            "_model_module_version": "1.5.0",
            "_model_name": "FloatProgressModel",
            "_view_count": null,
            "_view_module": "@jupyter-widgets/controls",
            "_view_module_version": "1.5.0",
            "_view_name": "ProgressView",
            "bar_style": "success",
            "description": "",
            "description_tooltip": null,
            "layout": "IPY_MODEL_742bbca3f60a47f4840e8c630e18bd98",
            "max": 782,
            "min": 0,
            "orientation": "horizontal",
            "style": "IPY_MODEL_190dea2709e540a5bb0d70857a03125c",
            "value": 782
          }
        },
        "27160648fb5b407b9dd91c31d4824505": {
          "model_module": "@jupyter-widgets/controls",
          "model_name": "HTMLModel",
          "model_module_version": "1.5.0",
          "state": {
            "_dom_classes": [],
            "_model_module": "@jupyter-widgets/controls",
            "_model_module_version": "1.5.0",
            "_model_name": "HTMLModel",
            "_view_count": null,
            "_view_module": "@jupyter-widgets/controls",
            "_view_module_version": "1.5.0",
            "_view_name": "HTMLView",
            "description": "",
            "description_tooltip": null,
            "layout": "IPY_MODEL_c89431b2fac44b98b4564620f0f50813",
            "placeholder": "​",
            "style": "IPY_MODEL_cec097760b7847408f23cc150c250d05",
            "value": " 782/782 [00:19&lt;00:00, 44.84it/s, loss=1.76]"
          }
        },
        "e3ed0d690c2e4cdb8da11306cbd31554": {
          "model_module": "@jupyter-widgets/base",
          "model_name": "LayoutModel",
          "model_module_version": "1.2.0",
          "state": {
            "_model_module": "@jupyter-widgets/base",
            "_model_module_version": "1.2.0",
            "_model_name": "LayoutModel",
            "_view_count": null,
            "_view_module": "@jupyter-widgets/base",
            "_view_module_version": "1.2.0",
            "_view_name": "LayoutView",
            "align_content": null,
            "align_items": null,
            "align_self": null,
            "border": null,
            "bottom": null,
            "display": null,
            "flex": null,
            "flex_flow": null,
            "grid_area": null,
            "grid_auto_columns": null,
            "grid_auto_flow": null,
            "grid_auto_rows": null,
            "grid_column": null,
            "grid_gap": null,
            "grid_row": null,
            "grid_template_areas": null,
            "grid_template_columns": null,
            "grid_template_rows": null,
            "height": null,
            "justify_content": null,
            "justify_items": null,
            "left": null,
            "margin": null,
            "max_height": null,
            "max_width": null,
            "min_height": null,
            "min_width": null,
            "object_fit": null,
            "object_position": null,
            "order": null,
            "overflow": null,
            "overflow_x": null,
            "overflow_y": null,
            "padding": null,
            "right": null,
            "top": null,
            "visibility": null,
            "width": null
          }
        },
        "cd47f0b43ec54f1c87e0a76e18342c6a": {
          "model_module": "@jupyter-widgets/base",
          "model_name": "LayoutModel",
          "model_module_version": "1.2.0",
          "state": {
            "_model_module": "@jupyter-widgets/base",
            "_model_module_version": "1.2.0",
            "_model_name": "LayoutModel",
            "_view_count": null,
            "_view_module": "@jupyter-widgets/base",
            "_view_module_version": "1.2.0",
            "_view_name": "LayoutView",
            "align_content": null,
            "align_items": null,
            "align_self": null,
            "border": null,
            "bottom": null,
            "display": null,
            "flex": null,
            "flex_flow": null,
            "grid_area": null,
            "grid_auto_columns": null,
            "grid_auto_flow": null,
            "grid_auto_rows": null,
            "grid_column": null,
            "grid_gap": null,
            "grid_row": null,
            "grid_template_areas": null,
            "grid_template_columns": null,
            "grid_template_rows": null,
            "height": null,
            "justify_content": null,
            "justify_items": null,
            "left": null,
            "margin": null,
            "max_height": null,
            "max_width": null,
            "min_height": null,
            "min_width": null,
            "object_fit": null,
            "object_position": null,
            "order": null,
            "overflow": null,
            "overflow_x": null,
            "overflow_y": null,
            "padding": null,
            "right": null,
            "top": null,
            "visibility": null,
            "width": null
          }
        },
        "9cc331489efb424d8bb827995eac1585": {
          "model_module": "@jupyter-widgets/controls",
          "model_name": "DescriptionStyleModel",
          "model_module_version": "1.5.0",
          "state": {
            "_model_module": "@jupyter-widgets/controls",
            "_model_module_version": "1.5.0",
            "_model_name": "DescriptionStyleModel",
            "_view_count": null,
            "_view_module": "@jupyter-widgets/base",
            "_view_module_version": "1.2.0",
            "_view_name": "StyleView",
            "description_width": ""
          }
        },
        "742bbca3f60a47f4840e8c630e18bd98": {
          "model_module": "@jupyter-widgets/base",
          "model_name": "LayoutModel",
          "model_module_version": "1.2.0",
          "state": {
            "_model_module": "@jupyter-widgets/base",
            "_model_module_version": "1.2.0",
            "_model_name": "LayoutModel",
            "_view_count": null,
            "_view_module": "@jupyter-widgets/base",
            "_view_module_version": "1.2.0",
            "_view_name": "LayoutView",
            "align_content": null,
            "align_items": null,
            "align_self": null,
            "border": null,
            "bottom": null,
            "display": null,
            "flex": null,
            "flex_flow": null,
            "grid_area": null,
            "grid_auto_columns": null,
            "grid_auto_flow": null,
            "grid_auto_rows": null,
            "grid_column": null,
            "grid_gap": null,
            "grid_row": null,
            "grid_template_areas": null,
            "grid_template_columns": null,
            "grid_template_rows": null,
            "height": null,
            "justify_content": null,
            "justify_items": null,
            "left": null,
            "margin": null,
            "max_height": null,
            "max_width": null,
            "min_height": null,
            "min_width": null,
            "object_fit": null,
            "object_position": null,
            "order": null,
            "overflow": null,
            "overflow_x": null,
            "overflow_y": null,
            "padding": null,
            "right": null,
            "top": null,
            "visibility": null,
            "width": null
          }
        },
        "190dea2709e540a5bb0d70857a03125c": {
          "model_module": "@jupyter-widgets/controls",
          "model_name": "ProgressStyleModel",
          "model_module_version": "1.5.0",
          "state": {
            "_model_module": "@jupyter-widgets/controls",
            "_model_module_version": "1.5.0",
            "_model_name": "ProgressStyleModel",
            "_view_count": null,
            "_view_module": "@jupyter-widgets/base",
            "_view_module_version": "1.2.0",
            "_view_name": "StyleView",
            "bar_color": null,
            "description_width": ""
          }
        },
        "c89431b2fac44b98b4564620f0f50813": {
          "model_module": "@jupyter-widgets/base",
          "model_name": "LayoutModel",
          "model_module_version": "1.2.0",
          "state": {
            "_model_module": "@jupyter-widgets/base",
            "_model_module_version": "1.2.0",
            "_model_name": "LayoutModel",
            "_view_count": null,
            "_view_module": "@jupyter-widgets/base",
            "_view_module_version": "1.2.0",
            "_view_name": "LayoutView",
            "align_content": null,
            "align_items": null,
            "align_self": null,
            "border": null,
            "bottom": null,
            "display": null,
            "flex": null,
            "flex_flow": null,
            "grid_area": null,
            "grid_auto_columns": null,
            "grid_auto_flow": null,
            "grid_auto_rows": null,
            "grid_column": null,
            "grid_gap": null,
            "grid_row": null,
            "grid_template_areas": null,
            "grid_template_columns": null,
            "grid_template_rows": null,
            "height": null,
            "justify_content": null,
            "justify_items": null,
            "left": null,
            "margin": null,
            "max_height": null,
            "max_width": null,
            "min_height": null,
            "min_width": null,
            "object_fit": null,
            "object_position": null,
            "order": null,
            "overflow": null,
            "overflow_x": null,
            "overflow_y": null,
            "padding": null,
            "right": null,
            "top": null,
            "visibility": null,
            "width": null
          }
        },
        "cec097760b7847408f23cc150c250d05": {
          "model_module": "@jupyter-widgets/controls",
          "model_name": "DescriptionStyleModel",
          "model_module_version": "1.5.0",
          "state": {
            "_model_module": "@jupyter-widgets/controls",
            "_model_module_version": "1.5.0",
            "_model_name": "DescriptionStyleModel",
            "_view_count": null,
            "_view_module": "@jupyter-widgets/base",
            "_view_module_version": "1.2.0",
            "_view_name": "StyleView",
            "description_width": ""
          }
        }
      }
    }
  },
  "nbformat": 4,
  "nbformat_minor": 0
}